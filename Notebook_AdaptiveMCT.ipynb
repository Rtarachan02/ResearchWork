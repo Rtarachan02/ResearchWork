{
  "cells": [
    {
      "cell_type": "markdown",
      "metadata": {
        "id": "view-in-github",
        "colab_type": "text"
      },
      "source": [
        "<a href=\"https://colab.research.google.com/github/Rtarachan02/ResearchWork/blob/main/Notebook_AdaptiveMCT.ipynb\" target=\"_parent\"><img src=\"https://colab.research.google.com/assets/colab-badge.svg\" alt=\"Open In Colab\"/></a>"
      ]
    },
    {
      "cell_type": "markdown",
      "metadata": {
        "id": "U4CT2jX2l7VG"
      },
      "source": [
        "# Imports"
      ]
    },
    {
      "cell_type": "code",
      "execution_count": null,
      "metadata": {
        "id": "j56bksPjqeqX"
      },
      "outputs": [],
      "source": [
        "import numpy as np\n",
        "import pandas as pd\n",
        "import tensorflow as tf\n",
        "from tensorflow import keras\n"
      ]
    },
    {
      "cell_type": "code",
      "execution_count": null,
      "metadata": {
        "colab": {
          "base_uri": "https://localhost:8080/"
        },
        "id": "8XAE7oCbhj1L",
        "outputId": "9b035330-eddf-4a03-a650-dc309af86e10"
      },
      "outputs": [
        {
          "output_type": "stream",
          "name": "stdout",
          "text": [
            "Drive already mounted at /content/drive; to attempt to forcibly remount, call drive.mount(\"/content/drive\", force_remount=True).\n"
          ]
        }
      ],
      "source": [
        "from google.colab import drive\n",
        "drive.mount('/content/drive')\n"
      ]
    },
    {
      "cell_type": "markdown",
      "metadata": {
        "id": "7LadYc54mQfk"
      },
      "source": [
        "# Datasets()"
      ]
    },
    {
      "cell_type": "markdown",
      "source": [
        "For converting TXT file to CSV file."
      ],
      "metadata": {
        "id": "nMFSDDA0Rriw"
      }
    },
    {
      "cell_type": "markdown",
      "metadata": {
        "id": "wN4DE1GQyKH4"
      },
      "source": [
        "## .txt to .csv 512 x16  or other dims check well"
      ]
    },
    {
      "cell_type": "code",
      "execution_count": null,
      "metadata": {
        "id": "q3qIPFvdmUNS",
        "colab": {
          "base_uri": "https://localhost:8080/"
        },
        "outputId": "2c8b10f1-4f3f-47c2-843e-a0232b7ce16f"
      },
      "outputs": [
        {
          "output_type": "stream",
          "name": "stdout",
          "text": [
            "(1024, 32)\n"
          ]
        }
      ],
      "source": [
        "path='/content/drive/My Drive/FOG AND EDGE/Adaptive MCT/1024x32/A.u_c_hihi'\n",
        "with open(path) as f:\n",
        "    lines = f.readlines()\n",
        "lines=lines[1:]\n",
        "data=[float(x.strip()) for x in lines]\n",
        "# data=lines\n",
        "uslolo=[data[i:i+32] for i in range(0, len(data), 32)]\n",
        "uslolodf=pd.DataFrame(uslolo)\n",
        "print(uslolodf.shape)\n",
        "uslolodf.tail(5)\n",
        "path2='/content/drive/My Drive/FOG AND EDGE/Adaptive MCT/1024x32/A.u_c_hihi.csv'\n",
        "uslolodf.to_csv(path2,index=False)"
      ]
    },
    {
      "cell_type": "markdown",
      "metadata": {
        "id": "E3TIoKeed0-n"
      },
      "source": [
        "## preprocess data"
      ]
    },
    {
      "cell_type": "markdown",
      "source": [
        "string formatis converted to floating point, if any space is there it will be checked."
      ],
      "metadata": {
        "id": "ezGHC9wOS5aq"
      }
    },
    {
      "cell_type": "code",
      "execution_count": null,
      "metadata": {
        "id": "UbYl-toXd5-b"
      },
      "outputs": [],
      "source": [
        "path='/content/drive/My Drive/FOG AND EDGE/Assignment2/u_s_hihi.csv'\n",
        "data = pd.read_csv(path)\n",
        "data=data[:512]\n",
        "data.drop(data.columns[0], axis=1, inplace=True)\n",
        "data.head(25)\n",
        "# data=data[:,1:]\n",
        "data.to_csv(path, index=False)"
      ]
    },
    {
      "cell_type": "markdown",
      "metadata": {
        "id": "KJffxD5DljJ5"
      },
      "source": [
        "## Append All (Optional for merged instances case)"
      ]
    },
    {
      "cell_type": "code",
      "execution_count": null,
      "metadata": {
        "id": "AlihG5Pslmvn"
      },
      "outputs": [],
      "source": [
        "import pandas as pd\n",
        "\n",
        "# List of file paths\n",
        "csv_paths = [\n",
        "    '/content/drive/My Drive/FOG AND EDGE/Assignment2/u_c_lolo.csv',\n",
        "    '/content/drive/My Drive/FOG AND EDGE/Assignment2/u_c_hihi.csv',\n",
        "    '/content/drive/My Drive/FOG AND EDGE/Assignment2/u_c_hilo.csv',\n",
        "    '/content/drive/My Drive/FOG AND EDGE/Assignment2/u_c_lohi.csv',\n",
        "    '/content/drive/My Drive/FOG AND EDGE/Assignment2/u_i_lolo.csv',\n",
        "    '/content/drive/My Drive/FOG AND EDGE/Assignment2/u_i_hihi.csv',\n",
        "    '/content/drive/My Drive/FOG AND EDGE/Assignment2/u_i_hilo.csv',\n",
        "    '/content/drive/My Drive/FOG AND EDGE/Assignment2/u_i_lohi.csv',\n",
        "    '/content/drive/My Drive/FOG AND EDGE/Assignment2/u_s_lolo.csv',\n",
        "    '/content/drive/My Drive/FOG AND EDGE/Assignment2/u_s_hihi.csv',\n",
        "    '/content/drive/My Drive/FOG AND EDGE/Assignment2/u_s_hilo.csv',\n",
        "    '/content/drive/My Drive/FOG AND EDGE/Assignment2/u_s_lohi.csv'\n",
        "]\n",
        "\n",
        "# Read and concatenate all the files in the list\n",
        "merged_df = pd.concat([pd.read_csv(path) for path in csv_paths], ignore_index=True)\n",
        "\n",
        "# Check the last few rows of the merged DataFrame\n",
        "# print(merged_df.tail())\n",
        "# merged_df.tail(25)\n",
        "merged_df=merged_df.drop(merged_df.columns[-1], axis=1)\n",
        "merged_df.head(25)\n",
        "# Save the merged DataFrame to a new CSV file\n",
        "merged_df.to_csv('/content/drive/My Drive/FOG AND EDGE/Assignment2/tasks_machines.csv', index=False)\n"
      ]
    },
    {
      "cell_type": "markdown",
      "source": [
        "# CNN Model"
      ],
      "metadata": {
        "id": "4HRilzDYLtU-"
      }
    },
    {
      "cell_type": "code",
      "source": [
        "!ls 'drive/My Drive/Sanjaya Kumar Panda'"
      ],
      "metadata": {
        "colab": {
          "base_uri": "https://localhost:8080/"
        },
        "id": "GqHKZyVclBw2",
        "outputId": "266925ab-d78c-479e-f00f-e20e45470d92"
      },
      "execution_count": null,
      "outputs": [
        {
          "output_type": "stream",
          "name": "stdout",
          "text": [
            "'Ongoing Papers'\n"
          ]
        }
      ]
    },
    {
      "cell_type": "code",
      "source": [
        "from tensorflow.keras.models import Model\n",
        "from tensorflow.keras.layers import Input, Conv2D, Dense, Flatten\n",
        "from tensorflow.keras.optimizers import Adam\n",
        "\n",
        "class CNNModel:\n",
        "    def __init__(self, input_shape, filters=32, kernel_size=(3, 3), loss='mse'):\n",
        "        self.input_shape = input_shape\n",
        "        self.filters = filters\n",
        "        self.kernel_size = kernel_size\n",
        "        self.loss = loss\n",
        "        self.model = self._build_model()\n",
        "\n",
        "    def _build_model(self, learning_rate=0.001):\n",
        "        input_layer = Input(shape=self.input_shape)\n",
        "        conv = Conv2D(filters=self.filters, kernel_size=self.kernel_size, padding='same', activation='relu')(input_layer)\n",
        "        conv = Conv2D(filters=self.filters, kernel_size=self.kernel_size, padding='same', activation='relu')(conv)\n",
        "        flatten = Flatten()(conv)\n",
        "        output_layer = Dense(16)(flatten)\n",
        "\n",
        "        # Create Adam optimizer with a placeholder learning rate\n",
        "        self.optimizer = Adam(learning_rate=learning_rate)\n",
        "\n",
        "        model = Model(inputs=input_layer, outputs=output_layer)\n",
        "        model.compile(optimizer=self.optimizer, loss=self.loss)\n",
        "        return model\n",
        "\n",
        "    def train(self, X_train, y_train, epochs=200, batch_size=32, validation_split=0.2, learning_rate=0.005):\n",
        "        # Update the learning rate dynamically before training\n",
        "        self.optimizer.learning_rate = learning_rate\n",
        "\n",
        "        # Rebuild the model to apply the new learning rate\n",
        "        self.model = self._build_model(learning_rate=learning_rate)\n",
        "\n",
        "        history = self.model.fit(X_train, y_train, epochs=epochs, batch_size=batch_size, validation_split=validation_split)\n",
        "        return history\n",
        "\n",
        "    def predict(self, X_test):\n",
        "        y_pred = self.model.predict(X_test)\n",
        "        return y_pred\n",
        "\n",
        "    @staticmethod\n",
        "    def create_sliding_windows(data, window_size=10):\n",
        "        X, y = [], []\n",
        "        for i in range(len(data) - window_size):\n",
        "            X.append(data[i:i+window_size])\n",
        "            y.append(data[i+window_size])\n",
        "        return np.array(X), np.array(y)\n"
      ],
      "metadata": {
        "id": "AlDEZkrxLy4q"
      },
      "execution_count": null,
      "outputs": []
    },
    {
      "cell_type": "code",
      "source": [
        "%%capture\n",
        "# path='/content/drive/My Drive/FOG AND EDGE/Adaptive MCT/DataGen/data2.csv'\n",
        "path='/content/drive/My Drive/Sanjaya Kumar Panda/Ongoing Papers/Tara/Adaptive MCT/u_c_hihi.csv'\n",
        "# path='/content/drive/My Drive/Adaptive MCT/u_c_hihi.csv'\n",
        "data_df = pd.read_csv(path)\n",
        "data=data_df.to_numpy()\n",
        "data = np.array(data, dtype=str)\n",
        "data = np.char.strip(data)  #\n",
        "data[data == ''] = '0.0'\n",
        "data=data.astype(float)\n",
        "cnn_model_instance = CNNModel(input_shape=(10, 16,1))\n",
        "X, y = CNNModel.create_sliding_windows(data)\n",
        "cnn_model_instance.train(X, y, epochs=500, batch_size=32, validation_split=0.2)\n",
        "X_test = X  # Replace with actual test data\n",
        "# y_pred = cnn_model_instance.predict(X_test)"
      ],
      "metadata": {
        "id": "42IeSfZHkxQg",
        "colab": {
          "base_uri": "https://localhost:8080/",
          "height": 384
        },
        "outputId": "85f4b1d2-f60e-4d30-9f40-752a875d08c2"
      },
      "execution_count": null,
      "outputs": [
        {
          "output_type": "error",
          "ename": "KeyboardInterrupt",
          "evalue": "",
          "traceback": [
            "\u001b[0;31m---------------------------------------------------------------------------\u001b[0m",
            "\u001b[0;31mKeyboardInterrupt\u001b[0m                         Traceback (most recent call last)",
            "\u001b[0;32m<ipython-input-28-98c288eb7776>\u001b[0m in \u001b[0;36m<cell line: 12>\u001b[0;34m()\u001b[0m\n\u001b[1;32m     10\u001b[0m \u001b[0mcnn_model_instance\u001b[0m \u001b[0;34m=\u001b[0m \u001b[0mCNNModel\u001b[0m\u001b[0;34m(\u001b[0m\u001b[0minput_shape\u001b[0m\u001b[0;34m=\u001b[0m\u001b[0;34m(\u001b[0m\u001b[0;36m10\u001b[0m\u001b[0;34m,\u001b[0m \u001b[0;36m16\u001b[0m\u001b[0;34m,\u001b[0m\u001b[0;36m1\u001b[0m\u001b[0;34m)\u001b[0m\u001b[0;34m)\u001b[0m\u001b[0;34m\u001b[0m\u001b[0;34m\u001b[0m\u001b[0m\n\u001b[1;32m     11\u001b[0m \u001b[0mX\u001b[0m\u001b[0;34m,\u001b[0m \u001b[0my\u001b[0m \u001b[0;34m=\u001b[0m \u001b[0mCNNModel\u001b[0m\u001b[0;34m.\u001b[0m\u001b[0mcreate_sliding_windows\u001b[0m\u001b[0;34m(\u001b[0m\u001b[0mdata\u001b[0m\u001b[0;34m)\u001b[0m\u001b[0;34m\u001b[0m\u001b[0;34m\u001b[0m\u001b[0m\n\u001b[0;32m---> 12\u001b[0;31m \u001b[0mcnn_model_instance\u001b[0m\u001b[0;34m.\u001b[0m\u001b[0mtrain\u001b[0m\u001b[0;34m(\u001b[0m\u001b[0mX\u001b[0m\u001b[0;34m,\u001b[0m \u001b[0my\u001b[0m\u001b[0;34m,\u001b[0m \u001b[0mepochs\u001b[0m\u001b[0;34m=\u001b[0m\u001b[0;36m500\u001b[0m\u001b[0;34m,\u001b[0m \u001b[0mbatch_size\u001b[0m\u001b[0;34m=\u001b[0m\u001b[0;36m32\u001b[0m\u001b[0;34m,\u001b[0m \u001b[0mvalidation_split\u001b[0m\u001b[0;34m=\u001b[0m\u001b[0;36m0.2\u001b[0m\u001b[0;34m)\u001b[0m\u001b[0;34m\u001b[0m\u001b[0;34m\u001b[0m\u001b[0m\n\u001b[0m\u001b[1;32m     13\u001b[0m \u001b[0mX_test\u001b[0m \u001b[0;34m=\u001b[0m \u001b[0mX\u001b[0m  \u001b[0;31m# Replace with actual test data\u001b[0m\u001b[0;34m\u001b[0m\u001b[0;34m\u001b[0m\u001b[0m\n\u001b[1;32m     14\u001b[0m \u001b[0;31m# y_pred = cnn_model_instance.predict(X_test)\u001b[0m\u001b[0;34m\u001b[0m\u001b[0;34m\u001b[0m\u001b[0m\n",
            "\u001b[0;32m<ipython-input-27-b6541deee620>\u001b[0m in \u001b[0;36mtrain\u001b[0;34m(self, X_train, y_train, epochs, batch_size, validation_split, learning_rate)\u001b[0m\n\u001b[1;32m     32\u001b[0m         \u001b[0mself\u001b[0m\u001b[0;34m.\u001b[0m\u001b[0mmodel\u001b[0m \u001b[0;34m=\u001b[0m \u001b[0mself\u001b[0m\u001b[0;34m.\u001b[0m\u001b[0m_build_model\u001b[0m\u001b[0;34m(\u001b[0m\u001b[0mlearning_rate\u001b[0m\u001b[0;34m=\u001b[0m\u001b[0mlearning_rate\u001b[0m\u001b[0;34m)\u001b[0m\u001b[0;34m\u001b[0m\u001b[0;34m\u001b[0m\u001b[0m\n\u001b[1;32m     33\u001b[0m \u001b[0;34m\u001b[0m\u001b[0m\n\u001b[0;32m---> 34\u001b[0;31m         \u001b[0mhistory\u001b[0m \u001b[0;34m=\u001b[0m \u001b[0mself\u001b[0m\u001b[0;34m.\u001b[0m\u001b[0mmodel\u001b[0m\u001b[0;34m.\u001b[0m\u001b[0mfit\u001b[0m\u001b[0;34m(\u001b[0m\u001b[0mX_train\u001b[0m\u001b[0;34m,\u001b[0m \u001b[0my_train\u001b[0m\u001b[0;34m,\u001b[0m \u001b[0mepochs\u001b[0m\u001b[0;34m=\u001b[0m\u001b[0mepochs\u001b[0m\u001b[0;34m,\u001b[0m \u001b[0mbatch_size\u001b[0m\u001b[0;34m=\u001b[0m\u001b[0mbatch_size\u001b[0m\u001b[0;34m,\u001b[0m \u001b[0mvalidation_split\u001b[0m\u001b[0;34m=\u001b[0m\u001b[0mvalidation_split\u001b[0m\u001b[0;34m)\u001b[0m\u001b[0;34m\u001b[0m\u001b[0;34m\u001b[0m\u001b[0m\n\u001b[0m\u001b[1;32m     35\u001b[0m         \u001b[0;32mreturn\u001b[0m \u001b[0mhistory\u001b[0m\u001b[0;34m\u001b[0m\u001b[0;34m\u001b[0m\u001b[0m\n\u001b[1;32m     36\u001b[0m \u001b[0;34m\u001b[0m\u001b[0m\n",
            "\u001b[0;32m/usr/local/lib/python3.10/dist-packages/keras/src/utils/traceback_utils.py\u001b[0m in \u001b[0;36merror_handler\u001b[0;34m(*args, **kwargs)\u001b[0m\n\u001b[1;32m    115\u001b[0m         \u001b[0mfiltered_tb\u001b[0m \u001b[0;34m=\u001b[0m \u001b[0;32mNone\u001b[0m\u001b[0;34m\u001b[0m\u001b[0;34m\u001b[0m\u001b[0m\n\u001b[1;32m    116\u001b[0m         \u001b[0;32mtry\u001b[0m\u001b[0;34m:\u001b[0m\u001b[0;34m\u001b[0m\u001b[0;34m\u001b[0m\u001b[0m\n\u001b[0;32m--> 117\u001b[0;31m             \u001b[0;32mreturn\u001b[0m \u001b[0mfn\u001b[0m\u001b[0;34m(\u001b[0m\u001b[0;34m*\u001b[0m\u001b[0margs\u001b[0m\u001b[0;34m,\u001b[0m \u001b[0;34m**\u001b[0m\u001b[0mkwargs\u001b[0m\u001b[0;34m)\u001b[0m\u001b[0;34m\u001b[0m\u001b[0;34m\u001b[0m\u001b[0m\n\u001b[0m\u001b[1;32m    118\u001b[0m         \u001b[0;32mexcept\u001b[0m \u001b[0mException\u001b[0m \u001b[0;32mas\u001b[0m \u001b[0me\u001b[0m\u001b[0;34m:\u001b[0m\u001b[0;34m\u001b[0m\u001b[0;34m\u001b[0m\u001b[0m\n\u001b[1;32m    119\u001b[0m             \u001b[0mfiltered_tb\u001b[0m \u001b[0;34m=\u001b[0m \u001b[0m_process_traceback_frames\u001b[0m\u001b[0;34m(\u001b[0m\u001b[0me\u001b[0m\u001b[0;34m.\u001b[0m\u001b[0m__traceback__\u001b[0m\u001b[0;34m)\u001b[0m\u001b[0;34m\u001b[0m\u001b[0;34m\u001b[0m\u001b[0m\n",
            "\u001b[0;32m/usr/local/lib/python3.10/dist-packages/keras/src/backend/tensorflow/trainer.py\u001b[0m in \u001b[0;36mfit\u001b[0;34m(self, x, y, batch_size, epochs, verbose, callbacks, validation_split, validation_data, shuffle, class_weight, sample_weight, initial_epoch, steps_per_epoch, validation_steps, validation_batch_size, validation_freq)\u001b[0m\n\u001b[1;32m    316\u001b[0m                 \u001b[0;32mfor\u001b[0m \u001b[0mstep\u001b[0m\u001b[0;34m,\u001b[0m \u001b[0miterator\u001b[0m \u001b[0;32min\u001b[0m \u001b[0mepoch_iterator\u001b[0m\u001b[0;34m.\u001b[0m\u001b[0menumerate_epoch\u001b[0m\u001b[0;34m(\u001b[0m\u001b[0;34m)\u001b[0m\u001b[0;34m:\u001b[0m\u001b[0;34m\u001b[0m\u001b[0;34m\u001b[0m\u001b[0m\n\u001b[1;32m    317\u001b[0m                     \u001b[0mcallbacks\u001b[0m\u001b[0;34m.\u001b[0m\u001b[0mon_train_batch_begin\u001b[0m\u001b[0;34m(\u001b[0m\u001b[0mstep\u001b[0m\u001b[0;34m)\u001b[0m\u001b[0;34m\u001b[0m\u001b[0;34m\u001b[0m\u001b[0m\n\u001b[0;32m--> 318\u001b[0;31m                     \u001b[0mlogs\u001b[0m \u001b[0;34m=\u001b[0m \u001b[0mself\u001b[0m\u001b[0;34m.\u001b[0m\u001b[0mtrain_function\u001b[0m\u001b[0;34m(\u001b[0m\u001b[0miterator\u001b[0m\u001b[0;34m)\u001b[0m\u001b[0;34m\u001b[0m\u001b[0;34m\u001b[0m\u001b[0m\n\u001b[0m\u001b[1;32m    319\u001b[0m                     \u001b[0mlogs\u001b[0m \u001b[0;34m=\u001b[0m \u001b[0mself\u001b[0m\u001b[0;34m.\u001b[0m\u001b[0m_pythonify_logs\u001b[0m\u001b[0;34m(\u001b[0m\u001b[0mlogs\u001b[0m\u001b[0;34m)\u001b[0m\u001b[0;34m\u001b[0m\u001b[0;34m\u001b[0m\u001b[0m\n\u001b[1;32m    320\u001b[0m                     \u001b[0mcallbacks\u001b[0m\u001b[0;34m.\u001b[0m\u001b[0mon_train_batch_end\u001b[0m\u001b[0;34m(\u001b[0m\u001b[0mstep\u001b[0m\u001b[0;34m,\u001b[0m \u001b[0mlogs\u001b[0m\u001b[0;34m)\u001b[0m\u001b[0;34m\u001b[0m\u001b[0;34m\u001b[0m\u001b[0m\n",
            "\u001b[0;32m/usr/local/lib/python3.10/dist-packages/tensorflow/python/util/traceback_utils.py\u001b[0m in \u001b[0;36merror_handler\u001b[0;34m(*args, **kwargs)\u001b[0m\n\u001b[1;32m    148\u001b[0m     \u001b[0mfiltered_tb\u001b[0m \u001b[0;34m=\u001b[0m \u001b[0;32mNone\u001b[0m\u001b[0;34m\u001b[0m\u001b[0;34m\u001b[0m\u001b[0m\n\u001b[1;32m    149\u001b[0m     \u001b[0;32mtry\u001b[0m\u001b[0;34m:\u001b[0m\u001b[0;34m\u001b[0m\u001b[0;34m\u001b[0m\u001b[0m\n\u001b[0;32m--> 150\u001b[0;31m       \u001b[0;32mreturn\u001b[0m \u001b[0mfn\u001b[0m\u001b[0;34m(\u001b[0m\u001b[0;34m*\u001b[0m\u001b[0margs\u001b[0m\u001b[0;34m,\u001b[0m \u001b[0;34m**\u001b[0m\u001b[0mkwargs\u001b[0m\u001b[0;34m)\u001b[0m\u001b[0;34m\u001b[0m\u001b[0;34m\u001b[0m\u001b[0m\n\u001b[0m\u001b[1;32m    151\u001b[0m     \u001b[0;32mexcept\u001b[0m \u001b[0mException\u001b[0m \u001b[0;32mas\u001b[0m \u001b[0me\u001b[0m\u001b[0;34m:\u001b[0m\u001b[0;34m\u001b[0m\u001b[0;34m\u001b[0m\u001b[0m\n\u001b[1;32m    152\u001b[0m       \u001b[0mfiltered_tb\u001b[0m \u001b[0;34m=\u001b[0m \u001b[0m_process_traceback_frames\u001b[0m\u001b[0;34m(\u001b[0m\u001b[0me\u001b[0m\u001b[0;34m.\u001b[0m\u001b[0m__traceback__\u001b[0m\u001b[0;34m)\u001b[0m\u001b[0;34m\u001b[0m\u001b[0;34m\u001b[0m\u001b[0m\n",
            "\u001b[0;32m/usr/local/lib/python3.10/dist-packages/tensorflow/python/eager/polymorphic_function/polymorphic_function.py\u001b[0m in \u001b[0;36m__call__\u001b[0;34m(self, *args, **kwds)\u001b[0m\n\u001b[1;32m    831\u001b[0m \u001b[0;34m\u001b[0m\u001b[0m\n\u001b[1;32m    832\u001b[0m       \u001b[0;32mwith\u001b[0m \u001b[0mOptionalXlaContext\u001b[0m\u001b[0;34m(\u001b[0m\u001b[0mself\u001b[0m\u001b[0;34m.\u001b[0m\u001b[0m_jit_compile\u001b[0m\u001b[0;34m)\u001b[0m\u001b[0;34m:\u001b[0m\u001b[0;34m\u001b[0m\u001b[0;34m\u001b[0m\u001b[0m\n\u001b[0;32m--> 833\u001b[0;31m         \u001b[0mresult\u001b[0m \u001b[0;34m=\u001b[0m \u001b[0mself\u001b[0m\u001b[0;34m.\u001b[0m\u001b[0m_call\u001b[0m\u001b[0;34m(\u001b[0m\u001b[0;34m*\u001b[0m\u001b[0margs\u001b[0m\u001b[0;34m,\u001b[0m \u001b[0;34m**\u001b[0m\u001b[0mkwds\u001b[0m\u001b[0;34m)\u001b[0m\u001b[0;34m\u001b[0m\u001b[0;34m\u001b[0m\u001b[0m\n\u001b[0m\u001b[1;32m    834\u001b[0m \u001b[0;34m\u001b[0m\u001b[0m\n\u001b[1;32m    835\u001b[0m       \u001b[0mnew_tracing_count\u001b[0m \u001b[0;34m=\u001b[0m \u001b[0mself\u001b[0m\u001b[0;34m.\u001b[0m\u001b[0mexperimental_get_tracing_count\u001b[0m\u001b[0;34m(\u001b[0m\u001b[0;34m)\u001b[0m\u001b[0;34m\u001b[0m\u001b[0;34m\u001b[0m\u001b[0m\n",
            "\u001b[0;32m/usr/local/lib/python3.10/dist-packages/tensorflow/python/eager/polymorphic_function/polymorphic_function.py\u001b[0m in \u001b[0;36m_call\u001b[0;34m(self, *args, **kwds)\u001b[0m\n\u001b[1;32m    876\u001b[0m       \u001b[0;31m# In this case we have not created variables on the first call. So we can\u001b[0m\u001b[0;34m\u001b[0m\u001b[0;34m\u001b[0m\u001b[0m\n\u001b[1;32m    877\u001b[0m       \u001b[0;31m# run the first trace but we should fail if variables are created.\u001b[0m\u001b[0;34m\u001b[0m\u001b[0;34m\u001b[0m\u001b[0m\n\u001b[0;32m--> 878\u001b[0;31m       results = tracing_compilation.call_function(\n\u001b[0m\u001b[1;32m    879\u001b[0m           \u001b[0margs\u001b[0m\u001b[0;34m,\u001b[0m \u001b[0mkwds\u001b[0m\u001b[0;34m,\u001b[0m \u001b[0mself\u001b[0m\u001b[0;34m.\u001b[0m\u001b[0m_variable_creation_config\u001b[0m\u001b[0;34m\u001b[0m\u001b[0;34m\u001b[0m\u001b[0m\n\u001b[1;32m    880\u001b[0m       )\n",
            "\u001b[0;32m/usr/local/lib/python3.10/dist-packages/tensorflow/python/eager/polymorphic_function/tracing_compilation.py\u001b[0m in \u001b[0;36mcall_function\u001b[0;34m(args, kwargs, tracing_options)\u001b[0m\n\u001b[1;32m    137\u001b[0m   \u001b[0mbound_args\u001b[0m \u001b[0;34m=\u001b[0m \u001b[0mfunction\u001b[0m\u001b[0;34m.\u001b[0m\u001b[0mfunction_type\u001b[0m\u001b[0;34m.\u001b[0m\u001b[0mbind\u001b[0m\u001b[0;34m(\u001b[0m\u001b[0;34m*\u001b[0m\u001b[0margs\u001b[0m\u001b[0;34m,\u001b[0m \u001b[0;34m**\u001b[0m\u001b[0mkwargs\u001b[0m\u001b[0;34m)\u001b[0m\u001b[0;34m\u001b[0m\u001b[0;34m\u001b[0m\u001b[0m\n\u001b[1;32m    138\u001b[0m   \u001b[0mflat_inputs\u001b[0m \u001b[0;34m=\u001b[0m \u001b[0mfunction\u001b[0m\u001b[0;34m.\u001b[0m\u001b[0mfunction_type\u001b[0m\u001b[0;34m.\u001b[0m\u001b[0munpack_inputs\u001b[0m\u001b[0;34m(\u001b[0m\u001b[0mbound_args\u001b[0m\u001b[0;34m)\u001b[0m\u001b[0;34m\u001b[0m\u001b[0;34m\u001b[0m\u001b[0m\n\u001b[0;32m--> 139\u001b[0;31m   return function._call_flat(  # pylint: disable=protected-access\n\u001b[0m\u001b[1;32m    140\u001b[0m       \u001b[0mflat_inputs\u001b[0m\u001b[0;34m,\u001b[0m \u001b[0mcaptured_inputs\u001b[0m\u001b[0;34m=\u001b[0m\u001b[0mfunction\u001b[0m\u001b[0;34m.\u001b[0m\u001b[0mcaptured_inputs\u001b[0m\u001b[0;34m\u001b[0m\u001b[0;34m\u001b[0m\u001b[0m\n\u001b[1;32m    141\u001b[0m   )\n",
            "\u001b[0;32m/usr/local/lib/python3.10/dist-packages/tensorflow/python/eager/polymorphic_function/concrete_function.py\u001b[0m in \u001b[0;36m_call_flat\u001b[0;34m(self, tensor_inputs, captured_inputs)\u001b[0m\n\u001b[1;32m   1320\u001b[0m         and executing_eagerly):\n\u001b[1;32m   1321\u001b[0m       \u001b[0;31m# No tape is watching; skip to running the function.\u001b[0m\u001b[0;34m\u001b[0m\u001b[0;34m\u001b[0m\u001b[0m\n\u001b[0;32m-> 1322\u001b[0;31m       \u001b[0;32mreturn\u001b[0m \u001b[0mself\u001b[0m\u001b[0;34m.\u001b[0m\u001b[0m_inference_function\u001b[0m\u001b[0;34m.\u001b[0m\u001b[0mcall_preflattened\u001b[0m\u001b[0;34m(\u001b[0m\u001b[0margs\u001b[0m\u001b[0;34m)\u001b[0m\u001b[0;34m\u001b[0m\u001b[0;34m\u001b[0m\u001b[0m\n\u001b[0m\u001b[1;32m   1323\u001b[0m     forward_backward = self._select_forward_and_backward_functions(\n\u001b[1;32m   1324\u001b[0m         \u001b[0margs\u001b[0m\u001b[0;34m,\u001b[0m\u001b[0;34m\u001b[0m\u001b[0;34m\u001b[0m\u001b[0m\n",
            "\u001b[0;32m/usr/local/lib/python3.10/dist-packages/tensorflow/python/eager/polymorphic_function/atomic_function.py\u001b[0m in \u001b[0;36mcall_preflattened\u001b[0;34m(self, args)\u001b[0m\n\u001b[1;32m    214\u001b[0m   \u001b[0;32mdef\u001b[0m \u001b[0mcall_preflattened\u001b[0m\u001b[0;34m(\u001b[0m\u001b[0mself\u001b[0m\u001b[0;34m,\u001b[0m \u001b[0margs\u001b[0m\u001b[0;34m:\u001b[0m \u001b[0mSequence\u001b[0m\u001b[0;34m[\u001b[0m\u001b[0mcore\u001b[0m\u001b[0;34m.\u001b[0m\u001b[0mTensor\u001b[0m\u001b[0;34m]\u001b[0m\u001b[0;34m)\u001b[0m \u001b[0;34m->\u001b[0m \u001b[0mAny\u001b[0m\u001b[0;34m:\u001b[0m\u001b[0;34m\u001b[0m\u001b[0;34m\u001b[0m\u001b[0m\n\u001b[1;32m    215\u001b[0m     \u001b[0;34m\"\"\"Calls with flattened tensor inputs and returns the structured output.\"\"\"\u001b[0m\u001b[0;34m\u001b[0m\u001b[0;34m\u001b[0m\u001b[0m\n\u001b[0;32m--> 216\u001b[0;31m     \u001b[0mflat_outputs\u001b[0m \u001b[0;34m=\u001b[0m \u001b[0mself\u001b[0m\u001b[0;34m.\u001b[0m\u001b[0mcall_flat\u001b[0m\u001b[0;34m(\u001b[0m\u001b[0;34m*\u001b[0m\u001b[0margs\u001b[0m\u001b[0;34m)\u001b[0m\u001b[0;34m\u001b[0m\u001b[0;34m\u001b[0m\u001b[0m\n\u001b[0m\u001b[1;32m    217\u001b[0m     \u001b[0;32mreturn\u001b[0m \u001b[0mself\u001b[0m\u001b[0;34m.\u001b[0m\u001b[0mfunction_type\u001b[0m\u001b[0;34m.\u001b[0m\u001b[0mpack_output\u001b[0m\u001b[0;34m(\u001b[0m\u001b[0mflat_outputs\u001b[0m\u001b[0;34m)\u001b[0m\u001b[0;34m\u001b[0m\u001b[0;34m\u001b[0m\u001b[0m\n\u001b[1;32m    218\u001b[0m \u001b[0;34m\u001b[0m\u001b[0m\n",
            "\u001b[0;32m/usr/local/lib/python3.10/dist-packages/tensorflow/python/eager/polymorphic_function/atomic_function.py\u001b[0m in \u001b[0;36mcall_flat\u001b[0;34m(self, *args)\u001b[0m\n\u001b[1;32m    249\u001b[0m         \u001b[0;32mwith\u001b[0m \u001b[0mrecord\u001b[0m\u001b[0;34m.\u001b[0m\u001b[0mstop_recording\u001b[0m\u001b[0;34m(\u001b[0m\u001b[0;34m)\u001b[0m\u001b[0;34m:\u001b[0m\u001b[0;34m\u001b[0m\u001b[0;34m\u001b[0m\u001b[0m\n\u001b[1;32m    250\u001b[0m           \u001b[0;32mif\u001b[0m \u001b[0mself\u001b[0m\u001b[0;34m.\u001b[0m\u001b[0m_bound_context\u001b[0m\u001b[0;34m.\u001b[0m\u001b[0mexecuting_eagerly\u001b[0m\u001b[0;34m(\u001b[0m\u001b[0;34m)\u001b[0m\u001b[0;34m:\u001b[0m\u001b[0;34m\u001b[0m\u001b[0;34m\u001b[0m\u001b[0m\n\u001b[0;32m--> 251\u001b[0;31m             outputs = self._bound_context.call_function(\n\u001b[0m\u001b[1;32m    252\u001b[0m                 \u001b[0mself\u001b[0m\u001b[0;34m.\u001b[0m\u001b[0mname\u001b[0m\u001b[0;34m,\u001b[0m\u001b[0;34m\u001b[0m\u001b[0;34m\u001b[0m\u001b[0m\n\u001b[1;32m    253\u001b[0m                 \u001b[0mlist\u001b[0m\u001b[0;34m(\u001b[0m\u001b[0margs\u001b[0m\u001b[0;34m)\u001b[0m\u001b[0;34m,\u001b[0m\u001b[0;34m\u001b[0m\u001b[0;34m\u001b[0m\u001b[0m\n",
            "\u001b[0;32m/usr/local/lib/python3.10/dist-packages/tensorflow/python/eager/context.py\u001b[0m in \u001b[0;36mcall_function\u001b[0;34m(self, name, tensor_inputs, num_outputs)\u001b[0m\n\u001b[1;32m   1550\u001b[0m     \u001b[0mcancellation_context\u001b[0m \u001b[0;34m=\u001b[0m \u001b[0mcancellation\u001b[0m\u001b[0;34m.\u001b[0m\u001b[0mcontext\u001b[0m\u001b[0;34m(\u001b[0m\u001b[0;34m)\u001b[0m\u001b[0;34m\u001b[0m\u001b[0;34m\u001b[0m\u001b[0m\n\u001b[1;32m   1551\u001b[0m     \u001b[0;32mif\u001b[0m \u001b[0mcancellation_context\u001b[0m \u001b[0;32mis\u001b[0m \u001b[0;32mNone\u001b[0m\u001b[0;34m:\u001b[0m\u001b[0;34m\u001b[0m\u001b[0;34m\u001b[0m\u001b[0m\n\u001b[0;32m-> 1552\u001b[0;31m       outputs = execute.execute(\n\u001b[0m\u001b[1;32m   1553\u001b[0m           \u001b[0mname\u001b[0m\u001b[0;34m.\u001b[0m\u001b[0mdecode\u001b[0m\u001b[0;34m(\u001b[0m\u001b[0;34m\"utf-8\"\u001b[0m\u001b[0;34m)\u001b[0m\u001b[0;34m,\u001b[0m\u001b[0;34m\u001b[0m\u001b[0;34m\u001b[0m\u001b[0m\n\u001b[1;32m   1554\u001b[0m           \u001b[0mnum_outputs\u001b[0m\u001b[0;34m=\u001b[0m\u001b[0mnum_outputs\u001b[0m\u001b[0;34m,\u001b[0m\u001b[0;34m\u001b[0m\u001b[0;34m\u001b[0m\u001b[0m\n",
            "\u001b[0;32m/usr/local/lib/python3.10/dist-packages/tensorflow/python/eager/execute.py\u001b[0m in \u001b[0;36mquick_execute\u001b[0;34m(op_name, num_outputs, inputs, attrs, ctx, name)\u001b[0m\n\u001b[1;32m     51\u001b[0m   \u001b[0;32mtry\u001b[0m\u001b[0;34m:\u001b[0m\u001b[0;34m\u001b[0m\u001b[0;34m\u001b[0m\u001b[0m\n\u001b[1;32m     52\u001b[0m     \u001b[0mctx\u001b[0m\u001b[0;34m.\u001b[0m\u001b[0mensure_initialized\u001b[0m\u001b[0;34m(\u001b[0m\u001b[0;34m)\u001b[0m\u001b[0;34m\u001b[0m\u001b[0;34m\u001b[0m\u001b[0m\n\u001b[0;32m---> 53\u001b[0;31m     tensors = pywrap_tfe.TFE_Py_Execute(ctx._handle, device_name, op_name,\n\u001b[0m\u001b[1;32m     54\u001b[0m                                         inputs, attrs, num_outputs)\n\u001b[1;32m     55\u001b[0m   \u001b[0;32mexcept\u001b[0m \u001b[0mcore\u001b[0m\u001b[0;34m.\u001b[0m\u001b[0m_NotOkStatusException\u001b[0m \u001b[0;32mas\u001b[0m \u001b[0me\u001b[0m\u001b[0;34m:\u001b[0m\u001b[0;34m\u001b[0m\u001b[0;34m\u001b[0m\u001b[0m\n",
            "\u001b[0;31mKeyboardInterrupt\u001b[0m: "
          ]
        }
      ]
    },
    {
      "cell_type": "code",
      "source": [
        "X_test = X  # Replace with actual test data\n",
        "y_pred = cnn_model_instance.predict(X_test)\n",
        "print(y_pred[0])"
      ],
      "metadata": {
        "colab": {
          "base_uri": "https://localhost:8080/"
        },
        "id": "UhuK7-_alQ0n",
        "outputId": "8aacfd00-1b9e-43c9-c4a7-8b352d9785ab"
      },
      "execution_count": null,
      "outputs": [
        {
          "output_type": "stream",
          "name": "stdout",
          "text": [
            "\u001b[1m16/16\u001b[0m \u001b[32m━━━━━━━━━━━━━━━━━━━━\u001b[0m\u001b[37m\u001b[0m \u001b[1m0s\u001b[0m 11ms/step\n",
            "[  11809.727  304252.25   524484.94   904485.56   961816.2   1122293.5\n",
            " 1149944.2   1589249.1   1883334.1   1892437.6   1936501.4   1973629.9\n",
            " 2250294.8   2409231.8   2470604.2   2687712.2  ]\n"
          ]
        }
      ]
    },
    {
      "cell_type": "markdown",
      "source": [
        "# ConvLSTM Model"
      ],
      "metadata": {
        "id": "plmlFjaEL1f6"
      }
    },
    {
      "cell_type": "code",
      "source": [
        "from tensorflow.keras.models import Model\n",
        "from tensorflow.keras.layers import Input, ConvLSTM2D, Dense, Flatten\n",
        "from tensorflow.keras.optimizers import Adam\n",
        "\n",
        "class ConvLSTMModel:\n",
        "    def __init__(self, input_shape, filters=32, kernel_size=(3, 1), loss='mse'):\n",
        "        self.input_shape = input_shape\n",
        "        self.filters = filters\n",
        "        self.kernel_size = kernel_size\n",
        "        self.loss = loss\n",
        "        self.model = self._build_model()\n",
        "\n",
        "    def _build_model(self, learning_rate=0.001):\n",
        "        input_layer = Input(shape=self.input_shape)\n",
        "        # Using ConvLSTM2D for capturing spatial and temporal information\n",
        "        conv_lstm = ConvLSTM2D(filters=self.filters, kernel_size=self.kernel_size, padding='same', activation='relu', return_sequences=True)(input_layer)\n",
        "        conv_lstm = ConvLSTM2D(filters=self.filters, kernel_size=self.kernel_size, padding='same', activation='relu')(conv_lstm)\n",
        "        flatten = Flatten()(conv_lstm)\n",
        "        output_layer = Dense(16)(flatten)\n",
        "\n",
        "        # Create Adam optimizer with a placeholder learning rate\n",
        "        self.optimizer = Adam(learning_rate=learning_rate)\n",
        "\n",
        "        model = Model(inputs=input_layer, outputs=output_layer)\n",
        "        model.compile(optimizer=self.optimizer, loss=self.loss)\n",
        "        return model\n",
        "\n",
        "    def train(self, X_train, y_train, epochs=200, batch_size=32, validation_split=0.2, learning_rate=0.005):\n",
        "        # Update the learning rate dynamically before training\n",
        "        self.optimizer.learning_rate = learning_rate\n",
        "\n",
        "        # Rebuild the model to apply the new learning rate\n",
        "        self.model = self._build_model(learning_rate=learning_rate)\n",
        "\n",
        "        history = self.model.fit(X_train, y_train, epochs=epochs, batch_size=batch_size, validation_split=validation_split)\n",
        "        return history\n",
        "\n",
        "    def predict(self, X_test):\n",
        "        y_pred = self.model.predict(X_test)\n",
        "        return y_pred\n",
        "\n",
        "    @staticmethod\n",
        "    def create_sliding_windows(data, window_size=10):\n",
        "        X, y = [], []\n",
        "        for i in range(len(data) - window_size):\n",
        "            X.append(data[i:i+window_size])\n",
        "            y.append(data[i+window_size])\n",
        "        return np.array(X), np.array(y)\n"
      ],
      "metadata": {
        "id": "qedmqw6LL61m"
      },
      "execution_count": null,
      "outputs": []
    },
    {
      "cell_type": "code",
      "source": [
        "%%capture\n",
        "# path='/content/drive/My Drive/FOG AND EDGE/Adaptive MCT/DataGen/data2.csv'\n",
        "path='/content/drive/My Drive/FOG AND EDGE/Adaptive MCT/u_c_hihi.csv'\n",
        "data_df = pd.read_csv(path)\n",
        "data=data_df.to_numpy()\n",
        "data = np.array(data, dtype=str)\n",
        "data = np.char.strip(data)  #\n",
        "data[data == ''] = '0.0'\n",
        "data=data.astype(float)\n",
        "convlstm_model_instance = ConvLSTMModel(input_shape=(10, 16,1,1))\n",
        "X, y = ConvLSTMModel.create_sliding_windows(data)\n",
        "X = X.reshape(X.size//160, 10, 16, 1, 1)\n",
        "convlstm_model_instance.train(X, y, epochs=200, batch_size=32, validation_split=0.2)\n",
        "X_test = X  # Replace with actual test data\n",
        "# y_pred = convlstm_model_instance.predict(X_test)\n"
      ],
      "metadata": {
        "id": "6d5Jx4ojliUO"
      },
      "execution_count": null,
      "outputs": []
    },
    {
      "cell_type": "code",
      "source": [
        "X_test = X  # Replace with actual test data\n",
        "y_pred = convlstm_model_instance.predict(X_test)\n",
        "print(y_pred[0])"
      ],
      "metadata": {
        "colab": {
          "base_uri": "https://localhost:8080/"
        },
        "id": "D92nGrnuo_Xs",
        "outputId": "667076bc-7fd5-4ac9-d11a-4951cdd44ebf"
      },
      "execution_count": null,
      "outputs": [
        {
          "output_type": "stream",
          "name": "stdout",
          "text": [
            "\u001b[1m16/16\u001b[0m \u001b[32m━━━━━━━━━━━━━━━━━━━━\u001b[0m\u001b[37m\u001b[0m \u001b[1m1s\u001b[0m 59ms/step\n",
            "[  93531.06  173828.33  255149.14  356616.2   436332.72  509989.28\n",
            "  567891.44  659520.44  743520.2   804809.3   897672.44  974077.94\n",
            " 1065892.4  1145219.5  1221060.5  1307839.6 ]\n"
          ]
        }
      ]
    },
    {
      "cell_type": "markdown",
      "metadata": {
        "id": "nVwQiukKSqX4"
      },
      "source": [
        "# TCNN Model"
      ]
    },
    {
      "cell_type": "code",
      "execution_count": null,
      "metadata": {
        "id": "9hbDjKBJSuLN"
      },
      "outputs": [],
      "source": [
        "from tensorflow.keras.models import Model\n",
        "from tensorflow.keras.layers import Input, Conv1D, Dense, Flatten\n",
        "from tensorflow.keras.optimizers import Adam\n",
        "\n",
        "class TCNNModel:\n",
        "    def __init__(self, input_shape, filters=32, kernel_size=2, loss='mse'):\n",
        "        self.input_shape = input_shape\n",
        "        self.filters = filters\n",
        "        self.kernel_size = kernel_size\n",
        "        self.loss = loss\n",
        "        self.model = self._build_model()\n",
        "\n",
        "    def _build_model(self, learning_rate=0.001):\n",
        "        input_layer = Input(shape=self.input_shape)\n",
        "        conv = Conv1D(filters=self.filters, kernel_size=self.kernel_size, padding='causal', activation='relu')(input_layer)\n",
        "        conv = Conv1D(filters=self.filters, kernel_size=self.kernel_size, padding='causal', activation='relu')(conv)\n",
        "        flatten = Flatten()(conv)\n",
        "        output_layer = Dense(16)(flatten)\n",
        "\n",
        "        # Create Adam optimizer with a placeholder learning rate\n",
        "        self.optimizer = Adam(learning_rate=learning_rate)\n",
        "\n",
        "        model = Model(inputs=input_layer, outputs=output_layer)\n",
        "        model.compile(optimizer=self.optimizer, loss=self.loss)\n",
        "        return model\n",
        "\n",
        "    def train(self, X_train, y_train, epochs=200, batch_size=32, validation_split=0.2, learning_rate=0.005):\n",
        "        # Update the learning rate dynamically before training\n",
        "        self.optimizer.learning_rate = learning_rate\n",
        "\n",
        "        # Rebuild the model to apply the new learning rate\n",
        "        self.model = self._build_model(learning_rate=learning_rate)\n",
        "\n",
        "        history = self.model.fit(X_train, y_train, epochs=epochs, batch_size=batch_size, validation_split=validation_split)\n",
        "        return history\n",
        "\n",
        "    def predict(self, X_test):\n",
        "        y_pred = self.model.predict(X_test)\n",
        "        return y_pred\n",
        "\n",
        "    @staticmethod\n",
        "    def create_sliding_windows(data, window_size=10):\n",
        "        X, y = [], []\n",
        "        for i in range(len(data) - window_size):\n",
        "            X.append(data[i:i+window_size])\n",
        "            y.append(data[i+window_size])\n",
        "        return np.array(X), np.array(y)"
      ]
    },
    {
      "cell_type": "code",
      "execution_count": null,
      "metadata": {
        "id": "MNmd27iLTT1e"
      },
      "outputs": [],
      "source": [
        "%%capture\n",
        "# path='/content/drive/My Drive/FOG AND EDGE/Adaptive MCT/DataGen/data2.csv'\n",
        "path='/content/drive/My Drive/FOG AND EDGE/Adaptive MCT/u_c_hihi.csv'\n",
        "data_df = pd.read_csv(path)\n",
        "data=data_df.to_numpy()\n",
        "data = np.array(data, dtype=str)\n",
        "data = np.char.strip(data)  #\n",
        "data[data == ''] = '0.0'\n",
        "data=data.astype(float)\n",
        "tcnn_model_instance = TCNNModel(input_shape=(10, 16))\n",
        "X, y = TCNNModel.create_sliding_windows(data)\n",
        "tcnn_model_instance.train(X, y, epochs=500, batch_size=32, validation_split=0.2)\n",
        "X_test = X  # Replace with actual test data\n",
        "# y_pred = tcnn_model_instance.predict(X_test)\n"
      ]
    },
    {
      "cell_type": "code",
      "execution_count": null,
      "metadata": {
        "colab": {
          "base_uri": "https://localhost:8080/"
        },
        "id": "Cwq6S1LVywm4",
        "outputId": "99f8a2a4-79d7-4f88-85ee-04e4d108181f"
      },
      "outputs": [
        {
          "output_type": "stream",
          "name": "stdout",
          "text": [
            "\u001b[1m16/16\u001b[0m \u001b[32m━━━━━━━━━━━━━━━━━━━━\u001b[0m\u001b[37m\u001b[0m \u001b[1m0s\u001b[0m 6ms/step\n",
            "[  99049.87  304976.25  536345.9   847528.94  940096.3  1114247.9\n",
            " 1235481.5  1613519.6  1896066.8  2004983.4  2110446.5  2231784.\n",
            " 2520562.5  2618435.5  2707569.   2903516.2 ]\n"
          ]
        }
      ],
      "source": [
        "X_test = X  # Replace with actual test data\n",
        "y_pred = tcnn_model_instance.predict(X_test)\n",
        "print(y_pred[0])"
      ]
    },
    {
      "cell_type": "markdown",
      "source": [
        "## save model"
      ],
      "metadata": {
        "id": "FNGqJLQFMHAK"
      }
    },
    {
      "cell_type": "code",
      "source": [
        "\n",
        "# Save the model in Keras format\n",
        "model_instance.model.save('/content/drive/My Drive/FOG AND EDGE/Assignment2/tcnn_model.keras')\n"
      ],
      "metadata": {
        "id": "sJ55xd0RNc6r"
      },
      "execution_count": null,
      "outputs": []
    },
    {
      "cell_type": "markdown",
      "source": [
        "# Benchmark MCT Algorithm"
      ],
      "metadata": {
        "id": "m01V4XJRWBVp"
      }
    },
    {
      "cell_type": "code",
      "source": [
        "import numpy as np\n",
        "\n",
        "class TaskScheduler:\n",
        "    def __init__(self, num_resources, tasks):\n",
        "        self.num_resources = num_resources\n",
        "        self.tasks = np.array(tasks)  # Only execution times for simplicity\n",
        "        self.resources = np.zeros(num_resources)  # Initialize resources' completion times\n",
        "\n",
        "    def assign_tasks(self):\n",
        "        task_assignments = []\n",
        "        # for task_execution_times in self.tasks:\n",
        "        for i in range(len(self.tasks)):\n",
        "            task_execution_times = self.tasks[i]\n",
        "            # Find the resource with the minimum current completion time\n",
        "            min_completion_time_resource = np.argmin(self.resources + task_execution_times)\n",
        "            # Assign the task to this resource\n",
        "            self.resources[min_completion_time_resource] += task_execution_times[min_completion_time_resource]\n",
        "            task_assignments.append((i, min_completion_time_resource))\n",
        "\n",
        "        return task_assignments\n",
        "\n",
        "    def calculate_makespan(self):\n",
        "        # The makespan is the maximum value in resources array\n",
        "        return np.max(self.resources)\n",
        "\n"
      ],
      "metadata": {
        "id": "a1mBN9nLWmGo"
      },
      "execution_count": null,
      "outputs": []
    },
    {
      "cell_type": "code",
      "source": [
        "# path2='/content/drive/MyDrive/FOG AND EDGE/Adaptive MCT/DataGen/data2.csv'\n",
        "path2='/content/drive/MyDrive/FOG AND EDGE/Adaptive MCT/1024x32/A.u_c_hihi.csv'\n",
        "data_df = pd.read_csv(path2)\n",
        "data=data_df.to_numpy()\n",
        "data = np.array(data, dtype=str)\n",
        "data = np.char.strip(data)  #\n",
        "# data[data == ''] = '260561'\n",
        "tasks=data.astype(float)\n",
        "num_resources = 32\n",
        "scheduler = TaskScheduler(num_resources=num_resources, tasks=tasks)\n",
        "task_assignments = scheduler.assign_tasks()\n",
        "makespan = scheduler.calculate_makespan()\n",
        "print(\"Makespan using Benchmark MCT is\",makespan)"
      ],
      "metadata": {
        "colab": {
          "base_uri": "https://localhost:8080/"
        },
        "id": "ZUHvtMoWWsrW",
        "outputId": "13de9384-6e50-4196-f6d2-979c72986e21"
      },
      "execution_count": null,
      "outputs": [
        {
          "output_type": "stream",
          "name": "stdout",
          "text": [
            "Makespan using Benchmark MCT is 32832741.92\n"
          ]
        }
      ]
    },
    {
      "cell_type": "markdown",
      "metadata": {
        "id": "Gr-lmMpnmK3B"
      },
      "source": [
        "# Adaptive MCT Alogorithms"
      ]
    },
    {
      "cell_type": "code",
      "execution_count": null,
      "metadata": {
        "id": "aDkUR8aDr3fQ"
      },
      "outputs": [],
      "source": [
        "class TaskScheduler:\n",
        "    def __init__(self, num_resources, tasks, model_instance,model_code):\n",
        "        self.num_resources = num_resources\n",
        "        self.model_code=model_code\n",
        "        self.tasks = np.array(tasks)  # Only execution times\n",
        "        self.model_instance = model_instance\n",
        "        self.resources = np.zeros(num_resources)  # Initialize resources' completion times\n",
        "    def predict_execution_times(self, task_data):\n",
        "        # task_data = task_data[np.newaxis, ...]\n",
        "        return self.model_instance.predict(task_data)\n",
        "\n",
        "    def calculate_flf(self, predicted_execution_times):\n",
        "        # FLF is directly the predicted execution times for simplicity\n",
        "        return predicted_execution_times\n",
        "\n",
        "    def calculate_wf(self, exec_time, min_exec_time, max_exec_time, task_size):\n",
        "        return ((exec_time - min_exec_time) / (max_exec_time - min_exec_time)) * (1 - np.exp(-task_size))\n",
        "\n",
        "    def assign_tasks(self):\n",
        "        task_assignments = []\n",
        "        for i in range(len(self.tasks)):\n",
        "            execution_time = self.tasks[i]\n",
        "            min_exec_time = np.min(execution_time)\n",
        "            max_exec_time = np.max(execution_time)\n",
        "\n",
        "            if i >= 10:\n",
        "              if self.model_code==1:#CNN\n",
        "                # Prepare input data for prediction: use the last 10 tasks\n",
        "                input_data = self.tasks[i-10:i].reshape(1, 10,16)  # Reshape to 1 sample with 10 features\n",
        "                predicted_execution_time = self.predict_execution_times(input_data)\n",
        "              elif self.model_code==2:#ConvLSTM\n",
        "                # Prepare input data for prediction: use the last\n",
        "                input_data = self.tasks[i-10:i].reshape(1, 10,16,1,1)  # Reshape to 1 sample with 10 features\n",
        "                predicted_execution_time = self.predict_execution_times(input_data)\n",
        "              elif self.model_code==3:#TCNN\n",
        "                # Prepare input data for prediction: use the last 10 tasks\n",
        "                input_data = self.tasks[i-10:i].reshape(1, 10,16)  # Reshape to 1 sample with 10 features\n",
        "                predicted_execution_time = self.predict_execution_times(input_data)\n",
        "            else:\n",
        "                predicted_execution_time = np.zeros(16)\n",
        "\n",
        "            ready_time = np.min(self.resources)  # Determine the ready_time based on resource completion times\n",
        "            flf = self.calculate_flf(predicted_execution_time)\n",
        "            wf = self.calculate_wf(execution_time, min_exec_time, max_exec_time, task_size=512)\n",
        "\n",
        "            # Compute adaptive values for all resources\n",
        "            adaptive_values = ready_time + execution_time + (flf * wf)\n",
        "\n",
        "            # Compute the adaptive value for each resource\n",
        "            resource_adaptive_values = self.resources + adaptive_values\n",
        "\n",
        "            # Find resource with the least adaptive value\n",
        "            assigned_resource = np.argmin(resource_adaptive_values)\n",
        "            self.resources[assigned_resource] += execution_time[assigned_resource]  # Update resource's completion time\n",
        "\n",
        "            task_assignments.append((i, assigned_resource, adaptive_values))  # Include task index\n",
        "\n",
        "        return task_assignments\n",
        "\n",
        "    def calculate_makespan(self):\n",
        "        return np.max(self.resources)\n"
      ]
    },
    {
      "cell_type": "markdown",
      "source": [
        "# Assign Tasks  : Run for each instance One by one"
      ],
      "metadata": {
        "id": "thufWHwcJxgf"
      }
    },
    {
      "cell_type": "code",
      "source": [
        "from tensorflow.keras.models import load_model"
      ],
      "metadata": {
        "id": "ECmwChZTOv9M"
      },
      "execution_count": null,
      "outputs": []
    },
    {
      "cell_type": "code",
      "source": [
        "# Load TCNN model\n",
        "%%capture\n",
        "# model_path = '/content/drive/My Drive/FOG AND EDGE/Assignment2/tcnn_model.keras'  # Replace with your actual model path\n",
        "# tc_model = load_model(model_path)\n",
        "# model_instance=model_instance\n",
        "# path='/content/drive/My Drive/FOG AND EDGE/Assignment2/u_c_hihi.csv'\n",
        "# path2='/content/drive/MyDrive/FOG AND EDGE/Adaptive MCT/DataGen/data2.csv'\n",
        "path2='/content/drive/MyDrive/FOG AND EDGE/Adaptive MCT/u_c_hihi.csv'\n",
        "data_df = pd.read_csv(path2)\n",
        "data=data_df.to_numpy()\n",
        "data = np.array(data, dtype=str)\n",
        "data = np.char.strip(data)  #\n",
        "# data[data == ''] = '260561'\n",
        "tasks=data.astype(float)\n",
        "num_resources = 16\n",
        "#CNN\n",
        "model_instance=cnn_model_instance\n",
        "scheduler = TaskScheduler(num_resources=num_resources, tasks=tasks, model_instance=model_instance,model_code=1)\n",
        "cnn_task_assignments = scheduler.assign_tasks()\n",
        "cnn_makespan = scheduler.calculate_makespan()\n",
        "\n",
        "\n",
        "#ConvLSTM\n",
        "model_instance=convlstm_model_instance\n",
        "scheduler = TaskScheduler(num_resources=num_resources, tasks=tasks, model_instance=model_instance,model_code=2)\n",
        "convlstm_task_assignments = scheduler.assign_tasks()\n",
        "convlstm_makespan = scheduler.calculate_makespan()\n",
        "\n",
        "\n",
        "#TCNN\n",
        "model_instance=tcnn_model_instance\n",
        "scheduler = TaskScheduler(num_resources=num_resources, tasks=tasks, model_instance=model_instance,model_code=3)\n",
        "tcnn_task_assignments = scheduler.assign_tasks()\n",
        "tcnn_makespan = scheduler.calculate_makespan()\n"
      ],
      "metadata": {
        "id": "t-CWx_Prh77f"
      },
      "execution_count": null,
      "outputs": []
    },
    {
      "cell_type": "code",
      "source": [
        "#Benchmark MCT\n",
        "print(\"Task Assignments:\", [list(s)[:2] for s in task_assignments])\n",
        "print(\"Makespan using Benchmark MCT is\",makespan)\n",
        "print(\"Task Assignments:\", [list(s)[:2] for s in cnn_task_assignments])\n",
        "print(\"Makespan using Adaptive MCT with CNN is\", cnn_makespan)\n",
        "print(\"Task Assignments:\", [list(s)[:2] for s in convlstm_task_assignments])\n",
        "print(\"Makespan using Adaptive MCT with ConvLSTM is\", convlstm_makespan)\n",
        "print(\"Task Assignments:\", [list(s)[:2] for s in tcnn_task_assignments])\n",
        "print(\"Makespan using Adaptive MCT with TCNN is\", tcnn_makespan)\n"
      ],
      "metadata": {
        "colab": {
          "base_uri": "https://localhost:8080/"
        },
        "id": "ixr9XTjeh_kn",
        "outputId": "d090d672-a802-423a-8c54-a2965e6c1817"
      },
      "execution_count": null,
      "outputs": [
        {
          "output_type": "stream",
          "name": "stdout",
          "text": [
            "Task Assignments: [[0, 0], [1, 1], [2, 0], [3, 1], [4, 2], [5, 3], [6, 0], [7, 1], [8, 0], [9, 4], [10, 0], [11, 5], [12, 4], [13, 6], [14, 7], [15, 0], [16, 2], [17, 1], [18, 8], [19, 5], [20, 0], [21, 6], [22, 0], [23, 3], [24, 2], [25, 9], [26, 0], [27, 7], [28, 9], [29, 10], [30, 8], [31, 1], [32, 0], [33, 3], [34, 2], [35, 1], [36, 0], [37, 11], [38, 12], [39, 1], [40, 4], [41, 13], [42, 5], [43, 3], [44, 6], [45, 14], [46, 4], [47, 12], [48, 7], [49, 0], [50, 12], [51, 15], [52, 10], [53, 14], [54, 15], [55, 2], [56, 11], [57, 8], [58, 0], [59, 2], [60, 9], [61, 11], [62, 1], [63, 15], [64, 4], [65, 2], [66, 3], [67, 11], [68, 3], [69, 0], [70, 1], [71, 8], [72, 15], [73, 0], [74, 5], [75, 5], [76, 2], [77, 15], [78, 10], [79, 15], [80, 0], [81, 0], [82, 7], [83, 13], [84, 4], [85, 14], [86, 1], [87, 2], [88, 6], [89, 1], [90, 5], [91, 3], [92, 15], [93, 0], [94, 12], [95, 4], [96, 2], [97, 11], [98, 13], [99, 7], [100, 2], [101, 12], [102, 0], [103, 8], [104, 9], [105, 1], [106, 13], [107, 0], [108, 4], [109, 12], [110, 0], [111, 13], [112, 6], [113, 13], [114, 10], [115, 3], [116, 0], [117, 1], [118, 5], [119, 8], [120, 14], [121, 0], [122, 0], [123, 11], [124, 3], [125, 9], [126, 0], [127, 1], [128, 1], [129, 4], [130, 0], [131, 2], [132, 0], [133, 11], [134, 3], [135, 12], [136, 4], [137, 6], [138, 7], [139, 10], [140, 0], [141, 5], [142, 11], [143, 1], [144, 9], [145, 7], [146, 13], [147, 2], [148, 12], [149, 14], [150, 1], [151, 10], [152, 9], [153, 0], [154, 4], [155, 8], [156, 3], [157, 5], [158, 15], [159, 6], [160, 0], [161, 2], [162, 12], [163, 1], [164, 11], [165, 6], [166, 2], [167, 10], [168, 3], [169, 8], [170, 7], [171, 5], [172, 14], [173, 14], [174, 0], [175, 1], [176, 15], [177, 9], [178, 0], [179, 13], [180, 6], [181, 1], [182, 3], [183, 2], [184, 1], [185, 4], [186, 9], [187, 12], [188, 8], [189, 12], [190, 5], [191, 7], [192, 3], [193, 2], [194, 1], [195, 0], [196, 9], [197, 10], [198, 4], [199, 2], [200, 13], [201, 13], [202, 14], [203, 11], [204, 14], [205, 1], [206, 6], [207, 0], [208, 2], [209, 1], [210, 13], [211, 3], [212, 8], [213, 14], [214, 4], [215, 9], [216, 11], [217, 5], [218, 12], [219, 1], [220, 0], [221, 4], [222, 0], [223, 0], [224, 1], [225, 2], [226, 15], [227, 0], [228, 1], [229, 8], [230, 6], [231, 0], [232, 10], [233, 2], [234, 0], [235, 0], [236, 14], [237, 13], [238, 0], [239, 7], [240, 0], [241, 3], [242, 4], [243, 13], [244, 10], [245, 0], [246, 5], [247, 15], [248, 4], [249, 14], [250, 9], [251, 15], [252, 13], [253, 2], [254, 1], [255, 6], [256, 0], [257, 11], [258, 5], [259, 0], [260, 3], [261, 12], [262, 7], [263, 1], [264, 4], [265, 0], [266, 15], [267, 15], [268, 0], [269, 14], [270, 1], [271, 8], [272, 6], [273, 3], [274, 11], [275, 7], [276, 1], [277, 0], [278, 14], [279, 13], [280, 9], [281, 0], [282, 2], [283, 10], [284, 5], [285, 4], [286, 1], [287, 3], [288, 0], [289, 9], [290, 11], [291, 15], [292, 4], [293, 0], [294, 0], [295, 0], [296, 0], [297, 2], [298, 1], [299, 12], [300, 15], [301, 6], [302, 10], [303, 0], [304, 0], [305, 14], [306, 1], [307, 0], [308, 13], [309, 0], [310, 6], [311, 2], [312, 14], [313, 7], [314, 4], [315, 0], [316, 1], [317, 12], [318, 14], [319, 4], [320, 8], [321, 1], [322, 5], [323, 9], [324, 7], [325, 1], [326, 0], [327, 15], [328, 0], [329, 11], [330, 5], [331, 3], [332, 2], [333, 10], [334, 9], [335, 11], [336, 0], [337, 2], [338, 15], [339, 1], [340, 13], [341, 8], [342, 1], [343, 0], [344, 14], [345, 5], [346, 14], [347, 2], [348, 4], [349, 3], [350, 0], [351, 0], [352, 1], [353, 6], [354, 2], [355, 3], [356, 15], [357, 1], [358, 9], [359, 9], [360, 10], [361, 15], [362, 8], [363, 0], [364, 7], [365, 2], [366, 12], [367, 14], [368, 6], [369, 11], [370, 13], [371, 9], [372, 10], [373, 15], [374, 9], [375, 8], [376, 0], [377, 2], [378, 7], [379, 15], [380, 13], [381, 12], [382, 10], [383, 3], [384, 0], [385, 3], [386, 0], [387, 0], [388, 1], [389, 0], [390, 0], [391, 0], [392, 4], [393, 1], [394, 2], [395, 1], [396, 12], [397, 8], [398, 5], [399, 3], [400, 8], [401, 4], [402, 7], [403, 10], [404, 1], [405, 2], [406, 8], [407, 1], [408, 13], [409, 9], [410, 6], [411, 2], [412, 0], [413, 3], [414, 6], [415, 1], [416, 12], [417, 2], [418, 1], [419, 10], [420, 11], [421, 15], [422, 2], [423, 5], [424, 14], [425, 10], [426, 7], [427, 1], [428, 0], [429, 0], [430, 0], [431, 8], [432, 1], [433, 3], [434, 15], [435, 9], [436, 1], [437, 4], [438, 0], [439, 0], [440, 15], [441, 11], [442, 0], [443, 0], [444, 0], [445, 13], [446, 15], [447, 5], [448, 12], [449, 14], [450, 6], [451, 7], [452, 9], [453, 3], [454, 0], [455, 0], [456, 7], [457, 2], [458, 10], [459, 1], [460, 0], [461, 5], [462, 10], [463, 2], [464, 8], [465, 0], [466, 6], [467, 8], [468, 0], [469, 0], [470, 10], [471, 2], [472, 0], [473, 0], [474, 4], [475, 7], [476, 5], [477, 12], [478, 15], [479, 9], [480, 6], [481, 1], [482, 0], [483, 13], [484, 4], [485, 5], [486, 0], [487, 7], [488, 10], [489, 11], [490, 0], [491, 10], [492, 14], [493, 2], [494, 8], [495, 1], [496, 11], [497, 0], [498, 3], [499, 12], [500, 12], [501, 13], [502, 0], [503, 6], [504, 9], [505, 4], [506, 4], [507, 2], [508, 1], [509, 7], [510, 10], [511, 3]]\n",
            "Makespan using Benchmark MCT is 11422624.494138002\n",
            "Task Assignments: [[0, 0], [1, 1], [2, 0], [3, 1], [4, 2], [5, 3], [6, 0], [7, 1], [8, 0], [9, 4], [10, 0], [11, 5], [12, 0], [13, 6], [14, 4], [15, 0], [16, 2], [17, 1], [18, 7], [19, 2], [20, 4], [21, 5], [22, 0], [23, 3], [24, 3], [25, 13], [26, 1], [27, 6], [28, 8], [29, 9], [30, 2], [31, 2], [32, 0], [33, 3], [34, 0], [35, 1], [36, 4], [37, 7], [38, 10], [39, 0], [40, 5], [41, 1], [42, 2], [43, 1], [44, 6], [45, 12], [46, 3], [47, 11], [48, 5], [49, 10], [50, 1], [51, 11], [52, 7], [53, 9], [54, 13], [55, 3], [56, 14], [57, 8], [58, 0], [59, 2], [60, 1], [61, 12], [62, 0], [63, 15], [64, 7], [65, 2], [66, 14], [67, 11], [68, 4], [69, 0], [70, 1], [71, 5], [72, 15], [73, 3], [74, 6], [75, 5], [76, 2], [77, 15], [78, 2], [79, 13], [80, 0], [81, 0], [82, 9], [83, 15], [84, 8], [85, 12], [86, 5], [87, 1], [88, 3], [89, 11], [90, 7], [91, 2], [92, 1], [93, 4], [94, 13], [95, 10], [96, 6], [97, 13], [98, 15], [99, 9], [100, 6], [101, 14], [102, 0], [103, 15], [104, 8], [105, 3], [106, 14], [107, 2], [108, 0], [109, 12], [110, 0], [111, 14], [112, 14], [113, 13], [114, 15], [115, 10], [116, 0], [117, 5], [118, 7], [119, 9], [120, 12], [121, 2], [122, 1], [123, 15], [124, 11], [125, 13], [126, 0], [127, 1], [128, 0], [129, 4], [130, 1], [131, 2], [132, 1], [133, 14], [134, 3], [135, 14], [136, 4], [137, 1], [138, 10], [139, 12], [140, 0], [141, 5], [142, 8], [143, 1], [144, 13], [145, 7], [146, 6], [147, 1], [148, 14], [149, 15], [150, 1], [151, 12], [152, 11], [153, 0], [154, 2], [155, 9], [156, 3], [157, 4], [158, 15], [159, 8], [160, 1], [161, 0], [162, 9], [163, 0], [164, 3], [165, 5], [166, 6], [167, 10], [168, 5], [169, 7], [170, 4], [171, 5], [172, 13], [173, 12], [174, 0], [175, 3], [176, 2], [177, 14], [178, 0], [179, 13], [180, 7], [181, 1], [182, 1], [183, 0], [184, 2], [185, 6], [186, 8], [187, 15], [188, 9], [189, 11], [190, 4], [191, 8], [192, 3], [193, 5], [194, 0], [195, 3], [196, 13], [197, 10], [198, 14], [199, 1], [200, 15], [201, 15], [202, 15], [203, 15], [204, 15], [205, 1], [206, 9], [207, 0], [208, 2], [209, 1], [210, 12], [211, 2], [212, 6], [213, 11], [214, 8], [215, 1], [216, 7], [217, 5], [218, 10], [219, 0], [220, 4], [221, 6], [222, 1], [223, 0], [224, 1], [225, 2], [226, 15], [227, 0], [228, 0], [229, 3], [230, 5], [231, 1], [232, 13], [233, 1], [234, 0], [235, 1], [236, 14], [237, 15], [238, 0], [239, 2], [240, 1], [241, 4], [242, 11], [243, 12], [244, 9], [245, 1], [246, 12], [247, 13], [248, 3], [249, 14], [250, 13], [251, 15], [252, 8], [253, 0], [254, 2], [255, 15], [256, 1], [257, 7], [258, 6], [259, 2], [260, 7], [261, 5], [262, 8], [263, 3], [264, 6], [265, 4], [266, 14], [267, 10], [268, 8], [269, 14], [270, 0], [271, 0], [272, 1], [273, 5], [274, 11], [275, 7], [276, 1], [277, 0], [278, 9], [279, 14], [280, 12], [281, 0], [282, 3], [283, 11], [284, 1], [285, 6], [286, 2], [287, 0], [288, 1], [289, 10], [290, 12], [291, 15], [292, 5], [293, 1], [294, 9], [295, 4], [296, 0], [297, 3], [298, 1], [299, 13], [300, 15], [301, 11], [302, 6], [303, 5], [304, 0], [305, 14], [306, 1], [307, 0], [308, 13], [309, 0], [310, 2], [311, 1], [312, 15], [313, 14], [314, 4], [315, 0], [316, 0], [317, 7], [318, 8], [319, 3], [320, 4], [321, 2], [322, 10], [323, 15], [324, 6], [325, 1], [326, 0], [327, 12], [328, 0], [329, 11], [330, 4], [331, 9], [332, 11], [333, 10], [334, 8], [335, 12], [336, 1], [337, 5], [338, 13], [339, 3], [340, 14], [341, 15], [342, 2], [343, 0], [344, 13], [345, 0], [346, 13], [347, 4], [348, 5], [349, 3], [350, 0], [351, 0], [352, 1], [353, 7], [354, 3], [355, 2], [356, 14], [357, 0], [358, 13], [359, 15], [360, 8], [361, 11], [362, 8], [363, 1], [364, 6], [365, 4], [366, 10], [367, 1], [368, 7], [369, 8], [370, 12], [371, 14], [372, 13], [373, 14], [374, 11], [375, 9], [376, 0], [377, 2], [378, 6], [379, 14], [380, 15], [381, 12], [382, 10], [383, 12], [384, 4], [385, 10], [386, 0], [387, 0], [388, 3], [389, 0], [390, 0], [391, 0], [392, 13], [393, 1], [394, 2], [395, 1], [396, 15], [397, 11], [398, 6], [399, 3], [400, 9], [401, 1], [402, 5], [403, 11], [404, 4], [405, 9], [406, 8], [407, 2], [408, 12], [409, 10], [410, 7], [411, 5], [412, 0], [413, 3], [414, 7], [415, 2], [416, 2], [417, 4], [418, 5], [419, 11], [420, 9], [421, 13], [422, 6], [423, 2], [424, 14], [425, 0], [426, 15], [427, 1], [428, 0], [429, 2], [430, 0], [431, 8], [432, 1], [433, 4], [434, 13], [435, 11], [436, 1], [437, 3], [438, 0], [439, 2], [440, 10], [441, 10], [442, 0], [443, 0], [444, 0], [445, 0], [446, 9], [447, 5], [448, 13], [449, 14], [450, 12], [451, 7], [452, 7], [453, 2], [454, 0], [455, 0], [456, 4], [457, 4], [458, 5], [459, 1], [460, 11], [461, 8], [462, 6], [463, 12], [464, 9], [465, 0], [466, 13], [467, 5], [468, 0], [469, 0], [470, 9], [471, 3], [472, 0], [473, 0], [474, 4], [475, 6], [476, 1], [477, 7], [478, 10], [479, 9], [480, 5], [481, 1], [482, 0], [483, 14], [484, 7], [485, 4], [486, 0], [487, 6], [488, 12], [489, 8], [490, 0], [491, 8], [492, 13], [493, 1], [494, 12], [495, 2], [496, 15], [497, 0], [498, 10], [499, 14], [500, 14], [501, 9], [502, 1], [503, 5], [504, 3], [505, 6], [506, 11], [507, 0], [508, 0], [509, 7], [510, 8], [511, 6]]\n",
            "Makespan using Adaptive MCT with CNN is 12138201.110101005\n",
            "Task Assignments: [[0, 0], [1, 1], [2, 0], [3, 1], [4, 2], [5, 3], [6, 0], [7, 1], [8, 0], [9, 4], [10, 0], [11, 5], [12, 2], [13, 6], [14, 4], [15, 0], [16, 4], [17, 1], [18, 3], [19, 0], [20, 0], [21, 5], [22, 0], [23, 3], [24, 1], [25, 6], [26, 0], [27, 7], [28, 6], [29, 3], [30, 2], [31, 1], [32, 0], [33, 1], [34, 3], [35, 2], [36, 0], [37, 8], [38, 9], [39, 1], [40, 4], [41, 9], [42, 5], [43, 2], [44, 4], [45, 10], [46, 8], [47, 11], [48, 7], [49, 0], [50, 0], [51, 10], [52, 6], [53, 1], [54, 12], [55, 3], [56, 11], [57, 2], [58, 0], [59, 1], [60, 10], [61, 11], [62, 1], [63, 13], [64, 2], [65, 2], [66, 6], [67, 4], [68, 3], [69, 0], [70, 1], [71, 5], [72, 13], [73, 0], [74, 6], [75, 4], [76, 9], [77, 13], [78, 12], [79, 13], [80, 0], [81, 14], [82, 11], [83, 13], [84, 7], [85, 15], [86, 5], [87, 2], [88, 4], [89, 0], [90, 8], [91, 1], [92, 0], [93, 1], [94, 6], [95, 3], [96, 6], [97, 13], [98, 10], [99, 7], [100, 2], [101, 11], [102, 0], [103, 1], [104, 1], [105, 3], [106, 10], [107, 1], [108, 4], [109, 5], [110, 0], [111, 15], [112, 9], [113, 15], [114, 11], [115, 6], [116, 0], [117, 1], [118, 10], [119, 8], [120, 13], [121, 3], [122, 0], [123, 12], [124, 12], [125, 11], [126, 0], [127, 1], [128, 2], [129, 4], [130, 1], [131, 4], [132, 1], [133, 6], [134, 3], [135, 5], [136, 0], [137, 0], [138, 6], [139, 5], [140, 0], [141, 5], [142, 9], [143, 1], [144, 7], [145, 7], [146, 6], [147, 1], [148, 13], [149, 11], [150, 1], [151, 15], [152, 10], [153, 0], [154, 0], [155, 8], [156, 2], [157, 5], [158, 3], [159, 9], [160, 1], [161, 3], [162, 11], [163, 2], [164, 4], [165, 6], [166, 0], [167, 8], [168, 4], [169, 7], [170, 5], [171, 6], [172, 14], [173, 12], [174, 0], [175, 3], [176, 13], [177, 14], [178, 0], [179, 15], [180, 7], [181, 1], [182, 3], [183, 4], [184, 2], [185, 1], [186, 9], [187, 11], [188, 10], [189, 11], [190, 1], [191, 6], [192, 0], [193, 5], [194, 9], [195, 0], [196, 12], [197, 8], [198, 14], [199, 2], [200, 15], [201, 15], [202, 13], [203, 15], [204, 13], [205, 1], [206, 3], [207, 0], [208, 2], [209, 1], [210, 13], [211, 4], [212, 10], [213, 11], [214, 6], [215, 12], [216, 7], [217, 5], [218, 3], [219, 1], [220, 0], [221, 15], [222, 0], [223, 0], [224, 1], [225, 2], [226, 8], [227, 0], [228, 1], [229, 9], [230, 6], [231, 0], [232, 11], [233, 2], [234, 0], [235, 0], [236, 14], [237, 14], [238, 0], [239, 2], [240, 0], [241, 3], [242, 4], [243, 13], [244, 8], [245, 0], [246, 5], [247, 10], [248, 4], [249, 14], [250, 11], [251, 13], [252, 7], [253, 2], [254, 1], [255, 3], [256, 0], [257, 10], [258, 6], [259, 0], [260, 3], [261, 5], [262, 7], [263, 1], [264, 1], [265, 0], [266, 13], [267, 13], [268, 7], [269, 15], [270, 0], [271, 10], [272, 1], [273, 6], [274, 12], [275, 8], [276, 1], [277, 0], [278, 14], [279, 15], [280, 11], [281, 0], [282, 3], [283, 12], [284, 1], [285, 5], [286, 4], [287, 0], [288, 1], [289, 9], [290, 13], [291, 11], [292, 5], [293, 1], [294, 2], [295, 3], [296, 0], [297, 1], [298, 0], [299, 11], [300, 14], [301, 6], [302, 8], [303, 0], [304, 0], [305, 15], [306, 1], [307, 0], [308, 15], [309, 0], [310, 6], [311, 2], [312, 11], [313, 7], [314, 4], [315, 0], [316, 1], [317, 3], [318, 9], [319, 5], [320, 4], [321, 2], [322, 10], [323, 11], [324, 8], [325, 1], [326, 0], [327, 12], [328, 1], [329, 12], [330, 4], [331, 7], [332, 14], [333, 10], [334, 9], [335, 11], [336, 0], [337, 2], [338, 13], [339, 1], [340, 12], [341, 13], [342, 5], [343, 1], [344, 15], [345, 6], [346, 12], [347, 2], [348, 4], [349, 3], [350, 0], [351, 0], [352, 1], [353, 9], [354, 3], [355, 1], [356, 15], [357, 2], [358, 10], [359, 14], [360, 7], [361, 11], [362, 8], [363, 0], [364, 10], [365, 1], [366, 15], [367, 14], [368, 7], [369, 12], [370, 13], [371, 11], [372, 15], [373, 13], [374, 11], [375, 8], [376, 1], [377, 1], [378, 5], [379, 13], [380, 9], [381, 15], [382, 6], [383, 3], [384, 0], [385, 3], [386, 0], [387, 0], [388, 0], [389, 0], [390, 2], [391, 0], [392, 4], [393, 1], [394, 1], [395, 2], [396, 10], [397, 5], [398, 8], [399, 3], [400, 6], [401, 4], [402, 7], [403, 5], [404, 1], [405, 5], [406, 6], [407, 3], [408, 9], [409, 10], [410, 11], [411, 1], [412, 0], [413, 1], [414, 2], [415, 1], [416, 5], [417, 3], [418, 5], [419, 12], [420, 15], [421, 13], [422, 6], [423, 3], [424, 14], [425, 0], [426, 7], [427, 1], [428, 0], [429, 1], [430, 0], [431, 2], [432, 1], [433, 1], [434, 13], [435, 9], [436, 0], [437, 4], [438, 1], [439, 3], [440, 11], [441, 11], [442, 1], [443, 2], [444, 1], [445, 13], [446, 10], [447, 5], [448, 12], [449, 8], [450, 14], [451, 15], [452, 7], [453, 9], [454, 0], [455, 1], [456, 3], [457, 3], [458, 15], [459, 0], [460, 2], [461, 6], [462, 15], [463, 2], [464, 10], [465, 1], [466, 14], [467, 8], [468, 0], [469, 0], [470, 7], [471, 2], [472, 0], [473, 3], [474, 5], [475, 7], [476, 4], [477, 12], [478, 10], [479, 1], [480, 4], [481, 1], [482, 0], [483, 15], [484, 11], [485, 5], [486, 0], [487, 6], [488, 13], [489, 13], [490, 0], [491, 7], [492, 14], [493, 1], [494, 12], [495, 2], [496, 15], [497, 10], [498, 8], [499, 13], [500, 13], [501, 13], [502, 0], [503, 6], [504, 3], [505, 7], [506, 4], [507, 1], [508, 0], [509, 7], [510, 9], [511, 3]]\n",
            "Makespan using Adaptive MCT with ConvLSTM is 11526548.37158\n",
            "Task Assignments: [[0, 0], [1, 1], [2, 0], [3, 1], [4, 2], [5, 3], [6, 0], [7, 1], [8, 0], [9, 4], [10, 0], [11, 5], [12, 0], [13, 6], [14, 7], [15, 0], [16, 2], [17, 1], [18, 4], [19, 2], [20, 4], [21, 5], [22, 0], [23, 3], [24, 3], [25, 14], [26, 1], [27, 6], [28, 7], [29, 8], [30, 2], [31, 2], [32, 0], [33, 3], [34, 0], [35, 1], [36, 0], [37, 9], [38, 15], [39, 2], [40, 5], [41, 1], [42, 4], [43, 1], [44, 6], [45, 10], [46, 3], [47, 12], [48, 5], [49, 1], [50, 0], [51, 11], [52, 8], [53, 10], [54, 13], [55, 3], [56, 15], [57, 9], [58, 1], [59, 7], [60, 0], [61, 11], [62, 0], [63, 14], [64, 8], [65, 2], [66, 4], [67, 12], [68, 5], [69, 0], [70, 2], [71, 4], [72, 15], [73, 3], [74, 14], [75, 6], [76, 1], [77, 15], [78, 1], [79, 15], [80, 0], [81, 0], [82, 11], [83, 13], [84, 7], [85, 9], [86, 4], [87, 2], [88, 3], [89, 1], [90, 8], [91, 0], [92, 0], [93, 0], [94, 15], [95, 10], [96, 6], [97, 12], [98, 13], [99, 5], [100, 0], [101, 15], [102, 1], [103, 14], [104, 11], [105, 13], [106, 15], [107, 7], [108, 4], [109, 12], [110, 0], [111, 15], [112, 9], [113, 10], [114, 15], [115, 6], [116, 3], [117, 2], [118, 10], [119, 9], [120, 14], [121, 4], [122, 0], [123, 12], [124, 8], [125, 15], [126, 0], [127, 6], [128, 1], [129, 5], [130, 0], [131, 2], [132, 0], [133, 13], [134, 3], [135, 14], [136, 0], [137, 0], [138, 7], [139, 12], [140, 0], [141, 4], [142, 11], [143, 1], [144, 13], [145, 8], [146, 5], [147, 2], [148, 12], [149, 15], [150, 1], [151, 14], [152, 6], [153, 0], [154, 4], [155, 9], [156, 3], [157, 7], [158, 15], [159, 10], [160, 0], [161, 2], [162, 9], [163, 1], [164, 1], [165, 5], [166, 6], [167, 5], [168, 3], [169, 8], [170, 11], [171, 2], [172, 13], [173, 12], [174, 0], [175, 3], [176, 13], [177, 14], [178, 0], [179, 10], [180, 7], [181, 1], [182, 1], [183, 2], [184, 4], [185, 3], [186, 9], [187, 15], [188, 6], [189, 10], [190, 5], [191, 8], [192, 1], [193, 1], [194, 9], [195, 0], [196, 12], [197, 3], [198, 2], [199, 2], [200, 15], [201, 14], [202, 15], [203, 15], [204, 14], [205, 1], [206, 6], [207, 0], [208, 1], [209, 2], [210, 14], [211, 1], [212, 7], [213, 15], [214, 11], [215, 10], [216, 13], [217, 3], [218, 12], [219, 1], [220, 4], [221, 5], [222, 0], [223, 0], [224, 2], [225, 1], [226, 14], [227, 8], [228, 0], [229, 3], [230, 6], [231, 1], [232, 15], [233, 4], [234, 0], [235, 5], [236, 9], [237, 15], [238, 1], [239, 7], [240, 0], [241, 2], [242, 9], [243, 14], [244, 11], [245, 0], [246, 6], [247, 15], [248, 4], [249, 13], [250, 10], [251, 15], [252, 12], [253, 3], [254, 1], [255, 2], [256, 1], [257, 14], [258, 5], [259, 2], [260, 0], [261, 6], [262, 8], [263, 1], [264, 4], [265, 0], [266, 15], [267, 9], [268, 0], [269, 15], [270, 1], [271, 8], [272, 7], [273, 5], [274, 13], [275, 6], [276, 2], [277, 0], [278, 10], [279, 15], [280, 12], [281, 0], [282, 0], [283, 12], [284, 1], [285, 4], [286, 2], [287, 0], [288, 1], [289, 9], [290, 11], [291, 14], [292, 5], [293, 3], [294, 1], [295, 4], [296, 0], [297, 2], [298, 0], [299, 14], [300, 15], [301, 10], [302, 7], [303, 0], [304, 0], [305, 13], [306, 1], [307, 0], [308, 13], [309, 0], [310, 6], [311, 2], [312, 14], [313, 5], [314, 5], [315, 0], [316, 1], [317, 1], [318, 14], [319, 3], [320, 7], [321, 2], [322, 8], [323, 9], [324, 8], [325, 1], [326, 4], [327, 12], [328, 0], [329, 15], [330, 5], [331, 10], [332, 11], [333, 9], [334, 6], [335, 12], [336, 0], [337, 3], [338, 13], [339, 1], [340, 15], [341, 14], [342, 7], [343, 1], [344, 13], [345, 0], [346, 13], [347, 2], [348, 5], [349, 3], [350, 4], [351, 0], [352, 1], [353, 6], [354, 2], [355, 3], [356, 15], [357, 0], [358, 12], [359, 13], [360, 9], [361, 11], [362, 8], [363, 1], [364, 9], [365, 2], [366, 10], [367, 1], [368, 6], [369, 11], [370, 12], [371, 14], [372, 15], [373, 13], [374, 12], [375, 8], [376, 0], [377, 2], [378, 7], [379, 13], [380, 14], [381, 15], [382, 10], [383, 10], [384, 3], [385, 9], [386, 0], [387, 0], [388, 1], [389, 0], [390, 0], [391, 0], [392, 8], [393, 2], [394, 1], [395, 2], [396, 15], [397, 14], [398, 5], [399, 3], [400, 15], [401, 4], [402, 7], [403, 14], [404, 1], [405, 2], [406, 8], [407, 1], [408, 10], [409, 13], [410, 12], [411, 2], [412, 9], [413, 3], [414, 6], [415, 0], [416, 0], [417, 2], [418, 0], [419, 11], [420, 8], [421, 7], [422, 1], [423, 2], [424, 5], [425, 10], [426, 7], [427, 0], [428, 0], [429, 2], [430, 0], [431, 2], [432, 5], [433, 4], [434, 14], [435, 11], [436, 0], [437, 3], [438, 1], [439, 2], [440, 15], [441, 12], [442, 1], [443, 6], [444, 1], [445, 8], [446, 7], [447, 5], [448, 14], [449, 15], [450, 13], [451, 4], [452, 10], [453, 2], [454, 0], [455, 1], [456, 4], [457, 4], [458, 11], [459, 0], [460, 11], [461, 3], [462, 9], [463, 1], [464, 8], [465, 1], [466, 5], [467, 3], [468, 0], [469, 0], [470, 13], [471, 1], [472, 0], [473, 0], [474, 3], [475, 13], [476, 4], [477, 6], [478, 6], [479, 8], [480, 5], [481, 3], [482, 0], [483, 7], [484, 9], [485, 7], [486, 0], [487, 14], [488, 15], [489, 12], [490, 6], [491, 4], [492, 10], [493, 2], [494, 0], [495, 12], [496, 15], [497, 0], [498, 8], [499, 4], [500, 4], [501, 15], [502, 0], [503, 5], [504, 1], [505, 4], [506, 11], [507, 2], [508, 0], [509, 1], [510, 10], [511, 4]]\n",
            "Makespan using Adaptive MCT with TCNN is 11911431.562495999\n"
          ]
        }
      ]
    },
    {
      "cell_type": "code",
      "source": [
        "import pandas as pd\n",
        "\n",
        "# Assuming task IDs are available in the range of task length\n",
        "num_tasks = len(task_assignments)  # Get the number of tasks\n",
        "\n",
        "# Create a DataFrame to store the task assignments and makespan for each method\n",
        "result = pd.DataFrame(columns=['TaskId', 'Benchmark_MCT', 'CNN_Adaptive_MCT', 'ConvLSTM_Adaptive_MCT', 'TCNN_Adaptive_MCT'])\n",
        "\n",
        "# Create a list to collect rows before concatenating\n",
        "rows = []\n",
        "\n",
        "# Append the task assignments and corresponding method results into the list of rows\n",
        "for i in range(num_tasks):\n",
        "    rows.append({\n",
        "        'TaskId': i,\n",
        "        'Benchmark_MCT': task_assignments[i][1],  # Resource for Benchmark MCT\n",
        "        'CNN_Adaptive_MCT': cnn_task_assignments[i][1],  # Resource for CNN Adaptive MCT\n",
        "        'ConvLSTM_Adaptive_MCT': convlstm_task_assignments[i][1],  # Resource for ConvLSTM Adaptive MCT\n",
        "        'TCNN_Adaptive_MCT': tcnn_task_assignments[i][1]  # Resource for TCNN Adaptive MCT\n",
        "    })\n",
        "\n",
        "# Concatenate the list of rows into the DataFrame\n",
        "result = pd.concat([result, pd.DataFrame(rows)], ignore_index=True)\n",
        "\n",
        "# Print the makespan for each method\n",
        "print(\"Makespan using Benchmark MCT is\", makespan)\n",
        "print(\"Makespan using Adaptive MCT with CNN is\", cnn_makespan)\n",
        "print(\"Makespan using Adaptive MCT with ConvLSTM is\", convlstm_makespan)\n",
        "print(\"Makespan using Adaptive MCT with TCNN is\", tcnn_makespan)\n",
        "\n",
        "# Display the DataFrame\n",
        "rpath='/content/drive/MyDrive/FOG AND EDGE/Adaptive MCT/Results and Reports/Result_UCHIHI1.csv'\n",
        "result.to_csv(rpath, index=False)\n",
        "result.tail()\n"
      ],
      "metadata": {
        "colab": {
          "base_uri": "https://localhost:8080/",
          "height": 276
        },
        "id": "wFVri2sr4med",
        "outputId": "10075a0a-aecc-4fc7-aaf3-24552a74979b"
      },
      "execution_count": null,
      "outputs": [
        {
          "output_type": "stream",
          "name": "stdout",
          "text": [
            "Makespan using Benchmark MCT is 11422624.494138002\n",
            "Makespan using Adaptive MCT with CNN is 12138201.110101005\n",
            "Makespan using Adaptive MCT with ConvLSTM is 11526548.37158\n",
            "Makespan using Adaptive MCT with TCNN is 11911431.562495999\n"
          ]
        },
        {
          "output_type": "execute_result",
          "data": {
            "text/plain": [
              "    TaskId Benchmark_MCT CNN_Adaptive_MCT ConvLSTM_Adaptive_MCT  \\\n",
              "507    507             2                0                     1   \n",
              "508    508             1                0                     0   \n",
              "509    509             7                7                     7   \n",
              "510    510            10                8                     9   \n",
              "511    511             3                6                     3   \n",
              "\n",
              "    TCNN_Adaptive_MCT  \n",
              "507                 2  \n",
              "508                 0  \n",
              "509                 1  \n",
              "510                10  \n",
              "511                 4  "
            ],
            "text/html": [
              "\n",
              "  <div id=\"df-f91f61e4-fe52-4b0e-87d6-f5728c0fa529\" class=\"colab-df-container\">\n",
              "    <div>\n",
              "<style scoped>\n",
              "    .dataframe tbody tr th:only-of-type {\n",
              "        vertical-align: middle;\n",
              "    }\n",
              "\n",
              "    .dataframe tbody tr th {\n",
              "        vertical-align: top;\n",
              "    }\n",
              "\n",
              "    .dataframe thead th {\n",
              "        text-align: right;\n",
              "    }\n",
              "</style>\n",
              "<table border=\"1\" class=\"dataframe\">\n",
              "  <thead>\n",
              "    <tr style=\"text-align: right;\">\n",
              "      <th></th>\n",
              "      <th>TaskId</th>\n",
              "      <th>Benchmark_MCT</th>\n",
              "      <th>CNN_Adaptive_MCT</th>\n",
              "      <th>ConvLSTM_Adaptive_MCT</th>\n",
              "      <th>TCNN_Adaptive_MCT</th>\n",
              "    </tr>\n",
              "  </thead>\n",
              "  <tbody>\n",
              "    <tr>\n",
              "      <th>507</th>\n",
              "      <td>507</td>\n",
              "      <td>2</td>\n",
              "      <td>0</td>\n",
              "      <td>1</td>\n",
              "      <td>2</td>\n",
              "    </tr>\n",
              "    <tr>\n",
              "      <th>508</th>\n",
              "      <td>508</td>\n",
              "      <td>1</td>\n",
              "      <td>0</td>\n",
              "      <td>0</td>\n",
              "      <td>0</td>\n",
              "    </tr>\n",
              "    <tr>\n",
              "      <th>509</th>\n",
              "      <td>509</td>\n",
              "      <td>7</td>\n",
              "      <td>7</td>\n",
              "      <td>7</td>\n",
              "      <td>1</td>\n",
              "    </tr>\n",
              "    <tr>\n",
              "      <th>510</th>\n",
              "      <td>510</td>\n",
              "      <td>10</td>\n",
              "      <td>8</td>\n",
              "      <td>9</td>\n",
              "      <td>10</td>\n",
              "    </tr>\n",
              "    <tr>\n",
              "      <th>511</th>\n",
              "      <td>511</td>\n",
              "      <td>3</td>\n",
              "      <td>6</td>\n",
              "      <td>3</td>\n",
              "      <td>4</td>\n",
              "    </tr>\n",
              "  </tbody>\n",
              "</table>\n",
              "</div>\n",
              "    <div class=\"colab-df-buttons\">\n",
              "\n",
              "  <div class=\"colab-df-container\">\n",
              "    <button class=\"colab-df-convert\" onclick=\"convertToInteractive('df-f91f61e4-fe52-4b0e-87d6-f5728c0fa529')\"\n",
              "            title=\"Convert this dataframe to an interactive table.\"\n",
              "            style=\"display:none;\">\n",
              "\n",
              "  <svg xmlns=\"http://www.w3.org/2000/svg\" height=\"24px\" viewBox=\"0 -960 960 960\">\n",
              "    <path d=\"M120-120v-720h720v720H120Zm60-500h600v-160H180v160Zm220 220h160v-160H400v160Zm0 220h160v-160H400v160ZM180-400h160v-160H180v160Zm440 0h160v-160H620v160ZM180-180h160v-160H180v160Zm440 0h160v-160H620v160Z\"/>\n",
              "  </svg>\n",
              "    </button>\n",
              "\n",
              "  <style>\n",
              "    .colab-df-container {\n",
              "      display:flex;\n",
              "      gap: 12px;\n",
              "    }\n",
              "\n",
              "    .colab-df-convert {\n",
              "      background-color: #E8F0FE;\n",
              "      border: none;\n",
              "      border-radius: 50%;\n",
              "      cursor: pointer;\n",
              "      display: none;\n",
              "      fill: #1967D2;\n",
              "      height: 32px;\n",
              "      padding: 0 0 0 0;\n",
              "      width: 32px;\n",
              "    }\n",
              "\n",
              "    .colab-df-convert:hover {\n",
              "      background-color: #E2EBFA;\n",
              "      box-shadow: 0px 1px 2px rgba(60, 64, 67, 0.3), 0px 1px 3px 1px rgba(60, 64, 67, 0.15);\n",
              "      fill: #174EA6;\n",
              "    }\n",
              "\n",
              "    .colab-df-buttons div {\n",
              "      margin-bottom: 4px;\n",
              "    }\n",
              "\n",
              "    [theme=dark] .colab-df-convert {\n",
              "      background-color: #3B4455;\n",
              "      fill: #D2E3FC;\n",
              "    }\n",
              "\n",
              "    [theme=dark] .colab-df-convert:hover {\n",
              "      background-color: #434B5C;\n",
              "      box-shadow: 0px 1px 3px 1px rgba(0, 0, 0, 0.15);\n",
              "      filter: drop-shadow(0px 1px 2px rgba(0, 0, 0, 0.3));\n",
              "      fill: #FFFFFF;\n",
              "    }\n",
              "  </style>\n",
              "\n",
              "    <script>\n",
              "      const buttonEl =\n",
              "        document.querySelector('#df-f91f61e4-fe52-4b0e-87d6-f5728c0fa529 button.colab-df-convert');\n",
              "      buttonEl.style.display =\n",
              "        google.colab.kernel.accessAllowed ? 'block' : 'none';\n",
              "\n",
              "      async function convertToInteractive(key) {\n",
              "        const element = document.querySelector('#df-f91f61e4-fe52-4b0e-87d6-f5728c0fa529');\n",
              "        const dataTable =\n",
              "          await google.colab.kernel.invokeFunction('convertToInteractive',\n",
              "                                                    [key], {});\n",
              "        if (!dataTable) return;\n",
              "\n",
              "        const docLinkHtml = 'Like what you see? Visit the ' +\n",
              "          '<a target=\"_blank\" href=https://colab.research.google.com/notebooks/data_table.ipynb>data table notebook</a>'\n",
              "          + ' to learn more about interactive tables.';\n",
              "        element.innerHTML = '';\n",
              "        dataTable['output_type'] = 'display_data';\n",
              "        await google.colab.output.renderOutput(dataTable, element);\n",
              "        const docLink = document.createElement('div');\n",
              "        docLink.innerHTML = docLinkHtml;\n",
              "        element.appendChild(docLink);\n",
              "      }\n",
              "    </script>\n",
              "  </div>\n",
              "\n",
              "\n",
              "<div id=\"df-a5c45acc-1ca4-4a64-af5d-ab02772b9ac0\">\n",
              "  <button class=\"colab-df-quickchart\" onclick=\"quickchart('df-a5c45acc-1ca4-4a64-af5d-ab02772b9ac0')\"\n",
              "            title=\"Suggest charts\"\n",
              "            style=\"display:none;\">\n",
              "\n",
              "<svg xmlns=\"http://www.w3.org/2000/svg\" height=\"24px\"viewBox=\"0 0 24 24\"\n",
              "     width=\"24px\">\n",
              "    <g>\n",
              "        <path d=\"M19 3H5c-1.1 0-2 .9-2 2v14c0 1.1.9 2 2 2h14c1.1 0 2-.9 2-2V5c0-1.1-.9-2-2-2zM9 17H7v-7h2v7zm4 0h-2V7h2v10zm4 0h-2v-4h2v4z\"/>\n",
              "    </g>\n",
              "</svg>\n",
              "  </button>\n",
              "\n",
              "<style>\n",
              "  .colab-df-quickchart {\n",
              "      --bg-color: #E8F0FE;\n",
              "      --fill-color: #1967D2;\n",
              "      --hover-bg-color: #E2EBFA;\n",
              "      --hover-fill-color: #174EA6;\n",
              "      --disabled-fill-color: #AAA;\n",
              "      --disabled-bg-color: #DDD;\n",
              "  }\n",
              "\n",
              "  [theme=dark] .colab-df-quickchart {\n",
              "      --bg-color: #3B4455;\n",
              "      --fill-color: #D2E3FC;\n",
              "      --hover-bg-color: #434B5C;\n",
              "      --hover-fill-color: #FFFFFF;\n",
              "      --disabled-bg-color: #3B4455;\n",
              "      --disabled-fill-color: #666;\n",
              "  }\n",
              "\n",
              "  .colab-df-quickchart {\n",
              "    background-color: var(--bg-color);\n",
              "    border: none;\n",
              "    border-radius: 50%;\n",
              "    cursor: pointer;\n",
              "    display: none;\n",
              "    fill: var(--fill-color);\n",
              "    height: 32px;\n",
              "    padding: 0;\n",
              "    width: 32px;\n",
              "  }\n",
              "\n",
              "  .colab-df-quickchart:hover {\n",
              "    background-color: var(--hover-bg-color);\n",
              "    box-shadow: 0 1px 2px rgba(60, 64, 67, 0.3), 0 1px 3px 1px rgba(60, 64, 67, 0.15);\n",
              "    fill: var(--button-hover-fill-color);\n",
              "  }\n",
              "\n",
              "  .colab-df-quickchart-complete:disabled,\n",
              "  .colab-df-quickchart-complete:disabled:hover {\n",
              "    background-color: var(--disabled-bg-color);\n",
              "    fill: var(--disabled-fill-color);\n",
              "    box-shadow: none;\n",
              "  }\n",
              "\n",
              "  .colab-df-spinner {\n",
              "    border: 2px solid var(--fill-color);\n",
              "    border-color: transparent;\n",
              "    border-bottom-color: var(--fill-color);\n",
              "    animation:\n",
              "      spin 1s steps(1) infinite;\n",
              "  }\n",
              "\n",
              "  @keyframes spin {\n",
              "    0% {\n",
              "      border-color: transparent;\n",
              "      border-bottom-color: var(--fill-color);\n",
              "      border-left-color: var(--fill-color);\n",
              "    }\n",
              "    20% {\n",
              "      border-color: transparent;\n",
              "      border-left-color: var(--fill-color);\n",
              "      border-top-color: var(--fill-color);\n",
              "    }\n",
              "    30% {\n",
              "      border-color: transparent;\n",
              "      border-left-color: var(--fill-color);\n",
              "      border-top-color: var(--fill-color);\n",
              "      border-right-color: var(--fill-color);\n",
              "    }\n",
              "    40% {\n",
              "      border-color: transparent;\n",
              "      border-right-color: var(--fill-color);\n",
              "      border-top-color: var(--fill-color);\n",
              "    }\n",
              "    60% {\n",
              "      border-color: transparent;\n",
              "      border-right-color: var(--fill-color);\n",
              "    }\n",
              "    80% {\n",
              "      border-color: transparent;\n",
              "      border-right-color: var(--fill-color);\n",
              "      border-bottom-color: var(--fill-color);\n",
              "    }\n",
              "    90% {\n",
              "      border-color: transparent;\n",
              "      border-bottom-color: var(--fill-color);\n",
              "    }\n",
              "  }\n",
              "</style>\n",
              "\n",
              "  <script>\n",
              "    async function quickchart(key) {\n",
              "      const quickchartButtonEl =\n",
              "        document.querySelector('#' + key + ' button');\n",
              "      quickchartButtonEl.disabled = true;  // To prevent multiple clicks.\n",
              "      quickchartButtonEl.classList.add('colab-df-spinner');\n",
              "      try {\n",
              "        const charts = await google.colab.kernel.invokeFunction(\n",
              "            'suggestCharts', [key], {});\n",
              "      } catch (error) {\n",
              "        console.error('Error during call to suggestCharts:', error);\n",
              "      }\n",
              "      quickchartButtonEl.classList.remove('colab-df-spinner');\n",
              "      quickchartButtonEl.classList.add('colab-df-quickchart-complete');\n",
              "    }\n",
              "    (() => {\n",
              "      let quickchartButtonEl =\n",
              "        document.querySelector('#df-a5c45acc-1ca4-4a64-af5d-ab02772b9ac0 button');\n",
              "      quickchartButtonEl.style.display =\n",
              "        google.colab.kernel.accessAllowed ? 'block' : 'none';\n",
              "    })();\n",
              "  </script>\n",
              "</div>\n",
              "\n",
              "    </div>\n",
              "  </div>\n"
            ],
            "application/vnd.google.colaboratory.intrinsic+json": {
              "type": "dataframe",
              "repr_error": "0"
            }
          },
          "metadata": {},
          "execution_count": 181
        }
      ]
    }
  ],
  "metadata": {
    "colab": {
      "provenance": [],
      "collapsed_sections": [
        "U4CT2jX2l7VG",
        "7LadYc54mQfk",
        "4HRilzDYLtU-",
        "plmlFjaEL1f6",
        "nVwQiukKSqX4",
        "m01V4XJRWBVp",
        "Gr-lmMpnmK3B",
        "thufWHwcJxgf"
      ],
      "toc_visible": true,
      "include_colab_link": true
    },
    "kernelspec": {
      "display_name": "Python 3",
      "name": "python3"
    },
    "language_info": {
      "name": "python"
    }
  },
  "nbformat": 4,
  "nbformat_minor": 0
}