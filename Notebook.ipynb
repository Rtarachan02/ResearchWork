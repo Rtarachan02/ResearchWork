{
  "cells": [
    {
      "cell_type": "markdown",
      "metadata": {
        "id": "view-in-github",
        "colab_type": "text"
      },
      "source": [
        "<a href=\"https://colab.research.google.com/github/Rtarachan02/ResearchWork/blob/main/Notebook.ipynb\" target=\"_parent\"><img src=\"https://colab.research.google.com/assets/colab-badge.svg\" alt=\"Open In Colab\"/></a>"
      ]
    },
    {
      "cell_type": "markdown",
      "metadata": {
        "id": "U4CT2jX2l7VG"
      },
      "source": [
        "# Imports"
      ]
    },
    {
      "cell_type": "code",
      "execution_count": 1,
      "metadata": {
        "id": "j56bksPjqeqX"
      },
      "outputs": [],
      "source": [
        "import numpy as np\n",
        "import pandas as pd\n",
        "import tensorflow as tf\n",
        "from tensorflow import keras\n"
      ]
    },
    {
      "cell_type": "code",
      "execution_count": 2,
      "metadata": {
        "colab": {
          "base_uri": "https://localhost:8080/"
        },
        "id": "8XAE7oCbhj1L",
        "outputId": "1bc6c0ab-615f-44d8-a4dc-ab110fda2f8d"
      },
      "outputs": [
        {
          "output_type": "stream",
          "name": "stdout",
          "text": [
            "Mounted at /content/drive\n"
          ]
        }
      ],
      "source": [
        "from google.colab import drive\n",
        "drive.mount('/content/drive')\n"
      ]
    },
    {
      "cell_type": "markdown",
      "metadata": {
        "id": "7LadYc54mQfk"
      },
      "source": [
        "# Datasets()"
      ]
    },
    {
      "cell_type": "markdown",
      "source": [
        "For converting TXT file to CSV file."
      ],
      "metadata": {
        "id": "nMFSDDA0Rriw"
      }
    },
    {
      "cell_type": "markdown",
      "metadata": {
        "id": "wN4DE1GQyKH4"
      },
      "source": [
        "## .txt to .csv 512 x16  or other dims check well"
      ]
    },
    {
      "cell_type": "code",
      "execution_count": 5,
      "metadata": {
        "id": "q3qIPFvdmUNS",
        "colab": {
          "base_uri": "https://localhost:8080/"
        },
        "outputId": "8c032105-52e7-4f69-ee99-69fd4642f0f4"
      },
      "outputs": [
        {
          "output_type": "stream",
          "name": "stdout",
          "text": [
            "(1024, 32)\n"
          ]
        }
      ],
      "source": [
        "path='/content/drive/My Drive/FOG AND EDGE/Adaptive MCT/1024x32/A.u_c_lolo'\n",
        "with open(path) as f:\n",
        "    lines = f.readlines()\n",
        "lines=lines[1:]\n",
        "data=[float(x.strip()) for x in lines]\n",
        "# data=lines\n",
        "uslolo=[data[i:i+32] for i in range(0, len(data), 32)]\n",
        "uslolodf=pd.DataFrame(uslolo)\n",
        "print(uslolodf.shape)\n",
        "uslolodf.tail(5)\n",
        "path2='/content/drive/My Drive/FOG AND EDGE/Adaptive MCT/1024x32/A.u_c_lolo.csv'\n",
        "uslolodf.to_csv(path2,index=False)"
      ]
    },
    {
      "cell_type": "markdown",
      "metadata": {
        "id": "E3TIoKeed0-n"
      },
      "source": [
        "## preprocess data"
      ]
    },
    {
      "cell_type": "markdown",
      "source": [
        "string formatis converted to floating point, if any space is there it will be checked."
      ],
      "metadata": {
        "id": "ezGHC9wOS5aq"
      }
    },
    {
      "cell_type": "code",
      "execution_count": null,
      "metadata": {
        "id": "UbYl-toXd5-b"
      },
      "outputs": [],
      "source": [
        "path='/content/drive/My Drive/FOG AND EDGE/Assignment2/u_s_hihi.csv'\n",
        "data = pd.read_csv(path)\n",
        "data=data[:512]\n",
        "data.drop(data.columns[0], axis=1, inplace=True)\n",
        "data.head(25)\n",
        "# data=data[:,1:]\n",
        "data.to_csv(path, index=False)"
      ]
    },
    {
      "cell_type": "markdown",
      "metadata": {
        "id": "KJffxD5DljJ5"
      },
      "source": [
        "## Append All (Optional for merged instances case)"
      ]
    },
    {
      "cell_type": "code",
      "execution_count": null,
      "metadata": {
        "id": "AlihG5Pslmvn"
      },
      "outputs": [],
      "source": [
        "import pandas as pd\n",
        "\n",
        "# List of file paths\n",
        "csv_paths = [\n",
        "    '/content/drive/My Drive/FOG AND EDGE/Assignment2/u_c_lolo.csv',\n",
        "    '/content/drive/My Drive/FOG AND EDGE/Assignment2/u_c_hihi.csv',\n",
        "    '/content/drive/My Drive/FOG AND EDGE/Assignment2/u_c_hilo.csv',\n",
        "    '/content/drive/My Drive/FOG AND EDGE/Assignment2/u_c_lohi.csv',\n",
        "    '/content/drive/My Drive/FOG AND EDGE/Assignment2/u_i_lolo.csv',\n",
        "    '/content/drive/My Drive/FOG AND EDGE/Assignment2/u_i_hihi.csv',\n",
        "    '/content/drive/My Drive/FOG AND EDGE/Assignment2/u_i_hilo.csv',\n",
        "    '/content/drive/My Drive/FOG AND EDGE/Assignment2/u_i_lohi.csv',\n",
        "    '/content/drive/My Drive/FOG AND EDGE/Assignment2/u_s_lolo.csv',\n",
        "    '/content/drive/My Drive/FOG AND EDGE/Assignment2/u_s_hihi.csv',\n",
        "    '/content/drive/My Drive/FOG AND EDGE/Assignment2/u_s_hilo.csv',\n",
        "    '/content/drive/My Drive/FOG AND EDGE/Assignment2/u_s_lohi.csv'\n",
        "]\n",
        "\n",
        "# Read and concatenate all the files in the list\n",
        "merged_df = pd.concat([pd.read_csv(path) for path in csv_paths], ignore_index=True)\n",
        "\n",
        "# Check the last few rows of the merged DataFrame\n",
        "# print(merged_df.tail())\n",
        "# merged_df.tail(25)\n",
        "merged_df=merged_df.drop(merged_df.columns[-1], axis=1)\n",
        "merged_df.head(25)\n",
        "# Save the merged DataFrame to a new CSV file\n",
        "merged_df.to_csv('/content/drive/My Drive/FOG AND EDGE/Assignment2/tasks_machines.csv', index=False)\n"
      ]
    },
    {
      "cell_type": "markdown",
      "source": [
        "# CNN Model"
      ],
      "metadata": {
        "id": "4HRilzDYLtU-"
      }
    },
    {
      "cell_type": "code",
      "source": [
        "!ls 'drive/My Drive/Sanjaya Kumar Panda'"
      ],
      "metadata": {
        "colab": {
          "base_uri": "https://localhost:8080/"
        },
        "id": "GqHKZyVclBw2",
        "outputId": "266925ab-d78c-479e-f00f-e20e45470d92"
      },
      "execution_count": null,
      "outputs": [
        {
          "output_type": "stream",
          "name": "stdout",
          "text": [
            "'Ongoing Papers'\n"
          ]
        }
      ]
    },
    {
      "cell_type": "code",
      "source": [
        "from tensorflow.keras.models import Model\n",
        "from tensorflow.keras.layers import Input, Conv2D, Dense, Flatten\n",
        "from tensorflow.keras.optimizers import Adam\n",
        "\n",
        "class CNNModel:\n",
        "    def __init__(self, input_shape, filters=32, kernel_size=(3, 3), loss='mse'):\n",
        "        self.input_shape = input_shape\n",
        "        self.filters = filters\n",
        "        self.kernel_size = kernel_size\n",
        "        self.loss = loss\n",
        "        self.model = self._build_model()\n",
        "\n",
        "    def _build_model(self, learning_rate=0.001):\n",
        "        input_layer = Input(shape=self.input_shape)\n",
        "        conv = Conv2D(filters=self.filters, kernel_size=self.kernel_size, padding='same', activation='relu')(input_layer)\n",
        "        conv = Conv2D(filters=self.filters, kernel_size=self.kernel_size, padding='same', activation='relu')(conv)\n",
        "        flatten = Flatten()(conv)\n",
        "        output_layer = Dense(32)(flatten)\n",
        "\n",
        "        # Create Adam optimizer with a placeholder learning rate\n",
        "        self.optimizer = Adam(learning_rate=learning_rate)\n",
        "\n",
        "        model = Model(inputs=input_layer, outputs=output_layer)\n",
        "        model.compile(optimizer=self.optimizer, loss=self.loss)\n",
        "        return model\n",
        "\n",
        "    def train(self, X_train, y_train, epochs=200, batch_size=32, validation_split=0.2, learning_rate=0.005):\n",
        "        # Update the learning rate dynamically before training\n",
        "        self.optimizer.learning_rate = learning_rate\n",
        "\n",
        "        # Rebuild the model to apply the new learning rate\n",
        "        self.model = self._build_model(learning_rate=learning_rate)\n",
        "\n",
        "        history = self.model.fit(X_train, y_train, epochs=epochs, batch_size=batch_size, validation_split=validation_split)\n",
        "        return history\n",
        "\n",
        "    def predict(self, X_test):\n",
        "        y_pred = self.model.predict(X_test)\n",
        "        return y_pred\n",
        "\n",
        "    @staticmethod\n",
        "    def create_sliding_windows(data, window_size=20):\n",
        "        X, y = [], []\n",
        "        for i in range(len(data) - window_size):\n",
        "            X.append(data[i:i+window_size])\n",
        "            y.append(data[i+window_size])\n",
        "        return np.array(X), np.array(y)\n"
      ],
      "metadata": {
        "id": "AlDEZkrxLy4q"
      },
      "execution_count": 8,
      "outputs": []
    },
    {
      "cell_type": "code",
      "source": [
        "%%capture\n",
        "path='/content/drive/My Drive/FOG AND EDGE/Adaptive MCT/1024x32/A.u_c_hihi.csv'\n",
        "# path='/content/drive/My Drive/Sanjaya Kumar Panda/Ongoing Papers/Tara/Adaptive MCT/u_c_hihi.csv'\n",
        "# path='/content/drive/My Drive/Adaptive MCT/u_c_hihi.csv'\n",
        "data_df = pd.read_csv(path)\n",
        "data=data_df.to_numpy()\n",
        "data = np.array(data, dtype=str)\n",
        "data = np.char.strip(data)  #\n",
        "data[data == ''] = '0.0'\n",
        "data=data.astype(float)\n",
        "cnn_model_instance = CNNModel(input_shape=(20, 32,1))\n",
        "X, y = CNNModel.create_sliding_windows(data)\n",
        "cnn_model_instance.train(X, y, epochs=500, batch_size=32, validation_split=0.2)\n",
        "X_test = X  # Replace with actual test data\n",
        "# y_pred = cnn_model_instance.predict(X_test)"
      ],
      "metadata": {
        "id": "42IeSfZHkxQg"
      },
      "execution_count": 11,
      "outputs": []
    },
    {
      "cell_type": "code",
      "source": [
        "X_test = X  # Replace with actual test data\n",
        "y_pred = cnn_model_instance.predict(X_test)\n",
        "print(y_pred[0])"
      ],
      "metadata": {
        "colab": {
          "base_uri": "https://localhost:8080/"
        },
        "id": "UhuK7-_alQ0n",
        "outputId": "c883e269-5381-4bd9-f262-0c5b0bc29cfc"
      },
      "execution_count": 12,
      "outputs": [
        {
          "output_type": "stream",
          "name": "stdout",
          "text": [
            "\u001b[1m32/32\u001b[0m \u001b[32m━━━━━━━━━━━━━━━━━━━━\u001b[0m\u001b[37m\u001b[0m \u001b[1m1s\u001b[0m 27ms/step\n",
            "[ 288860.44  448170.12  583028.1   645736.4   741158.94  914792.7\n",
            "  926220.6   945518.    967057.8  1665093.2  1840542.4  2266403.8\n",
            " 2344230.5  2373262.   2519482.   2729150.   2755078.5  3112795.\n",
            " 3270294.   3522763.8  3753718.8  3762088.5  3954151.5  4165458.2\n",
            " 4313337.5  4355947.5  4621066.5  4939415.   5770953.   5861645.\n",
            " 5969500.5  6008018.  ]\n"
          ]
        }
      ]
    },
    {
      "cell_type": "markdown",
      "source": [
        "# ConvLSTM Model"
      ],
      "metadata": {
        "id": "plmlFjaEL1f6"
      }
    },
    {
      "cell_type": "code",
      "source": [
        "from tensorflow.keras.models import Model\n",
        "from tensorflow.keras.layers import Input, ConvLSTM2D, Dense, Flatten\n",
        "from tensorflow.keras.optimizers import Adam\n",
        "\n",
        "class ConvLSTMModel:\n",
        "    def __init__(self, input_shape, filters=32, kernel_size=(3, 1), loss='mse'):\n",
        "        self.input_shape = input_shape\n",
        "        self.filters = filters\n",
        "        self.kernel_size = kernel_size\n",
        "        self.loss = loss\n",
        "        self.model = self._build_model()\n",
        "\n",
        "    def _build_model(self, learning_rate=0.001):\n",
        "        input_layer = Input(shape=self.input_shape)\n",
        "        # Using ConvLSTM2D for capturing spatial and temporal information\n",
        "        conv_lstm = ConvLSTM2D(filters=self.filters, kernel_size=self.kernel_size, padding='same', activation='relu', return_sequences=True)(input_layer)\n",
        "        conv_lstm = ConvLSTM2D(filters=self.filters, kernel_size=self.kernel_size, padding='same', activation='relu')(conv_lstm)\n",
        "        flatten = Flatten()(conv_lstm)\n",
        "        output_layer = Dense(32)(flatten)\n",
        "\n",
        "        # Create Adam optimizer with a placeholder learning rate\n",
        "        self.optimizer = Adam(learning_rate=learning_rate)\n",
        "\n",
        "        model = Model(inputs=input_layer, outputs=output_layer)\n",
        "        model.compile(optimizer=self.optimizer, loss=self.loss)\n",
        "        return model\n",
        "\n",
        "    def train(self, X_train, y_train, epochs=200, batch_size=32, validation_split=0.2, learning_rate=0.005):\n",
        "        # Update the learning rate dynamically before training\n",
        "        self.optimizer.learning_rate = learning_rate\n",
        "\n",
        "        # Rebuild the model to apply the new learning rate\n",
        "        self.model = self._build_model(learning_rate=learning_rate)\n",
        "\n",
        "        history = self.model.fit(X_train, y_train, epochs=epochs, batch_size=batch_size, validation_split=validation_split)\n",
        "        return history\n",
        "\n",
        "    def predict(self, X_test):\n",
        "        y_pred = self.model.predict(X_test)\n",
        "        return y_pred\n",
        "\n",
        "    @staticmethod\n",
        "    def create_sliding_windows(data, window_size=20):\n",
        "        X, y = [], []\n",
        "        for i in range(len(data) - window_size):\n",
        "            X.append(data[i:i+window_size])\n",
        "            y.append(data[i+window_size])\n",
        "        return np.array(X), np.array(y)\n"
      ],
      "metadata": {
        "id": "qedmqw6LL61m"
      },
      "execution_count": 13,
      "outputs": []
    },
    {
      "cell_type": "code",
      "source": [
        "%%capture\n",
        "path='/content/drive/My Drive/FOG AND EDGE/Adaptive MCT/1024x32/A.u_c_hihi.csv'\n",
        "# path='/content/drive/My Drive/FOG AND EDGE/Adaptive MCT/DataGen/data2.csv'\n",
        "# path='/content/drive/My Drive/FOG AND EDGE/Adaptive MCT/u_c_hihi.csv'\n",
        "data_df = pd.read_csv(path)\n",
        "data=data_df.to_numpy()\n",
        "data = np.array(data, dtype=str)\n",
        "data = np.char.strip(data)  #\n",
        "data[data == ''] = '0.0'\n",
        "data=data.astype(float)\n",
        "convlstm_model_instance = ConvLSTMModel(input_shape=(20, 32,1,1))\n",
        "X, y = ConvLSTMModel.create_sliding_windows(data)\n",
        "X = X.reshape(X.size//640, 20, 32, 1, 1)\n",
        "convlstm_model_instance.train(X, y, epochs=200, batch_size=32, validation_split=0.2)\n",
        "X_test = X  # Replace with actual test data\n",
        "# y_pred = convlstm_model_instance.predict(X_test)\n"
      ],
      "metadata": {
        "id": "6d5Jx4ojliUO"
      },
      "execution_count": 15,
      "outputs": []
    },
    {
      "cell_type": "code",
      "source": [
        "X_test = X  # Replace with actual test data\n",
        "y_pred = convlstm_model_instance.predict(X_test)\n",
        "print(y_pred[0])"
      ],
      "metadata": {
        "colab": {
          "base_uri": "https://localhost:8080/"
        },
        "id": "D92nGrnuo_Xs",
        "outputId": "667076bc-7fd5-4ac9-d11a-4951cdd44ebf"
      },
      "execution_count": null,
      "outputs": [
        {
          "output_type": "stream",
          "name": "stdout",
          "text": [
            "\u001b[1m16/16\u001b[0m \u001b[32m━━━━━━━━━━━━━━━━━━━━\u001b[0m\u001b[37m\u001b[0m \u001b[1m1s\u001b[0m 59ms/step\n",
            "[  93531.06  173828.33  255149.14  356616.2   436332.72  509989.28\n",
            "  567891.44  659520.44  743520.2   804809.3   897672.44  974077.94\n",
            " 1065892.4  1145219.5  1221060.5  1307839.6 ]\n"
          ]
        }
      ]
    },
    {
      "cell_type": "markdown",
      "metadata": {
        "id": "nVwQiukKSqX4"
      },
      "source": [
        "# TCNN Model"
      ]
    },
    {
      "cell_type": "code",
      "execution_count": 16,
      "metadata": {
        "id": "9hbDjKBJSuLN"
      },
      "outputs": [],
      "source": [
        "from tensorflow.keras.models import Model\n",
        "from tensorflow.keras.layers import Input, Conv1D, Dense, Flatten\n",
        "from tensorflow.keras.optimizers import Adam\n",
        "\n",
        "class TCNNModel:\n",
        "    def __init__(self, input_shape, filters=32, kernel_size=2, loss='mse'):\n",
        "        self.input_shape = input_shape\n",
        "        self.filters = filters\n",
        "        self.kernel_size = kernel_size\n",
        "        self.loss = loss\n",
        "        self.model = self._build_model()\n",
        "\n",
        "    def _build_model(self, learning_rate=0.001):\n",
        "        input_layer = Input(shape=self.input_shape)\n",
        "        conv = Conv1D(filters=self.filters, kernel_size=self.kernel_size, padding='causal', activation='relu')(input_layer)\n",
        "        conv = Conv1D(filters=self.filters, kernel_size=self.kernel_size, padding='causal', activation='relu')(conv)\n",
        "        flatten = Flatten()(conv)\n",
        "        output_layer = Dense(32)(flatten)\n",
        "\n",
        "        # Create Adam optimizer with a placeholder learning rate\n",
        "        self.optimizer = Adam(learning_rate=learning_rate)\n",
        "\n",
        "        model = Model(inputs=input_layer, outputs=output_layer)\n",
        "        model.compile(optimizer=self.optimizer, loss=self.loss)\n",
        "        return model\n",
        "\n",
        "    def train(self, X_train, y_train, epochs=200, batch_size=32, validation_split=0.2, learning_rate=0.005):\n",
        "        # Update the learning rate dynamically before training\n",
        "        self.optimizer.learning_rate = learning_rate\n",
        "\n",
        "        # Rebuild the model to apply the new learning rate\n",
        "        self.model = self._build_model(learning_rate=learning_rate)\n",
        "\n",
        "        history = self.model.fit(X_train, y_train, epochs=epochs, batch_size=batch_size, validation_split=validation_split)\n",
        "        return history\n",
        "\n",
        "    def predict(self, X_test):\n",
        "        y_pred = self.model.predict(X_test)\n",
        "        return y_pred\n",
        "\n",
        "    @staticmethod\n",
        "    def create_sliding_windows(data, window_size=20):\n",
        "        X, y = [], []\n",
        "        for i in range(len(data) - window_size):\n",
        "            X.append(data[i:i+window_size])\n",
        "            y.append(data[i+window_size])\n",
        "        return np.array(X), np.array(y)"
      ]
    },
    {
      "cell_type": "code",
      "execution_count": 17,
      "metadata": {
        "id": "MNmd27iLTT1e"
      },
      "outputs": [],
      "source": [
        "%%capture\n",
        "path='/content/drive/My Drive/FOG AND EDGE/Adaptive MCT/1024x32/A.u_c_hihi.csv'\n",
        "# path='/content/drive/My Drive/FOG AND EDGE/Adaptive MCT/DataGen/data2.csv'\n",
        "# path='/content/drive/My Drive/FOG AND EDGE/Adaptive MCT/u_c_hihi.csv'\n",
        "data_df = pd.read_csv(path)\n",
        "data=data_df.to_numpy()\n",
        "data = np.array(data, dtype=str)\n",
        "data = np.char.strip(data)  #\n",
        "data[data == ''] = '0.0'\n",
        "data=data.astype(float)\n",
        "tcnn_model_instance = TCNNModel(input_shape=(20, 32))\n",
        "X, y = TCNNModel.create_sliding_windows(data)\n",
        "tcnn_model_instance.train(X, y, epochs=500, batch_size=32, validation_split=0.2)\n",
        "X_test = X  # Replace with actual test data\n",
        "# y_pred = tcnn_model_instance.predict(X_test)\n"
      ]
    },
    {
      "cell_type": "code",
      "execution_count": null,
      "metadata": {
        "colab": {
          "base_uri": "https://localhost:8080/"
        },
        "id": "Cwq6S1LVywm4",
        "outputId": "99f8a2a4-79d7-4f88-85ee-04e4d108181f"
      },
      "outputs": [
        {
          "output_type": "stream",
          "name": "stdout",
          "text": [
            "\u001b[1m16/16\u001b[0m \u001b[32m━━━━━━━━━━━━━━━━━━━━\u001b[0m\u001b[37m\u001b[0m \u001b[1m0s\u001b[0m 6ms/step\n",
            "[  99049.87  304976.25  536345.9   847528.94  940096.3  1114247.9\n",
            " 1235481.5  1613519.6  1896066.8  2004983.4  2110446.5  2231784.\n",
            " 2520562.5  2618435.5  2707569.   2903516.2 ]\n"
          ]
        }
      ],
      "source": [
        "X_test = X  # Replace with actual test data\n",
        "y_pred = tcnn_model_instance.predict(X_test)\n",
        "print(y_pred[0])"
      ]
    },
    {
      "cell_type": "markdown",
      "source": [
        "## save model"
      ],
      "metadata": {
        "id": "FNGqJLQFMHAK"
      }
    },
    {
      "cell_type": "code",
      "source": [
        "\n",
        "# Save the model in Keras format\n",
        "model_instance.model.save('/content/drive/My Drive/FOG AND EDGE/Assignment2/tcnn_model.keras')\n"
      ],
      "metadata": {
        "id": "sJ55xd0RNc6r"
      },
      "execution_count": null,
      "outputs": []
    },
    {
      "cell_type": "markdown",
      "source": [
        "# Benchmark MCT Algorithm"
      ],
      "metadata": {
        "id": "m01V4XJRWBVp"
      }
    },
    {
      "cell_type": "code",
      "source": [
        "import numpy as np\n",
        "\n",
        "class TaskScheduler:\n",
        "    def __init__(self, num_resources, tasks):\n",
        "        self.num_resources = num_resources\n",
        "        self.tasks = np.array(tasks)  # Only execution times for simplicity\n",
        "        self.resources = np.zeros(num_resources)  # Initialize resources' completion times\n",
        "\n",
        "    def assign_tasks(self):\n",
        "        task_assignments = []\n",
        "        # for task_execution_times in self.tasks:\n",
        "        for i in range(len(self.tasks)):\n",
        "            task_execution_times = self.tasks[i]\n",
        "            # Find the resource with the minimum current completion time\n",
        "            min_completion_time_resource = np.argmin(self.resources + task_execution_times)\n",
        "            # Assign the task to this resource\n",
        "            self.resources[min_completion_time_resource] += task_execution_times[min_completion_time_resource]\n",
        "            task_assignments.append((i, min_completion_time_resource))\n",
        "\n",
        "        return task_assignments\n",
        "\n",
        "    def calculate_makespan(self):\n",
        "        # The makespan is the maximum value in resources array\n",
        "        return np.max(self.resources)\n",
        "\n"
      ],
      "metadata": {
        "id": "a1mBN9nLWmGo"
      },
      "execution_count": 18,
      "outputs": []
    },
    {
      "cell_type": "code",
      "source": [
        "path2='/content/drive/My Drive/FOG AND EDGE/Adaptive MCT/1024x32/A.u_c_hihi.csv'\n",
        "# path2='/content/drive/MyDrive/FOG AND EDGE/Adaptive MCT/DataGen/data2.csv'\n",
        "# path2='/content/drive/MyDrive/FOG AND EDGE/Adaptive MCT/1024x32/A.u_c_hihi.csv'\n",
        "data_df = pd.read_csv(path2)\n",
        "data=data_df.to_numpy()\n",
        "data = np.array(data, dtype=str)\n",
        "data = np.char.strip(data)  #\n",
        "# data[data == ''] = '260561'\n",
        "tasks=data.astype(float)\n",
        "num_resources = 32\n",
        "scheduler = TaskScheduler(num_resources=num_resources, tasks=tasks)\n",
        "task_assignments = scheduler.assign_tasks()\n",
        "makespan = scheduler.calculate_makespan()\n",
        "print(\"Makespan using Benchmark MCT is\",makespan)"
      ],
      "metadata": {
        "colab": {
          "base_uri": "https://localhost:8080/"
        },
        "id": "ZUHvtMoWWsrW",
        "outputId": "f23ba8e0-0cb8-4b50-f7c1-b12d0e691697"
      },
      "execution_count": 19,
      "outputs": [
        {
          "output_type": "stream",
          "name": "stdout",
          "text": [
            "Makespan using Benchmark MCT is 32832741.92\n"
          ]
        }
      ]
    },
    {
      "cell_type": "markdown",
      "metadata": {
        "id": "Gr-lmMpnmK3B"
      },
      "source": [
        "# Adaptive MCT Alogorithms"
      ]
    },
    {
      "cell_type": "code",
      "execution_count": 22,
      "metadata": {
        "id": "aDkUR8aDr3fQ"
      },
      "outputs": [],
      "source": [
        "class TaskScheduler:\n",
        "    def __init__(self, num_resources, tasks, model_instance,model_code):\n",
        "        self.num_resources = num_resources\n",
        "        self.model_code=model_code\n",
        "        self.tasks = np.array(tasks)  # Only execution times\n",
        "        self.model_instance = model_instance\n",
        "        self.resources = np.zeros(num_resources)  # Initialize resources' completion times\n",
        "    def predict_execution_times(self, task_data):\n",
        "        # task_data = task_data[np.newaxis, ...]\n",
        "        return self.model_instance.predict(task_data)\n",
        "\n",
        "    def calculate_flf(self, predicted_execution_times):\n",
        "        # FLF is directly the predicted execution times for simplicity\n",
        "        return predicted_execution_times\n",
        "\n",
        "    def calculate_wf(self, exec_time, min_exec_time, max_exec_time, task_size):\n",
        "        return ((exec_time - min_exec_time) / (max_exec_time - min_exec_time)) * (1 - np.exp(-task_size))\n",
        "\n",
        "    def assign_tasks(self):\n",
        "        task_assignments = []\n",
        "        for i in range(len(self.tasks)):\n",
        "            execution_time = self.tasks[i]\n",
        "            min_exec_time = np.min(execution_time)\n",
        "            max_exec_time = np.max(execution_time)\n",
        "\n",
        "            if i >= 20:\n",
        "              if self.model_code==1:#CNN\n",
        "                # Prepare input data for prediction: use the last 10 tasks\n",
        "                input_data = self.tasks[i-20:i].reshape(1, 20,32)  # Reshape to 1 sample with 10 features\n",
        "                predicted_execution_time = self.predict_execution_times(input_data)\n",
        "              elif self.model_code==2:#ConvLSTM\n",
        "                # Prepare input data for prediction: use the last\n",
        "                input_data = self.tasks[i-20:i].reshape(1, 20,32,1,1)  # Reshape to 1 sample with 10 features\n",
        "                predicted_execution_time = self.predict_execution_times(input_data)\n",
        "              elif self.model_code==3:#TCNN\n",
        "                # Prepare input data for prediction: use the last 10 tasks\n",
        "                input_data = self.tasks[i-20:i].reshape(1, 20,32)  # Reshape to 1 sample with 10 features\n",
        "                predicted_execution_time = self.predict_execution_times(input_data)\n",
        "            else:\n",
        "                predicted_execution_time = np.zeros(32)\n",
        "\n",
        "            ready_time = np.min(self.resources)  # Determine the ready_time based on resource completion times\n",
        "            flf = self.calculate_flf(predicted_execution_time)\n",
        "            wf = self.calculate_wf(execution_time, min_exec_time, max_exec_time, task_size=1024)\n",
        "\n",
        "            # Compute adaptive values for all resources\n",
        "            adaptive_values = ready_time + execution_time + (flf * wf)\n",
        "\n",
        "            # Compute the adaptive value for each resource\n",
        "            resource_adaptive_values = self.resources + adaptive_values\n",
        "\n",
        "            # Find resource with the least adaptive value\n",
        "            assigned_resource = np.argmin(resource_adaptive_values)\n",
        "            self.resources[assigned_resource] += execution_time[assigned_resource]  # Update resource's completion time\n",
        "\n",
        "            task_assignments.append((i, assigned_resource, adaptive_values))  # Include task index\n",
        "\n",
        "        return task_assignments\n",
        "\n",
        "    def calculate_makespan(self):\n",
        "        return np.max(self.resources)\n"
      ]
    },
    {
      "cell_type": "markdown",
      "source": [
        "# Assign Tasks  : Run for each instance One by one"
      ],
      "metadata": {
        "id": "thufWHwcJxgf"
      }
    },
    {
      "cell_type": "code",
      "source": [
        "from tensorflow.keras.models import load_model"
      ],
      "metadata": {
        "id": "ECmwChZTOv9M"
      },
      "execution_count": null,
      "outputs": []
    },
    {
      "cell_type": "code",
      "source": [
        "# Load TCNN model\n",
        "%%capture\n",
        "# model_path = '/content/drive/My Drive/FOG AND EDGE/Assignment2/tcnn_model.keras'  # Replace with your actual model path\n",
        "# tc_model = load_model(model_path)\n",
        "# model_instance=model_instance\n",
        "# path='/content/drive/My Drive/FOG AND EDGE/Assignment2/u_c_hihi.csv'\n",
        "# path2='/content/drive/MyDrive/FOG AND EDGE/Adaptive MCT/DataGen/data2.csv'\n",
        "# path2='/content/drive/MyDrive/FOG AND EDGE/Adaptive MCT/u_c_hihi.csv'\n",
        "path2='/content/drive/My Drive/FOG AND EDGE/Adaptive MCT/1024x32/A.u_c_hihi.csv'\n",
        "data_df = pd.read_csv(path2)\n",
        "data=data_df.to_numpy()\n",
        "data = np.array(data, dtype=str)\n",
        "data = np.char.strip(data)  #\n",
        "# data[data == ''] = '260561'\n",
        "tasks=data.astype(float)\n",
        "num_resources = 32\n",
        "#CNN\n",
        "model_instance=cnn_model_instance\n",
        "scheduler = TaskScheduler(num_resources=num_resources, tasks=tasks, model_instance=model_instance,model_code=1)\n",
        "cnn_task_assignments = scheduler.assign_tasks()\n",
        "cnn_makespan = scheduler.calculate_makespan()\n",
        "\n",
        "\n",
        "#ConvLSTM\n",
        "model_instance=convlstm_model_instance\n",
        "scheduler = TaskScheduler(num_resources=num_resources, tasks=tasks, model_instance=model_instance,model_code=2)\n",
        "convlstm_task_assignments = scheduler.assign_tasks()\n",
        "convlstm_makespan = scheduler.calculate_makespan()\n",
        "\n",
        "\n",
        "#TCNN\n",
        "model_instance=tcnn_model_instance\n",
        "scheduler = TaskScheduler(num_resources=num_resources, tasks=tasks, model_instance=model_instance,model_code=3)\n",
        "tcnn_task_assignments = scheduler.assign_tasks()\n",
        "tcnn_makespan = scheduler.calculate_makespan()\n"
      ],
      "metadata": {
        "id": "t-CWx_Prh77f"
      },
      "execution_count": 23,
      "outputs": []
    },
    {
      "cell_type": "code",
      "source": [
        "#Benchmark MCT\n",
        "print(\"Task Assignments:\", [list(s)[:2] for s in task_assignments])\n",
        "print(\"Makespan using Benchmark MCT is\",makespan)\n",
        "print(\"Task Assignments:\", [list(s)[:2] for s in cnn_task_assignments])\n",
        "print(\"Makespan using Adaptive MCT with CNN is\", cnn_makespan)\n",
        "print(\"Task Assignments:\", [list(s)[:2] for s in convlstm_task_assignments])\n",
        "print(\"Makespan using Adaptive MCT with ConvLSTM is\", convlstm_makespan)\n",
        "print(\"Task Assignments:\", [list(s)[:2] for s in tcnn_task_assignments])\n",
        "print(\"Makespan using Adaptive MCT with TCNN is\", tcnn_makespan)\n"
      ],
      "metadata": {
        "colab": {
          "base_uri": "https://localhost:8080/"
        },
        "id": "ixr9XTjeh_kn",
        "outputId": "f6c2346a-73ea-45e4-a3ad-f4a24ff2c3b2"
      },
      "execution_count": 24,
      "outputs": [
        {
          "output_type": "stream",
          "name": "stdout",
          "text": [
            "Task Assignments: [[0, 0], [1, 0], [2, 1], [3, 2], [4, 3], [5, 4], [6, 0], [7, 1], [8, 0], [9, 5], [10, 2], [11, 0], [12, 1], [13, 3], [14, 4], [15, 6], [16, 7], [17, 8], [18, 2], [19, 9], [20, 7], [21, 4], [22, 10], [23, 11], [24, 5], [25, 12], [26, 13], [27, 0], [28, 0], [29, 0], [30, 1], [31, 0], [32, 2], [33, 14], [34, 3], [35, 15], [36, 1], [37, 5], [38, 16], [39, 1], [40, 17], [41, 5], [42, 2], [43, 0], [44, 8], [45, 6], [46, 0], [47, 1], [48, 18], [49, 0], [50, 4], [51, 19], [52, 0], [53, 0], [54, 0], [55, 10], [56, 0], [57, 3], [58, 0], [59, 12], [60, 20], [61, 21], [62, 9], [63, 22], [64, 1], [65, 23], [66, 11], [67, 0], [68, 6], [69, 24], [70, 25], [71, 7], [72, 0], [73, 0], [74, 8], [75, 14], [76, 19], [77, 10], [78, 5], [79, 7], [80, 2], [81, 1], [82, 0], [83, 26], [84, 27], [85, 1], [86, 0], [87, 24], [88, 3], [89, 28], [90, 4], [91, 20], [92, 13], [93, 29], [94, 30], [95, 31], [96, 0], [97, 5], [98, 3], [99, 0], [100, 9], [101, 15], [102, 2], [103, 6], [104, 21], [105, 7], [106, 11], [107, 1], [108, 2], [109, 31], [110, 23], [111, 30], [112, 4], [113, 17], [114, 1], [115, 25], [116, 0], [117, 3], [118, 6], [119, 30], [120, 16], [121, 1], [122, 18], [123, 28], [124, 1], [125, 5], [126, 4], [127, 20], [128, 12], [129, 8], [130, 28], [131, 1], [132, 9], [133, 14], [134, 15], [135, 0], [136, 28], [137, 2], [138, 26], [139, 27], [140, 10], [141, 3], [142, 4], [143, 5], [144, 30], [145, 2], [146, 19], [147, 7], [148, 22], [149, 29], [150, 11], [151, 13], [152, 3], [153, 0], [154, 2], [155, 30], [156, 24], [157, 21], [158, 28], [159, 14], [160, 25], [161, 1], [162, 6], [163, 26], [164, 9], [165, 10], [166, 26], [167, 29], [168, 1], [169, 12], [170, 0], [171, 30], [172, 15], [173, 0], [174, 0], [175, 4], [176, 7], [177, 3], [178, 2], [179, 1], [180, 21], [181, 0], [182, 5], [183, 9], [184, 4], [185, 14], [186, 23], [187, 3], [188, 1], [189, 31], [190, 26], [191, 27], [192, 3], [193, 16], [194, 18], [195, 17], [196, 31], [197, 12], [198, 6], [199, 1], [200, 0], [201, 2], [202, 13], [203, 7], [204, 27], [205, 30], [206, 8], [207, 0], [208, 25], [209, 1], [210, 3], [211, 10], [212, 0], [213, 1], [214, 6], [215, 0], [216, 1], [217, 22], [218, 13], [219, 4], [220, 1], [221, 19], [222, 3], [223, 15], [224, 2], [225, 5], [226, 0], [227, 20], [228, 8], [229, 7], [230, 0], [231, 26], [232, 1], [233, 0], [234, 11], [235, 29], [236, 9], [237, 24], [238, 18], [239, 17], [240, 2], [241, 1], [242, 5], [243, 1], [244, 0], [245, 21], [246, 14], [247, 30], [248, 31], [249, 28], [250, 23], [251, 0], [252, 6], [253, 15], [254, 8], [255, 16], [256, 0], [257, 12], [258, 10], [259, 4], [260, 28], [261, 23], [262, 26], [263, 28], [264, 1], [265, 11], [266, 1], [267, 9], [268, 31], [269, 15], [270, 29], [271, 2], [272, 13], [273, 27], [274, 3], [275, 5], [276, 1], [277, 4], [278, 6], [279, 1], [280, 26], [281, 1], [282, 2], [283, 19], [284, 2], [285, 0], [286, 3], [287, 25], [288, 22], [289, 30], [290, 1], [291, 2], [292, 5], [293, 21], [294, 7], [295, 31], [296, 20], [297, 8], [298, 9], [299, 15], [300, 1], [301, 29], [302, 4], [303, 24], [304, 14], [305, 6], [306, 25], [307, 10], [308, 28], [309, 3], [310, 0], [311, 2], [312, 1], [313, 21], [314, 1], [315, 4], [316, 17], [317, 5], [318, 12], [319, 2], [320, 6], [321, 7], [322, 18], [323, 13], [324, 26], [325, 31], [326, 16], [327, 11], [328, 1], [329, 27], [330, 22], [331, 30], [332, 23], [333, 28], [334, 8], [335, 21], [336, 2], [337, 30], [338, 1], [339, 27], [340, 19], [341, 5], [342, 31], [343, 3], [344, 0], [345, 29], [346, 1], [347, 2], [348, 0], [349, 21], [350, 9], [351, 3], [352, 0], [353, 12], [354, 20], [355, 28], [356, 14], [357, 1], [358, 10], [359, 7], [360, 2], [361, 6], [362, 22], [363, 25], [364, 5], [365, 29], [366, 1], [367, 17], [368, 27], [369, 2], [370, 3], [371, 24], [372, 16], [373, 15], [374, 31], [375, 0], [376, 4], [377, 1], [378, 0], [379, 21], [380, 8], [381, 27], [382, 2], [383, 11], [384, 0], [385, 17], [386, 1], [387, 0], [388, 10], [389, 13], [390, 23], [391, 19], [392, 25], [393, 30], [394, 4], [395, 20], [396, 5], [397, 3], [398, 3], [399, 2], [400, 0], [401, 6], [402, 7], [403, 16], [404, 22], [405, 18], [406, 26], [407, 0], [408, 5], [409, 30], [410, 27], [411, 0], [412, 24], [413, 0], [414, 4], [415, 1], [416, 0], [417, 2], [418, 29], [419, 20], [420, 0], [421, 31], [422, 9], [423, 11], [424, 3], [425, 6], [426, 27], [427, 8], [428, 15], [429, 14], [430, 12], [431, 7], [432, 2], [433, 0], [434, 1], [435, 1], [436, 26], [437, 4], [438, 3], [439, 28], [440, 27], [441, 10], [442, 5], [443, 13], [444, 0], [445, 8], [446, 23], [447, 3], [448, 11], [449, 1], [450, 0], [451, 21], [452, 2], [453, 24], [454, 20], [455, 19], [456, 27], [457, 1], [458, 0], [459, 30], [460, 17], [461, 3], [462, 26], [463, 4], [464, 7], [465, 6], [466, 18], [467, 26], [468, 22], [469, 31], [470, 28], [471, 29], [472, 2], [473, 0], [474, 14], [475, 15], [476, 5], [477, 1], [478, 0], [479, 12], [480, 10], [481, 3], [482, 4], [483, 4], [484, 9], [485, 0], [486, 0], [487, 2], [488, 1], [489, 2], [490, 1], [491, 26], [492, 26], [493, 8], [494, 0], [495, 0], [496, 21], [497, 23], [498, 29], [499, 13], [500, 27], [501, 25], [502, 3], [503, 9], [504, 6], [505, 0], [506, 31], [507, 7], [508, 16], [509, 1], [510, 11], [511, 30], [512, 2], [513, 1], [514, 14], [515, 4], [516, 2], [517, 29], [518, 28], [519, 24], [520, 19], [521, 27], [522, 3], [523, 25], [524, 17], [525, 10], [526, 5], [527, 31], [528, 28], [529, 13], [530, 12], [531, 20], [532, 14], [533, 0], [534, 6], [535, 0], [536, 1], [537, 4], [538, 2], [539, 9], [540, 8], [541, 0], [542, 15], [543, 18], [544, 3], [545, 2], [546, 0], [547, 0], [548, 24], [549, 0], [550, 0], [551, 3], [552, 28], [553, 11], [554, 22], [555, 16], [556, 2], [557, 6], [558, 14], [559, 1], [560, 5], [561, 27], [562, 0], [563, 10], [564, 30], [565, 31], [566, 8], [567, 2], [568, 20], [569, 13], [570, 4], [571, 18], [572, 28], [573, 31], [574, 19], [575, 26], [576, 12], [577, 10], [578, 7], [579, 17], [580, 1], [581, 3], [582, 20], [583, 7], [584, 30], [585, 27], [586, 0], [587, 5], [588, 0], [589, 24], [590, 25], [591, 21], [592, 0], [593, 30], [594, 2], [595, 1], [596, 26], [597, 0], [598, 6], [599, 1], [600, 16], [601, 23], [602, 3], [603, 29], [604, 2], [605, 3], [606, 1], [607, 22], [608, 4], [609, 5], [610, 31], [611, 2], [612, 0], [613, 29], [614, 12], [615, 8], [616, 28], [617, 29], [618, 14], [619, 7], [620, 0], [621, 10], [622, 0], [623, 11], [624, 21], [625, 23], [626, 27], [627, 24], [628, 2], [629, 0], [630, 9], [631, 1], [632, 3], [633, 2], [634, 30], [635, 4], [636, 5], [637, 0], [638, 6], [639, 12], [640, 2], [641, 1], [642, 0], [643, 2], [644, 8], [645, 4], [646, 15], [647, 16], [648, 9], [649, 2], [650, 17], [651, 14], [652, 22], [653, 2], [654, 7], [655, 25], [656, 6], [657, 27], [658, 0], [659, 1], [660, 0], [661, 19], [662, 1], [663, 1], [664, 26], [665, 30], [666, 30], [667, 0], [668, 13], [669, 11], [670, 24], [671, 20], [672, 3], [673, 18], [674, 1], [675, 21], [676, 10], [677, 23], [678, 5], [679, 31], [680, 2], [681, 29], [682, 3], [683, 24], [684, 1], [685, 7], [686, 4], [687, 4], [688, 1], [689, 16], [690, 31], [691, 17], [692, 0], [693, 1], [694, 22], [695, 9], [696, 5], [697, 28], [698, 20], [699, 6], [700, 31], [701, 12], [702, 29], [703, 10], [704, 14], [705, 7], [706, 8], [707, 13], [708, 11], [709, 27], [710, 15], [711, 0], [712, 26], [713, 29], [714, 16], [715, 3], [716, 30], [717, 23], [718, 24], [719, 2], [720, 10], [721, 31], [722, 29], [723, 22], [724, 4], [725, 0], [726, 9], [727, 25], [728, 0], [729, 0], [730, 0], [731, 0], [732, 8], [733, 1], [734, 6], [735, 3], [736, 2], [737, 3], [738, 25], [739, 29], [740, 14], [741, 31], [742, 2], [743, 4], [744, 18], [745, 7], [746, 21], [747, 0], [748, 29], [749, 5], [750, 15], [751, 0], [752, 1], [753, 13], [754, 19], [755, 2], [756, 3], [757, 2], [758, 11], [759, 26], [760, 10], [761, 20], [762, 1], [763, 27], [764, 7], [765, 9], [766, 23], [767, 17], [768, 1], [769, 26], [770, 26], [771, 18], [772, 14], [773, 0], [774, 25], [775, 21], [776, 31], [777, 3], [778, 22], [779, 22], [780, 27], [781, 0], [782, 0], [783, 4], [784, 7], [785, 29], [786, 8], [787, 1], [788, 0], [789, 1], [790, 1], [791, 0], [792, 3], [793, 2], [794, 11], [795, 23], [796, 4], [797, 5], [798, 16], [799, 1], [800, 10], [801, 20], [802, 0], [803, 0], [804, 6], [805, 14], [806, 30], [807, 12], [808, 2], [809, 0], [810, 1], [811, 3], [812, 1], [813, 0], [814, 5], [815, 7], [816, 9], [817, 8], [818, 31], [819, 0], [820, 4], [821, 6], [822, 2], [823, 1], [824, 29], [825, 24], [826, 3], [827, 19], [828, 13], [829, 1], [830, 27], [831, 18], [832, 0], [833, 28], [834, 21], [835, 26], [836, 27], [837, 1], [838, 17], [839, 8], [840, 3], [841, 31], [842, 5], [843, 29], [844, 2], [845, 25], [846, 15], [847, 23], [848, 16], [849, 25], [850, 0], [851, 30], [852, 1], [853, 0], [854, 22], [855, 1], [856, 19], [857, 1], [858, 6], [859, 7], [860, 2], [861, 12], [862, 30], [863, 0], [864, 24], [865, 27], [866, 4], [867, 14], [868, 3], [869, 20], [870, 1], [871, 23], [872, 10], [873, 8], [874, 0], [875, 27], [876, 2], [877, 30], [878, 4], [879, 10], [880, 5], [881, 17], [882, 0], [883, 1], [884, 26], [885, 16], [886, 11], [887, 20], [888, 23], [889, 2], [890, 1], [891, 30], [892, 9], [893, 24], [894, 28], [895, 29], [896, 13], [897, 5], [898, 30], [899, 2], [900, 31], [901, 0], [902, 7], [903, 21], [904, 0], [905, 28], [906, 14], [907, 15], [908, 6], [909, 0], [910, 22], [911, 3], [912, 19], [913, 28], [914, 0], [915, 31], [916, 17], [917, 18], [918, 1], [919, 2], [920, 0], [921, 27], [922, 1], [923, 0], [924, 0], [925, 20], [926, 16], [927, 1], [928, 28], [929, 5], [930, 12], [931, 1], [932, 11], [933, 23], [934, 0], [935, 27], [936, 15], [937, 6], [938, 30], [939, 22], [940, 2], [941, 10], [942, 1], [943, 0], [944, 28], [945, 5], [946, 16], [947, 1], [948, 4], [949, 8], [950, 13], [951, 7], [952, 14], [953, 31], [954, 2], [955, 6], [956, 30], [957, 3], [958, 24], [959, 9], [960, 7], [961, 1], [962, 18], [963, 1], [964, 3], [965, 1], [966, 2], [967, 25], [968, 20], [969, 22], [970, 12], [971, 26], [972, 5], [973, 10], [974, 11], [975, 1], [976, 6], [977, 0], [978, 21], [979, 3], [980, 16], [981, 5], [982, 13], [983, 4], [984, 9], [985, 2], [986, 0], [987, 1], [988, 17], [989, 23], [990, 30], [991, 0], [992, 24], [993, 19], [994, 29], [995, 12], [996, 14], [997, 15], [998, 7], [999, 3], [1000, 1], [1001, 27], [1002, 6], [1003, 22], [1004, 20], [1005, 2], [1006, 1], [1007, 4], [1008, 30], [1009, 7], [1010, 31], [1011, 0], [1012, 3], [1013, 9], [1014, 26], [1015, 1], [1016, 0], [1017, 4], [1018, 28], [1019, 8], [1020, 5], [1021, 25], [1022, 11], [1023, 23]]\n",
            "Makespan using Benchmark MCT is 32832741.92\n",
            "Task Assignments: [[0, 0], [1, 0], [2, 1], [3, 2], [4, 3], [5, 4], [6, 0], [7, 1], [8, 0], [9, 5], [10, 2], [11, 0], [12, 1], [13, 3], [14, 4], [15, 6], [16, 7], [17, 8], [18, 2], [19, 9], [20, 7], [21, 4], [22, 10], [23, 11], [24, 5], [25, 12], [26, 0], [27, 0], [28, 0], [29, 2], [30, 0], [31, 1], [32, 0], [33, 13], [34, 0], [35, 5], [36, 0], [37, 5], [38, 3], [39, 1], [40, 6], [41, 0], [42, 2], [43, 0], [44, 8], [45, 5], [46, 1], [47, 0], [48, 14], [49, 4], [50, 7], [51, 15], [52, 1], [53, 0], [54, 0], [55, 10], [56, 3], [57, 0], [58, 0], [59, 2], [60, 16], [61, 17], [62, 9], [63, 12], [64, 1], [65, 15], [66, 6], [67, 0], [68, 0], [69, 18], [70, 19], [71, 11], [72, 0], [73, 1], [74, 4], [75, 8], [76, 5], [77, 2], [78, 10], [79, 3], [80, 0], [81, 2], [82, 0], [83, 20], [84, 16], [85, 1], [86, 0], [87, 13], [88, 3], [89, 17], [90, 6], [91, 18], [92, 12], [93, 21], [94, 22], [95, 23], [96, 0], [97, 5], [98, 2], [99, 0], [100, 8], [101, 14], [102, 11], [103, 9], [104, 15], [105, 7], [106, 16], [107, 4], [108, 2], [109, 13], [110, 17], [111, 30], [112, 3], [113, 0], [114, 10], [115, 23], [116, 1], [117, 5], [118, 6], [119, 24], [120, 3], [121, 9], [122, 7], [123, 26], [124, 0], [125, 4], [126, 8], [127, 0], [128, 19], [129, 0], [130, 31], [131, 1], [132, 3], [133, 14], [134, 18], [135, 0], [136, 25], [137, 2], [138, 22], [139, 20], [140, 15], [141, 3], [142, 4], [143, 2], [144, 27], [145, 6], [146, 14], [147, 7], [148, 21], [149, 24], [150, 5], [151, 12], [152, 4], [153, 0], [154, 2], [155, 28], [156, 11], [157, 26], [158, 25], [159, 13], [160, 27], [161, 3], [162, 1], [163, 29], [164, 16], [165, 10], [166, 29], [167, 30], [168, 8], [169, 22], [170, 1], [171, 31], [172, 18], [173, 9], [174, 0], [175, 7], [176, 2], [177, 11], [178, 3], [179, 1], [180, 23], [181, 2], [182, 13], [183, 6], [184, 12], [185, 15], [186, 24], [187, 4], [188, 1], [189, 29], [190, 28], [191, 31], [192, 17], [193, 16], [194, 20], [195, 26], [196, 29], [197, 19], [198, 5], [199, 2], [200, 0], [201, 1], [202, 30], [203, 10], [204, 21], [205, 31], [206, 8], [207, 0], [208, 27], [209, 0], [210, 4], [211, 9], [212, 0], [213, 0], [214, 5], [215, 0], [216, 2], [217, 23], [218, 3], [219, 7], [220, 2], [221, 14], [222, 4], [223, 28], [224, 6], [225, 18], [226, 0], [227, 22], [228, 8], [229, 1], [230, 0], [231, 31], [232, 3], [233, 0], [234, 20], [235, 29], [236, 11], [237, 26], [238, 5], [239, 10], [240, 2], [241, 3], [242, 6], [243, 0], [244, 0], [245, 24], [246, 12], [247, 30], [248, 25], [249, 31], [250, 31], [251, 0], [252, 5], [253, 29], [254, 4], [255, 17], [256, 0], [257, 8], [258, 15], [259, 2], [260, 25], [261, 21], [262, 25], [263, 28], [264, 1], [265, 9], [266, 1], [267, 7], [268, 27], [269, 16], [270, 25], [271, 2], [272, 13], [273, 19], [274, 6], [275, 3], [276, 1], [277, 5], [278, 14], [279, 1], [280, 31], [281, 4], [282, 10], [283, 11], [284, 2], [285, 0], [286, 3], [287, 23], [288, 25], [289, 27], [290, 1], [291, 2], [292, 8], [293, 30], [294, 7], [295, 24], [296, 19], [297, 1], [298, 3], [299, 12], [300, 1], [301, 22], [302, 4], [303, 24], [304, 16], [305, 18], [306, 26], [307, 11], [308, 28], [309, 0], [310, 5], [311, 2], [312, 2], [313, 20], [314, 1], [315, 3], [316, 17], [317, 7], [318, 10], [319, 2], [320, 6], [321, 9], [322, 13], [323, 15], [324, 23], [325, 29], [326, 21], [327, 8], [328, 4], [329, 31], [330, 27], [331, 30], [332, 22], [333, 28], [334, 14], [335, 20], [336, 0], [337, 20], [338, 0], [339, 30], [340, 25], [341, 6], [342, 29], [343, 1], [344, 0], [345, 31], [346, 1], [347, 2], [348, 0], [349, 24], [350, 10], [351, 4], [352, 1], [353, 12], [354, 19], [355, 16], [356, 11], [357, 0], [358, 28], [359, 7], [360, 2], [361, 9], [362, 26], [363, 31], [364, 3], [365, 30], [366, 4], [367, 17], [368, 29], [369, 6], [370, 5], [371, 27], [372, 21], [373, 13], [374, 24], [375, 0], [376, 3], [377, 8], [378, 1], [379, 22], [380, 2], [381, 31], [382, 0], [383, 18], [384, 0], [385, 15], [386, 1], [387, 2], [388, 14], [389, 9], [390, 29], [391, 17], [392, 20], [393, 30], [394, 4], [395, 23], [396, 7], [397, 6], [398, 3], [399, 3], [400, 0], [401, 5], [402, 11], [403, 0], [404, 19], [405, 16], [406, 25], [407, 0], [408, 2], [409, 25], [410, 31], [411, 1], [412, 27], [413, 0], [414, 4], [415, 1], [416, 0], [417, 10], [418, 26], [419, 30], [420, 0], [421, 24], [422, 12], [423, 13], [424, 6], [425, 7], [426, 31], [427, 8], [428, 15], [429, 18], [430, 2], [431, 5], [432, 3], [433, 2], [434, 0], [435, 0], [436, 23], [437, 4], [438, 1], [439, 21], [440, 28], [441, 9], [442, 8], [443, 16], [444, 0], [445, 1], [446, 28], [447, 11], [448, 10], [449, 0], [450, 0], [451, 17], [452, 4], [453, 25], [454, 21], [455, 19], [456, 27], [457, 1], [458, 0], [459, 24], [460, 14], [461, 3], [462, 31], [463, 5], [464, 6], [465, 2], [466, 22], [467, 29], [468, 23], [469, 31], [470, 26], [471, 30], [472, 7], [473, 0], [474, 29], [475, 5], [476, 3], [477, 1], [478, 0], [479, 9], [480, 6], [481, 2], [482, 20], [483, 4], [484, 17], [485, 2], [486, 0], [487, 1], [488, 13], [489, 12], [490, 1], [491, 30], [492, 11], [493, 8], [494, 0], [495, 0], [496, 0], [497, 14], [498, 30], [499, 15], [500, 31], [501, 28], [502, 4], [503, 6], [504, 5], [505, 1], [506, 27], [507, 0], [508, 18], [509, 0], [510, 10], [511, 24], [512, 2], [513, 0], [514, 26], [515, 3], [516, 9], [517, 16], [518, 30], [519, 31], [520, 25], [521, 23], [522, 0], [523, 27], [524, 19], [525, 17], [526, 5], [527, 28], [528, 29], [529, 15], [530, 7], [531, 21], [532, 29], [533, 4], [534, 2], [535, 0], [536, 3], [537, 1], [538, 6], [539, 11], [540, 8], [541, 0], [542, 13], [543, 22], [544, 2], [545, 2], [546, 1], [547, 2], [548, 30], [549, 0], [550, 0], [551, 2], [552, 31], [553, 1], [554, 24], [555, 20], [556, 1], [557, 7], [558, 12], [559, 1], [560, 10], [561, 28], [562, 0], [563, 14], [564, 31], [565, 23], [566, 2], [567, 1], [568, 23], [569, 0], [570, 8], [571, 6], [572, 18], [573, 26], [574, 16], [575, 25], [576, 4], [577, 21], [578, 9], [579, 15], [580, 1], [581, 5], [582, 2], [583, 12], [584, 31], [585, 26], [586, 4], [587, 3], [588, 1], [589, 28], [590, 23], [591, 27], [592, 0], [593, 30], [594, 2], [595, 1], [596, 22], [597, 0], [598, 7], [599, 1], [600, 19], [601, 31], [602, 2], [603, 29], [604, 2], [605, 4], [606, 1], [607, 25], [608, 3], [609, 18], [610, 24], [611, 6], [612, 0], [613, 29], [614, 17], [615, 5], [616, 13], [617, 14], [618, 20], [619, 8], [620, 0], [621, 9], [622, 0], [623, 11], [624, 23], [625, 22], [626, 29], [627, 26], [628, 2], [629, 0], [630, 10], [631, 0], [632, 3], [633, 1], [634, 30], [635, 4], [636, 5], [637, 2], [638, 6], [639, 12], [640, 1], [641, 1], [642, 0], [643, 0], [644, 0], [645, 0], [646, 15], [647, 16], [648, 4], [649, 2], [650, 13], [651, 14], [652, 19], [653, 0], [654, 7], [655, 17], [656, 9], [657, 27], [658, 1], [659, 8], [660, 2], [661, 5], [662, 6], [663, 0], [664, 25], [665, 31], [666, 21], [667, 0], [668, 11], [669, 20], [670, 31], [671, 28], [672, 4], [673, 18], [674, 1], [675, 10], [676, 12], [677, 29], [678, 7], [679, 30], [680, 0], [681, 31], [682, 3], [683, 24], [684, 1], [685, 19], [686, 9], [687, 2], [688, 4], [689, 22], [690, 30], [691, 16], [692, 0], [693, 1], [694, 30], [695, 6], [696, 5], [697, 3], [698, 26], [699, 10], [700, 31], [701, 0], [702, 29], [703, 13], [704, 21], [705, 8], [706, 23], [707, 11], [708, 7], [709, 14], [710, 17], [711, 15], [712, 27], [713, 28], [714, 1], [715, 2], [716, 9], [717, 29], [718, 24], [719, 6], [720, 12], [721, 31], [722, 25], [723, 25], [724, 4], [725, 1], [726, 14], [727, 30], [728, 3], [729, 11], [730, 3], [731, 2], [732, 13], [733, 1], [734, 0], [735, 7], [736, 4], [737, 3], [738, 28], [739, 31], [740, 30], [741, 22], [742, 3], [743, 1], [744, 21], [745, 10], [746, 31], [747, 0], [748, 26], [749, 4], [750, 6], [751, 5], [752, 1], [753, 8], [754, 20], [755, 9], [756, 3], [757, 7], [758, 18], [759, 27], [760, 16], [761, 19], [762, 12], [763, 29], [764, 17], [765, 0], [766, 27], [767, 22], [768, 2], [769, 28], [770, 28], [771, 25], [772, 21], [773, 0], [774, 26], [775, 19], [776, 31], [777, 10], [778, 30], [779, 23], [780, 30], [781, 1], [782, 0], [783, 3], [784, 11], [785, 29], [786, 8], [787, 3], [788, 0], [789, 1], [790, 15], [791, 1], [792, 4], [793, 2], [794, 20], [795, 29], [796, 3], [797, 5], [798, 30], [799, 0], [800, 14], [801, 13], [802, 6], [803, 0], [804, 2], [805, 16], [806, 31], [807, 18], [808, 2], [809, 0], [810, 1], [811, 5], [812, 3], [813, 0], [814, 4], [815, 1], [816, 0], [817, 8], [818, 27], [819, 0], [820, 1], [821, 7], [822, 2], [823, 3], [824, 24], [825, 9], [826, 17], [827, 6], [828, 10], [829, 11], [830, 27], [831, 4], [832, 12], [833, 9], [834, 21], [835, 13], [836, 6], [837, 0], [838, 28], [839, 5], [840, 2], [841, 6], [842, 0], [843, 27], [844, 3], [845, 24], [846, 24], [847, 29], [848, 15], [849, 19], [850, 1], [851, 22], [852, 2], [853, 23], [854, 22], [855, 7], [856, 25], [857, 0], [858, 8], [859, 0], [860, 0], [861, 13], [862, 26], [863, 0], [864, 26], [865, 14], [866, 6], [867, 4], [868, 5], [869, 31], [870, 1], [871, 14], [872, 9], [873, 2], [874, 0], [875, 9], [876, 3], [877, 29], [878, 0], [879, 6], [880, 4], [881, 16], [882, 1], [883, 3], [884, 2], [885, 14], [886, 11], [887, 4], [888, 30], [889, 2], [890, 7], [891, 29], [892, 29], [893, 31], [894, 27], [895, 15], [896, 26], [897, 10], [898, 27], [899, 1], [900, 28], [901, 21], [902, 4], [903, 9], [904, 18], [905, 8], [906, 8], [907, 30], [908, 5], [909, 1], [910, 28], [911, 20], [912, 14], [913, 16], [914, 6], [915, 12], [916, 17], [917, 4], [918, 0], [919, 0], [920, 0], [921, 22], [922, 2], [923, 1], [924, 0], [925, 25], [926, 27], [927, 1], [928, 9], [929, 16], [930, 9], [931, 3], [932, 5], [933, 22], [934, 4], [935, 19], [936, 12], [937, 13], [938, 31], [939, 28], [940, 2], [941, 1], [942, 0], [943, 0], [944, 24], [945, 8], [946, 25], [947, 1], [948, 1], [949, 3], [950, 11], [951, 9], [952, 31], [953, 2], [954, 1], [955, 5], [956, 2], [957, 4], [958, 15], [959, 22], [960, 10], [961, 7], [962, 6], [963, 2], [964, 9], [965, 2], [966, 1], [967, 8], [968, 15], [969, 30], [970, 11], [971, 27], [972, 5], [973, 0], [974, 6], [975, 0], [976, 14], [977, 0], [978, 4], [979, 4], [980, 7], [981, 12], [982, 17], [983, 0], [984, 5], [985, 2], [986, 3], [987, 1], [988, 15], [989, 19], [990, 16], [991, 0], [992, 26], [993, 8], [994, 1], [995, 11], [996, 16], [997, 24], [998, 10], [999, 1], [1000, 2], [1001, 25], [1002, 9], [1003, 7], [1004, 5], [1005, 1], [1006, 3], [1007, 19], [1008, 23], [1009, 6], [1010, 0], [1011, 2], [1012, 0], [1013, 13], [1014, 18], [1015, 5], [1016, 0], [1017, 28], [1018, 11], [1019, 4], [1020, 27], [1021, 15], [1022, 8], [1023, 4]]\n",
            "Makespan using Adaptive MCT with CNN is 33397015.319999997\n",
            "Task Assignments: [[0, 0], [1, 0], [2, 1], [3, 2], [4, 3], [5, 4], [6, 0], [7, 1], [8, 0], [9, 5], [10, 2], [11, 0], [12, 1], [13, 3], [14, 4], [15, 6], [16, 7], [17, 8], [18, 2], [19, 9], [20, 7], [21, 4], [22, 10], [23, 11], [24, 5], [25, 12], [26, 13], [27, 0], [28, 0], [29, 0], [30, 1], [31, 0], [32, 2], [33, 14], [34, 3], [35, 15], [36, 1], [37, 5], [38, 16], [39, 1], [40, 17], [41, 5], [42, 2], [43, 0], [44, 8], [45, 6], [46, 0], [47, 1], [48, 18], [49, 0], [50, 4], [51, 19], [52, 0], [53, 0], [54, 0], [55, 10], [56, 0], [57, 3], [58, 0], [59, 12], [60, 20], [61, 21], [62, 9], [63, 22], [64, 1], [65, 23], [66, 11], [67, 0], [68, 6], [69, 24], [70, 25], [71, 7], [72, 0], [73, 0], [74, 8], [75, 14], [76, 19], [77, 10], [78, 5], [79, 7], [80, 2], [81, 1], [82, 0], [83, 26], [84, 27], [85, 1], [86, 0], [87, 24], [88, 3], [89, 28], [90, 4], [91, 20], [92, 13], [93, 29], [94, 30], [95, 31], [96, 0], [97, 5], [98, 3], [99, 0], [100, 9], [101, 15], [102, 2], [103, 6], [104, 21], [105, 7], [106, 11], [107, 1], [108, 2], [109, 31], [110, 23], [111, 30], [112, 4], [113, 17], [114, 1], [115, 25], [116, 0], [117, 3], [118, 6], [119, 30], [120, 16], [121, 1], [122, 18], [123, 28], [124, 1], [125, 5], [126, 4], [127, 20], [128, 12], [129, 8], [130, 28], [131, 1], [132, 9], [133, 14], [134, 15], [135, 0], [136, 28], [137, 2], [138, 26], [139, 27], [140, 10], [141, 3], [142, 4], [143, 5], [144, 30], [145, 2], [146, 19], [147, 7], [148, 22], [149, 29], [150, 11], [151, 13], [152, 3], [153, 0], [154, 2], [155, 30], [156, 24], [157, 21], [158, 28], [159, 14], [160, 25], [161, 1], [162, 6], [163, 26], [164, 9], [165, 10], [166, 26], [167, 29], [168, 1], [169, 12], [170, 0], [171, 30], [172, 15], [173, 0], [174, 0], [175, 4], [176, 7], [177, 3], [178, 2], [179, 1], [180, 21], [181, 0], [182, 5], [183, 9], [184, 4], [185, 14], [186, 23], [187, 3], [188, 1], [189, 31], [190, 26], [191, 27], [192, 3], [193, 16], [194, 18], [195, 17], [196, 31], [197, 12], [198, 6], [199, 1], [200, 0], [201, 2], [202, 13], [203, 7], [204, 27], [205, 30], [206, 8], [207, 0], [208, 25], [209, 1], [210, 3], [211, 10], [212, 0], [213, 1], [214, 6], [215, 0], [216, 1], [217, 22], [218, 13], [219, 4], [220, 1], [221, 19], [222, 3], [223, 15], [224, 2], [225, 5], [226, 0], [227, 20], [228, 8], [229, 7], [230, 0], [231, 26], [232, 1], [233, 0], [234, 11], [235, 29], [236, 9], [237, 24], [238, 18], [239, 17], [240, 2], [241, 1], [242, 5], [243, 1], [244, 0], [245, 21], [246, 14], [247, 30], [248, 31], [249, 28], [250, 23], [251, 0], [252, 6], [253, 15], [254, 8], [255, 16], [256, 0], [257, 12], [258, 10], [259, 4], [260, 28], [261, 23], [262, 26], [263, 28], [264, 1], [265, 11], [266, 1], [267, 9], [268, 31], [269, 15], [270, 29], [271, 2], [272, 13], [273, 27], [274, 3], [275, 5], [276, 1], [277, 4], [278, 6], [279, 1], [280, 26], [281, 1], [282, 2], [283, 19], [284, 2], [285, 0], [286, 3], [287, 25], [288, 22], [289, 30], [290, 1], [291, 2], [292, 5], [293, 21], [294, 7], [295, 31], [296, 20], [297, 8], [298, 9], [299, 15], [300, 1], [301, 29], [302, 4], [303, 24], [304, 14], [305, 6], [306, 25], [307, 10], [308, 28], [309, 3], [310, 0], [311, 2], [312, 1], [313, 21], [314, 1], [315, 4], [316, 17], [317, 5], [318, 12], [319, 2], [320, 6], [321, 7], [322, 18], [323, 13], [324, 26], [325, 31], [326, 16], [327, 11], [328, 1], [329, 27], [330, 22], [331, 30], [332, 23], [333, 28], [334, 8], [335, 21], [336, 2], [337, 30], [338, 1], [339, 27], [340, 19], [341, 5], [342, 31], [343, 3], [344, 0], [345, 29], [346, 1], [347, 2], [348, 0], [349, 21], [350, 9], [351, 3], [352, 0], [353, 12], [354, 20], [355, 28], [356, 14], [357, 1], [358, 10], [359, 7], [360, 2], [361, 6], [362, 22], [363, 25], [364, 5], [365, 29], [366, 1], [367, 17], [368, 27], [369, 2], [370, 3], [371, 24], [372, 16], [373, 15], [374, 31], [375, 0], [376, 4], [377, 1], [378, 0], [379, 21], [380, 8], [381, 27], [382, 2], [383, 11], [384, 0], [385, 17], [386, 1], [387, 0], [388, 10], [389, 13], [390, 23], [391, 19], [392, 25], [393, 30], [394, 4], [395, 20], [396, 5], [397, 3], [398, 3], [399, 2], [400, 0], [401, 6], [402, 7], [403, 16], [404, 22], [405, 18], [406, 26], [407, 0], [408, 5], [409, 30], [410, 27], [411, 0], [412, 24], [413, 0], [414, 4], [415, 1], [416, 0], [417, 2], [418, 29], [419, 20], [420, 0], [421, 31], [422, 9], [423, 11], [424, 3], [425, 6], [426, 27], [427, 8], [428, 15], [429, 14], [430, 12], [431, 7], [432, 2], [433, 0], [434, 1], [435, 1], [436, 26], [437, 4], [438, 3], [439, 28], [440, 27], [441, 10], [442, 5], [443, 13], [444, 0], [445, 8], [446, 23], [447, 3], [448, 11], [449, 1], [450, 0], [451, 21], [452, 2], [453, 24], [454, 20], [455, 19], [456, 27], [457, 1], [458, 0], [459, 30], [460, 17], [461, 3], [462, 26], [463, 4], [464, 7], [465, 6], [466, 18], [467, 26], [468, 22], [469, 31], [470, 28], [471, 29], [472, 2], [473, 0], [474, 14], [475, 15], [476, 5], [477, 1], [478, 0], [479, 12], [480, 10], [481, 3], [482, 4], [483, 4], [484, 9], [485, 0], [486, 0], [487, 2], [488, 1], [489, 2], [490, 1], [491, 26], [492, 26], [493, 8], [494, 0], [495, 0], [496, 21], [497, 23], [498, 29], [499, 13], [500, 27], [501, 25], [502, 3], [503, 9], [504, 6], [505, 0], [506, 31], [507, 7], [508, 16], [509, 1], [510, 11], [511, 30], [512, 2], [513, 1], [514, 14], [515, 4], [516, 2], [517, 29], [518, 28], [519, 24], [520, 19], [521, 27], [522, 3], [523, 25], [524, 17], [525, 10], [526, 5], [527, 31], [528, 28], [529, 13], [530, 12], [531, 20], [532, 14], [533, 0], [534, 6], [535, 0], [536, 1], [537, 4], [538, 2], [539, 9], [540, 8], [541, 0], [542, 15], [543, 18], [544, 3], [545, 2], [546, 0], [547, 0], [548, 24], [549, 0], [550, 0], [551, 3], [552, 28], [553, 11], [554, 22], [555, 16], [556, 2], [557, 6], [558, 14], [559, 1], [560, 5], [561, 27], [562, 0], [563, 10], [564, 20], [565, 30], [566, 8], [567, 2], [568, 31], [569, 13], [570, 4], [571, 18], [572, 28], [573, 30], [574, 19], [575, 26], [576, 12], [577, 20], [578, 7], [579, 17], [580, 10], [581, 3], [582, 1], [583, 7], [584, 27], [585, 24], [586, 0], [587, 5], [588, 0], [589, 27], [590, 25], [591, 21], [592, 0], [593, 26], [594, 2], [595, 1], [596, 23], [597, 0], [598, 6], [599, 1], [600, 16], [601, 29], [602, 3], [603, 30], [604, 2], [605, 3], [606, 1], [607, 22], [608, 4], [609, 5], [610, 30], [611, 2], [612, 0], [613, 28], [614, 12], [615, 8], [616, 14], [617, 24], [618, 21], [619, 7], [620, 0], [621, 9], [622, 0], [623, 11], [624, 28], [625, 22], [626, 31], [627, 26], [628, 2], [629, 0], [630, 4], [631, 1], [632, 3], [633, 2], [634, 31], [635, 2], [636, 10], [637, 0], [638, 6], [639, 12], [640, 2], [641, 1], [642, 0], [643, 2], [644, 8], [645, 4], [646, 15], [647, 16], [648, 5], [649, 2], [650, 17], [651, 7], [652, 23], [653, 2], [654, 9], [655, 25], [656, 6], [657, 27], [658, 0], [659, 1], [660, 0], [661, 19], [662, 1], [663, 1], [664, 29], [665, 31], [666, 20], [667, 7], [668, 14], [669, 13], [670, 31], [671, 31], [672, 3], [673, 11], [674, 1], [675, 21], [676, 18], [677, 22], [678, 5], [679, 30], [680, 0], [681, 26], [682, 2], [683, 24], [684, 1], [685, 4], [686, 4], [687, 3], [688, 4], [689, 16], [690, 30], [691, 20], [692, 0], [693, 1], [694, 23], [695, 6], [696, 5], [697, 2], [698, 26], [699, 10], [700, 28], [701, 0], [702, 30], [703, 12], [704, 17], [705, 3], [706, 8], [707, 11], [708, 9], [709, 27], [710, 15], [711, 14], [712, 22], [713, 30], [714, 13], [715, 1], [716, 29], [717, 31], [718, 24], [719, 2], [720, 6], [721, 28], [722, 25], [723, 12], [724, 3], [725, 2], [726, 16], [727, 30], [728, 1], [729, 4], [730, 3], [731, 1], [732, 0], [733, 17], [734, 0], [735, 6], [736, 3], [737, 8], [738, 25], [739, 28], [740, 23], [741, 21], [742, 2], [743, 7], [744, 30], [745, 9], [746, 28], [747, 11], [748, 18], [749, 4], [750, 5], [751, 6], [752, 2], [753, 12], [754, 19], [755, 10], [756, 15], [757, 3], [758, 22], [759, 27], [760, 9], [761, 26], [762, 1], [763, 31], [764, 20], [765, 0], [766, 27], [767, 21], [768, 1], [769, 25], [770, 25], [771, 18], [772, 13], [773, 0], [774, 23], [775, 14], [776, 28], [777, 2], [778, 30], [779, 8], [780, 30], [781, 0], [782, 0], [783, 4], [784, 5], [785, 31], [786, 2], [787, 3], [788, 0], [789, 1], [790, 1], [791, 0], [792, 4], [793, 2], [794, 3], [795, 16], [796, 1], [797, 9], [798, 29], [799, 0], [800, 7], [801, 19], [802, 8], [803, 2], [804, 5], [805, 13], [806, 28], [807, 12], [808, 1], [809, 0], [810, 5], [811, 6], [812, 10], [813, 0], [814, 4], [815, 1], [816, 0], [817, 11], [818, 30], [819, 0], [820, 2], [821, 6], [822, 3], [823, 1], [824, 24], [825, 31], [826, 14], [827, 27], [828, 7], [829, 15], [830, 26], [831, 16], [832, 1], [833, 25], [834, 18], [835, 26], [836, 30], [837, 4], [838, 17], [839, 9], [840, 5], [841, 24], [842, 0], [843, 23], [844, 1], [845, 28], [846, 8], [847, 21], [848, 20], [849, 22], [850, 1], [851, 28], [852, 3], [853, 0], [854, 19], [855, 1], [856, 28], [857, 1], [858, 6], [859, 11], [860, 2], [861, 13], [862, 31], [863, 0], [864, 21], [865, 27], [866, 4], [867, 12], [868, 1], [869, 29], [870, 5], [871, 30], [872, 27], [873, 9], [874, 0], [875, 26], [876, 3], [877, 31], [878, 0], [879, 7], [880, 4], [881, 24], [882, 2], [883, 1], [884, 25], [885, 17], [886, 10], [887, 31], [888, 18], [889, 3], [890, 8], [891, 30], [892, 4], [893, 23], [894, 30], [895, 16], [896, 14], [897, 6], [898, 21], [899, 2], [900, 29], [901, 0], [902, 5], [903, 12], [904, 2], [905, 19], [906, 15], [907, 19], [908, 20], [909, 1], [910, 18], [911, 0], [912, 11], [913, 30], [914, 7], [915, 26], [916, 17], [917, 27], [918, 1], [919, 3], [920, 4], [921, 28], [922, 1], [923, 1], [924, 2], [925, 24], [926, 19], [927, 6], [928, 30], [929, 13], [930, 21], [931, 1], [932, 10], [933, 18], [934, 0], [935, 26], [936, 9], [937, 5], [938, 31], [939, 23], [940, 3], [941, 12], [942, 8], [943, 2], [944, 28], [945, 14], [946, 22], [947, 1], [948, 1], [949, 4], [950, 15], [951, 29], [952, 16], [953, 31], [954, 0], [955, 5], [956, 30], [957, 3], [958, 19], [959, 10], [960, 7], [961, 0], [962, 18], [963, 1], [964, 0], [965, 0], [966, 3], [967, 23], [968, 24], [969, 25], [970, 11], [971, 20], [972, 6], [973, 9], [974, 13], [975, 1], [976, 5], [977, 0], [978, 12], [979, 0], [980, 17], [981, 0], [982, 19], [983, 1], [984, 6], [985, 1], [986, 3], [987, 3], [988, 15], [989, 27], [990, 30], [991, 0], [992, 26], [993, 22], [994, 21], [995, 11], [996, 16], [997, 8], [998, 7], [999, 1], [1000, 2], [1001, 28], [1002, 10], [1003, 31], [1004, 14], [1005, 5], [1006, 4], [1007, 20], [1008, 30], [1009, 6], [1010, 25], [1011, 1], [1012, 3], [1013, 7], [1014, 29], [1015, 2], [1016, 0], [1017, 1], [1018, 24], [1019, 9], [1020, 6], [1021, 23], [1022, 12], [1023, 24]]\n",
            "Makespan using Adaptive MCT with ConvLSTM is 33031255.189999998\n",
            "Task Assignments: [[0, 0], [1, 0], [2, 1], [3, 2], [4, 3], [5, 4], [6, 0], [7, 1], [8, 0], [9, 5], [10, 2], [11, 0], [12, 1], [13, 3], [14, 4], [15, 6], [16, 7], [17, 8], [18, 2], [19, 9], [20, 7], [21, 0], [22, 4], [23, 1], [24, 5], [25, 10], [26, 4], [27, 2], [28, 1], [29, 0], [30, 5], [31, 1], [32, 0], [33, 11], [34, 2], [35, 12], [36, 0], [37, 3], [38, 3], [39, 0], [40, 10], [41, 0], [42, 1], [43, 0], [44, 6], [45, 4], [46, 2], [47, 3], [48, 13], [49, 0], [50, 6], [51, 30], [52, 0], [53, 8], [54, 0], [55, 14], [56, 0], [57, 0], [58, 0], [59, 2], [60, 17], [61, 16], [62, 11], [63, 15], [64, 0], [65, 18], [66, 9], [67, 0], [68, 5], [69, 31], [70, 19], [71, 7], [72, 1], [73, 0], [74, 4], [75, 12], [76, 7], [77, 2], [78, 10], [79, 3], [80, 0], [81, 0], [82, 0], [83, 20], [84, 29], [85, 2], [86, 0], [87, 21], [88, 1], [89, 16], [90, 5], [91, 17], [92, 13], [93, 16], [94, 24], [95, 22], [96, 0], [97, 8], [98, 3], [99, 0], [100, 6], [101, 14], [102, 11], [103, 9], [104, 18], [105, 7], [106, 15], [107, 1], [108, 2], [109, 4], [110, 0], [111, 28], [112, 0], [113, 0], [114, 1], [115, 23], [116, 1], [117, 3], [118, 4], [119, 26], [120, 10], [121, 5], [122, 6], [123, 25], [124, 0], [125, 2], [126, 7], [127, 0], [128, 19], [129, 0], [130, 27], [131, 1], [132, 9], [133, 22], [134, 16], [135, 0], [136, 25], [137, 3], [138, 20], [139, 17], [140, 14], [141, 4], [142, 2], [143, 12], [144, 24], [145, 6], [146, 8], [147, 5], [148, 7], [149, 26], [150, 2], [151, 13], [152, 3], [153, 0], [154, 1], [155, 27], [156, 9], [157, 28], [158, 24], [159, 11], [160, 21], [161, 3], [162, 4], [163, 30], [164, 20], [165, 10], [166, 25], [167, 30], [168, 5], [169, 15], [170, 0], [171, 23], [172, 16], [173, 0], [174, 0], [175, 9], [176, 6], [177, 11], [178, 18], [179, 3], [180, 22], [181, 2], [182, 14], [183, 8], [184, 0], [185, 17], [186, 23], [187, 7], [188, 1], [189, 31], [190, 31], [191, 29], [192, 4], [193, 25], [194, 19], [195, 27], [196, 26], [197, 12], [198, 5], [199, 1], [200, 0], [201, 1], [202, 28], [203, 13], [204, 20], [205, 29], [206, 10], [207, 0], [208, 21], [209, 3], [210, 4], [211, 0], [212, 0], [213, 0], [214, 6], [215, 0], [216, 2], [217, 15], [218, 5], [219, 8], [220, 2], [221, 16], [222, 3], [223, 30], [224, 1], [225, 7], [226, 0], [227, 9], [228, 4], [229, 1], [230, 0], [231, 31], [232, 2], [233, 0], [234, 11], [235, 29], [236, 10], [237, 22], [238, 4], [239, 13], [240, 0], [241, 5], [242, 6], [243, 4], [244, 2], [245, 27], [246, 15], [247, 20], [248, 28], [249, 26], [250, 31], [251, 0], [252, 3], [253, 26], [254, 7], [255, 19], [256, 0], [257, 9], [258, 17], [259, 4], [260, 28], [261, 12], [262, 24], [263, 29], [264, 1], [265, 14], [266, 6], [267, 11], [268, 24], [269, 23], [270, 30], [271, 2], [272, 16], [273, 21], [274, 8], [275, 1], [276, 1], [277, 3], [278, 10], [279, 1], [280, 28], [281, 1], [282, 5], [283, 18], [284, 2], [285, 0], [286, 4], [287, 25], [288, 24], [289, 20], [290, 1], [291, 4], [292, 5], [293, 31], [294, 7], [295, 26], [296, 12], [297, 6], [298, 9], [299, 2], [300, 1], [301, 21], [302, 3], [303, 22], [304, 13], [305, 11], [306, 26], [307, 15], [308, 28], [309, 2], [310, 0], [311, 1], [312, 1], [313, 20], [314, 3], [315, 4], [316, 17], [317, 5], [318, 16], [319, 1], [320, 2], [321, 7], [322, 8], [323, 12], [324, 25], [325, 27], [326, 19], [327, 21], [328, 5], [329, 30], [330, 29], [331, 23], [332, 31], [333, 30], [334, 14], [335, 24], [336, 10], [337, 20], [338, 6], [339, 28], [340, 27], [341, 1], [342, 23], [343, 7], [344, 2], [345, 30], [346, 1], [347, 1], [348, 0], [349, 18], [350, 11], [351, 3], [352, 0], [353, 13], [354, 18], [355, 22], [356, 1], [357, 1], [358, 26], [359, 3], [360, 0], [361, 9], [362, 24], [363, 30], [364, 5], [365, 28], [366, 1], [367, 17], [368, 29], [369, 2], [370, 4], [371, 23], [372, 19], [373, 12], [374, 20], [375, 0], [376, 2], [377, 8], [378, 1], [379, 6], [380, 7], [381, 29], [382, 0], [383, 16], [384, 0], [385, 15], [386, 1], [387, 2], [388, 10], [389, 18], [390, 30], [391, 14], [392, 20], [393, 31], [394, 3], [395, 31], [396, 5], [397, 6], [398, 3], [399, 0], [400, 2], [401, 4], [402, 9], [403, 0], [404, 17], [405, 25], [406, 27], [407, 5], [408, 1], [409, 24], [410, 28], [411, 3], [412, 29], [413, 0], [414, 7], [415, 1], [416, 4], [417, 8], [418, 22], [419, 23], [420, 0], [421, 28], [422, 13], [423, 10], [424, 6], [425, 0], [426, 31], [427, 11], [428, 12], [429, 21], [430, 27], [431, 2], [432, 3], [433, 14], [434, 1], [435, 0], [436, 24], [437, 5], [438, 4], [439, 19], [440, 31], [441, 9], [442, 0], [443, 16], [444, 2], [445, 8], [446, 26], [447, 11], [448, 10], [449, 1], [450, 0], [451, 19], [452, 4], [453, 23], [454, 15], [455, 17], [456, 29], [457, 0], [458, 0], [459, 18], [460, 12], [461, 1], [462, 31], [463, 7], [464, 6], [465, 2], [466, 0], [467, 28], [468, 22], [469, 24], [470, 31], [471, 30], [472, 3], [473, 0], [474, 30], [475, 1], [476, 5], [477, 0], [478, 0], [479, 9], [480, 6], [481, 2], [482, 19], [483, 4], [484, 20], [485, 1], [486, 0], [487, 2], [488, 3], [489, 2], [490, 1], [491, 28], [492, 25], [493, 13], [494, 0], [495, 0], [496, 0], [497, 18], [498, 28], [499, 10], [500, 26], [501, 24], [502, 4], [503, 8], [504, 7], [505, 1], [506, 21], [507, 0], [508, 16], [509, 0], [510, 11], [511, 15], [512, 2], [513, 0], [514, 26], [515, 6], [516, 3], [517, 12], [518, 29], [519, 28], [520, 31], [521, 24], [522, 2], [523, 27], [524, 17], [525, 23], [526, 5], [527, 29], [528, 28], [529, 10], [530, 9], [531, 21], [532, 14], [533, 0], [534, 4], [535, 0], [536, 3], [537, 1], [538, 7], [539, 1], [540, 8], [541, 0], [542, 15], [543, 22], [544, 2], [545, 2], [546, 0], [547, 2], [548, 20], [549, 6], [550, 0], [551, 2], [552, 30], [553, 10], [554, 24], [555, 16], [556, 4], [557, 8], [558, 12], [559, 0], [560, 5], [561, 28], [562, 0], [563, 11], [564, 19], [565, 30], [566, 9], [567, 1], [568, 29], [569, 21], [570, 14], [571, 13], [572, 25], [573, 30], [574, 19], [575, 26], [576, 17], [577, 11], [578, 28], [579, 18], [580, 27], [581, 7], [582, 20], [583, 12], [584, 31], [585, 31], [586, 0], [587, 4], [588, 0], [589, 22], [590, 26], [591, 24], [592, 0], [593, 30], [594, 2], [595, 1], [596, 25], [597, 0], [598, 6], [599, 2], [600, 16], [601, 29], [602, 3], [603, 30], [604, 1], [605, 3], [606, 1], [607, 23], [608, 4], [609, 5], [610, 22], [611, 2], [612, 0], [613, 31], [614, 10], [615, 8], [616, 9], [617, 15], [618, 16], [619, 11], [620, 0], [621, 7], [622, 0], [623, 10], [624, 24], [625, 18], [626, 31], [627, 26], [628, 2], [629, 0], [630, 3], [631, 0], [632, 0], [633, 2], [634, 30], [635, 1], [636, 5], [637, 2], [638, 6], [639, 9], [640, 1], [641, 1], [642, 3], [643, 4], [644, 8], [645, 1], [646, 12], [647, 17], [648, 7], [649, 13], [650, 14], [651, 5], [652, 19], [653, 2], [654, 6], [655, 15], [656, 9], [657, 25], [658, 0], [659, 1], [660, 1], [661, 23], [662, 3], [663, 0], [664, 20], [665, 31], [666, 29], [667, 0], [668, 11], [669, 21], [670, 31], [671, 30], [672, 3], [673, 18], [674, 4], [675, 22], [676, 16], [677, 28], [678, 5], [679, 31], [680, 2], [681, 31], [682, 1], [683, 26], [684, 1], [685, 10], [686, 7], [687, 3], [688, 0], [689, 17], [690, 31], [691, 5], [692, 0], [693, 1], [694, 24], [695, 6], [696, 0], [697, 3], [698, 19], [699, 5], [700, 27], [701, 1], [702, 31], [703, 12], [704, 15], [705, 8], [706, 7], [707, 11], [708, 10], [709, 28], [710, 20], [711, 14], [712, 25], [713, 30], [714, 9], [715, 4], [716, 31], [717, 29], [718, 2], [719, 6], [720, 18], [721, 27], [722, 26], [723, 16], [724, 3], [725, 0], [726, 17], [727, 30], [728, 11], [729, 12], [730, 0], [731, 0], [732, 13], [733, 15], [734, 7], [735, 5], [736, 2], [737, 3], [738, 19], [739, 27], [740, 26], [741, 24], [742, 2], [743, 4], [744, 30], [745, 10], [746, 22], [747, 0], [748, 16], [749, 5], [750, 6], [751, 1], [752, 0], [753, 8], [754, 9], [755, 2], [756, 3], [757, 2], [758, 10], [759, 27], [760, 3], [761, 29], [762, 0], [763, 27], [764, 20], [765, 0], [766, 25], [767, 21], [768, 1], [769, 28], [770, 23], [771, 24], [772, 28], [773, 0], [774, 19], [775, 22], [776, 26], [777, 9], [778, 30], [779, 12], [780, 30], [781, 0], [782, 0], [783, 6], [784, 16], [785, 27], [786, 8], [787, 11], [788, 1], [789, 3], [790, 14], [791, 0], [792, 4], [793, 5], [794, 0], [795, 27], [796, 3], [797, 25], [798, 18], [799, 2], [800, 13], [801, 26], [802, 1], [803, 4], [804, 6], [805, 17], [806, 23], [807, 1], [808, 0], [809, 0], [810, 1], [811, 7], [812, 3], [813, 2], [814, 5], [815, 1], [816, 0], [817, 10], [818, 31], [819, 0], [820, 4], [821, 8], [822, 2], [823, 1], [824, 30], [825, 19], [826, 1], [827, 6], [828, 12], [829, 11], [830, 29], [831, 9], [832, 1], [833, 6], [834, 3], [835, 8], [836, 15], [837, 0], [838, 14], [839, 6], [840, 16], [841, 21], [842, 5], [843, 31], [844, 3], [845, 18], [846, 15], [847, 7], [848, 10], [849, 1], [850, 2], [851, 27], [852, 0], [853, 0], [854, 27], [855, 1], [856, 20], [857, 0], [858, 7], [859, 8], [860, 2], [861, 13], [862, 18], [863, 0], [864, 24], [865, 18], [866, 6], [867, 23], [868, 19], [869, 22], [870, 3], [871, 18], [872, 17], [873, 1], [874, 1], [875, 28], [876, 4], [877, 18], [878, 29], [879, 5], [880, 9], [881, 22], [882, 0], [883, 0], [884, 2], [885, 14], [886, 12], [887, 30], [888, 24], [889, 2], [890, 1], [891, 31], [892, 26], [893, 21], [894, 30], [895, 18], [896, 11], [897, 6], [898, 31], [899, 3], [900, 25], [901, 0], [902, 10], [903, 28], [904, 0], [905, 24], [906, 17], [907, 8], [908, 15], [909, 0], [910, 24], [911, 20], [912, 14], [913, 25], [914, 6], [915, 23], [916, 7], [917, 30], [918, 1], [919, 3], [920, 0], [921, 11], [922, 1], [923, 0], [924, 4], [925, 27], [926, 16], [927, 1], [928, 9], [929, 5], [930, 8], [931, 2], [932, 11], [933, 25], [934, 0], [935, 31], [936, 23], [937, 5], [938, 22], [939, 12], [940, 2], [941, 9], [942, 1], [943, 0], [944, 8], [945, 6], [946, 10], [947, 1], [948, 1], [949, 2], [950, 13], [951, 12], [952, 3], [953, 1], [954, 3], [955, 4], [956, 5], [957, 1], [958, 7], [959, 31], [960, 27], [961, 22], [962, 21], [963, 1], [964, 1], [965, 1], [966, 4], [967, 24], [968, 18], [969, 16], [970, 28], [971, 25], [972, 5], [973, 7], [974, 8], [975, 0], [976, 9], [977, 0], [978, 6], [979, 10], [980, 11], [981, 12], [982, 17], [983, 0], [984, 5], [985, 2], [986, 3], [987, 0], [988, 15], [989, 14], [990, 16], [991, 0], [992, 19], [993, 30], [994, 18], [995, 13], [996, 6], [997, 4], [998, 5], [999, 3], [1000, 1], [1001, 7], [1002, 9], [1003, 24], [1004, 11], [1005, 2], [1006, 1], [1007, 16], [1008, 29], [1009, 8], [1010, 14], [1011, 0], [1012, 3], [1013, 13], [1014, 21], [1015, 6], [1016, 0], [1017, 4], [1018, 15], [1019, 7], [1020, 5], [1021, 25], [1022, 23], [1023, 5]]\n",
            "Makespan using Adaptive MCT with TCNN is 32634853.31\n"
          ]
        }
      ]
    },
    {
      "cell_type": "code",
      "source": [
        "import pandas as pd\n",
        "\n",
        "# Assuming task IDs are available in the range of task length\n",
        "num_tasks = len(task_assignments)  # Get the number of tasks\n",
        "\n",
        "# Create a DataFrame to store the task assignments and makespan for each method\n",
        "result = pd.DataFrame(columns=['TaskId', 'Benchmark_MCT', 'CNN_Adaptive_MCT', 'ConvLSTM_Adaptive_MCT', 'TCNN_Adaptive_MCT'])\n",
        "\n",
        "# Create a list to collect rows before concatenating\n",
        "rows = []\n",
        "\n",
        "# Append the task assignments and corresponding method results into the list of rows\n",
        "for i in range(num_tasks):\n",
        "    rows.append({\n",
        "        'TaskId': i,\n",
        "        'Benchmark_MCT': task_assignments[i][1],  # Resource for Benchmark MCT\n",
        "        'CNN_Adaptive_MCT': cnn_task_assignments[i][1],  # Resource for CNN Adaptive MCT\n",
        "        'ConvLSTM_Adaptive_MCT': convlstm_task_assignments[i][1],  # Resource for ConvLSTM Adaptive MCT\n",
        "        'TCNN_Adaptive_MCT': tcnn_task_assignments[i][1]  # Resource for TCNN Adaptive MCT\n",
        "    })\n",
        "\n",
        "# Concatenate the list of rows into the DataFrame\n",
        "result = pd.concat([result, pd.DataFrame(rows)], ignore_index=True)\n",
        "\n",
        "# Print the makespan for each method\n",
        "print(\"Makespan using Benchmark MCT is\", makespan)\n",
        "print(\"Makespan using Adaptive MCT with CNN is\", cnn_makespan)\n",
        "print(\"Makespan using Adaptive MCT with ConvLSTM is\", convlstm_makespan)\n",
        "print(\"Makespan using Adaptive MCT with TCNN is\", tcnn_makespan)\n",
        "\n",
        "# Display the DataFrame\n",
        "rpath='/content/drive/MyDrive/FOG AND EDGE/Adaptive MCT/Results and Reports/Result_UCHIHI1.csv'\n",
        "result.to_csv(rpath, index=False)\n",
        "result.tail()\n"
      ],
      "metadata": {
        "colab": {
          "base_uri": "https://localhost:8080/",
          "height": 276
        },
        "id": "wFVri2sr4med",
        "outputId": "10075a0a-aecc-4fc7-aaf3-24552a74979b"
      },
      "execution_count": null,
      "outputs": [
        {
          "output_type": "stream",
          "name": "stdout",
          "text": [
            "Makespan using Benchmark MCT is 11422624.494138002\n",
            "Makespan using Adaptive MCT with CNN is 12138201.110101005\n",
            "Makespan using Adaptive MCT with ConvLSTM is 11526548.37158\n",
            "Makespan using Adaptive MCT with TCNN is 11911431.562495999\n"
          ]
        },
        {
          "output_type": "execute_result",
          "data": {
            "text/plain": [
              "    TaskId Benchmark_MCT CNN_Adaptive_MCT ConvLSTM_Adaptive_MCT  \\\n",
              "507    507             2                0                     1   \n",
              "508    508             1                0                     0   \n",
              "509    509             7                7                     7   \n",
              "510    510            10                8                     9   \n",
              "511    511             3                6                     3   \n",
              "\n",
              "    TCNN_Adaptive_MCT  \n",
              "507                 2  \n",
              "508                 0  \n",
              "509                 1  \n",
              "510                10  \n",
              "511                 4  "
            ],
            "text/html": [
              "\n",
              "  <div id=\"df-f91f61e4-fe52-4b0e-87d6-f5728c0fa529\" class=\"colab-df-container\">\n",
              "    <div>\n",
              "<style scoped>\n",
              "    .dataframe tbody tr th:only-of-type {\n",
              "        vertical-align: middle;\n",
              "    }\n",
              "\n",
              "    .dataframe tbody tr th {\n",
              "        vertical-align: top;\n",
              "    }\n",
              "\n",
              "    .dataframe thead th {\n",
              "        text-align: right;\n",
              "    }\n",
              "</style>\n",
              "<table border=\"1\" class=\"dataframe\">\n",
              "  <thead>\n",
              "    <tr style=\"text-align: right;\">\n",
              "      <th></th>\n",
              "      <th>TaskId</th>\n",
              "      <th>Benchmark_MCT</th>\n",
              "      <th>CNN_Adaptive_MCT</th>\n",
              "      <th>ConvLSTM_Adaptive_MCT</th>\n",
              "      <th>TCNN_Adaptive_MCT</th>\n",
              "    </tr>\n",
              "  </thead>\n",
              "  <tbody>\n",
              "    <tr>\n",
              "      <th>507</th>\n",
              "      <td>507</td>\n",
              "      <td>2</td>\n",
              "      <td>0</td>\n",
              "      <td>1</td>\n",
              "      <td>2</td>\n",
              "    </tr>\n",
              "    <tr>\n",
              "      <th>508</th>\n",
              "      <td>508</td>\n",
              "      <td>1</td>\n",
              "      <td>0</td>\n",
              "      <td>0</td>\n",
              "      <td>0</td>\n",
              "    </tr>\n",
              "    <tr>\n",
              "      <th>509</th>\n",
              "      <td>509</td>\n",
              "      <td>7</td>\n",
              "      <td>7</td>\n",
              "      <td>7</td>\n",
              "      <td>1</td>\n",
              "    </tr>\n",
              "    <tr>\n",
              "      <th>510</th>\n",
              "      <td>510</td>\n",
              "      <td>10</td>\n",
              "      <td>8</td>\n",
              "      <td>9</td>\n",
              "      <td>10</td>\n",
              "    </tr>\n",
              "    <tr>\n",
              "      <th>511</th>\n",
              "      <td>511</td>\n",
              "      <td>3</td>\n",
              "      <td>6</td>\n",
              "      <td>3</td>\n",
              "      <td>4</td>\n",
              "    </tr>\n",
              "  </tbody>\n",
              "</table>\n",
              "</div>\n",
              "    <div class=\"colab-df-buttons\">\n",
              "\n",
              "  <div class=\"colab-df-container\">\n",
              "    <button class=\"colab-df-convert\" onclick=\"convertToInteractive('df-f91f61e4-fe52-4b0e-87d6-f5728c0fa529')\"\n",
              "            title=\"Convert this dataframe to an interactive table.\"\n",
              "            style=\"display:none;\">\n",
              "\n",
              "  <svg xmlns=\"http://www.w3.org/2000/svg\" height=\"24px\" viewBox=\"0 -960 960 960\">\n",
              "    <path d=\"M120-120v-720h720v720H120Zm60-500h600v-160H180v160Zm220 220h160v-160H400v160Zm0 220h160v-160H400v160ZM180-400h160v-160H180v160Zm440 0h160v-160H620v160ZM180-180h160v-160H180v160Zm440 0h160v-160H620v160Z\"/>\n",
              "  </svg>\n",
              "    </button>\n",
              "\n",
              "  <style>\n",
              "    .colab-df-container {\n",
              "      display:flex;\n",
              "      gap: 12px;\n",
              "    }\n",
              "\n",
              "    .colab-df-convert {\n",
              "      background-color: #E8F0FE;\n",
              "      border: none;\n",
              "      border-radius: 50%;\n",
              "      cursor: pointer;\n",
              "      display: none;\n",
              "      fill: #1967D2;\n",
              "      height: 32px;\n",
              "      padding: 0 0 0 0;\n",
              "      width: 32px;\n",
              "    }\n",
              "\n",
              "    .colab-df-convert:hover {\n",
              "      background-color: #E2EBFA;\n",
              "      box-shadow: 0px 1px 2px rgba(60, 64, 67, 0.3), 0px 1px 3px 1px rgba(60, 64, 67, 0.15);\n",
              "      fill: #174EA6;\n",
              "    }\n",
              "\n",
              "    .colab-df-buttons div {\n",
              "      margin-bottom: 4px;\n",
              "    }\n",
              "\n",
              "    [theme=dark] .colab-df-convert {\n",
              "      background-color: #3B4455;\n",
              "      fill: #D2E3FC;\n",
              "    }\n",
              "\n",
              "    [theme=dark] .colab-df-convert:hover {\n",
              "      background-color: #434B5C;\n",
              "      box-shadow: 0px 1px 3px 1px rgba(0, 0, 0, 0.15);\n",
              "      filter: drop-shadow(0px 1px 2px rgba(0, 0, 0, 0.3));\n",
              "      fill: #FFFFFF;\n",
              "    }\n",
              "  </style>\n",
              "\n",
              "    <script>\n",
              "      const buttonEl =\n",
              "        document.querySelector('#df-f91f61e4-fe52-4b0e-87d6-f5728c0fa529 button.colab-df-convert');\n",
              "      buttonEl.style.display =\n",
              "        google.colab.kernel.accessAllowed ? 'block' : 'none';\n",
              "\n",
              "      async function convertToInteractive(key) {\n",
              "        const element = document.querySelector('#df-f91f61e4-fe52-4b0e-87d6-f5728c0fa529');\n",
              "        const dataTable =\n",
              "          await google.colab.kernel.invokeFunction('convertToInteractive',\n",
              "                                                    [key], {});\n",
              "        if (!dataTable) return;\n",
              "\n",
              "        const docLinkHtml = 'Like what you see? Visit the ' +\n",
              "          '<a target=\"_blank\" href=https://colab.research.google.com/notebooks/data_table.ipynb>data table notebook</a>'\n",
              "          + ' to learn more about interactive tables.';\n",
              "        element.innerHTML = '';\n",
              "        dataTable['output_type'] = 'display_data';\n",
              "        await google.colab.output.renderOutput(dataTable, element);\n",
              "        const docLink = document.createElement('div');\n",
              "        docLink.innerHTML = docLinkHtml;\n",
              "        element.appendChild(docLink);\n",
              "      }\n",
              "    </script>\n",
              "  </div>\n",
              "\n",
              "\n",
              "<div id=\"df-a5c45acc-1ca4-4a64-af5d-ab02772b9ac0\">\n",
              "  <button class=\"colab-df-quickchart\" onclick=\"quickchart('df-a5c45acc-1ca4-4a64-af5d-ab02772b9ac0')\"\n",
              "            title=\"Suggest charts\"\n",
              "            style=\"display:none;\">\n",
              "\n",
              "<svg xmlns=\"http://www.w3.org/2000/svg\" height=\"24px\"viewBox=\"0 0 24 24\"\n",
              "     width=\"24px\">\n",
              "    <g>\n",
              "        <path d=\"M19 3H5c-1.1 0-2 .9-2 2v14c0 1.1.9 2 2 2h14c1.1 0 2-.9 2-2V5c0-1.1-.9-2-2-2zM9 17H7v-7h2v7zm4 0h-2V7h2v10zm4 0h-2v-4h2v4z\"/>\n",
              "    </g>\n",
              "</svg>\n",
              "  </button>\n",
              "\n",
              "<style>\n",
              "  .colab-df-quickchart {\n",
              "      --bg-color: #E8F0FE;\n",
              "      --fill-color: #1967D2;\n",
              "      --hover-bg-color: #E2EBFA;\n",
              "      --hover-fill-color: #174EA6;\n",
              "      --disabled-fill-color: #AAA;\n",
              "      --disabled-bg-color: #DDD;\n",
              "  }\n",
              "\n",
              "  [theme=dark] .colab-df-quickchart {\n",
              "      --bg-color: #3B4455;\n",
              "      --fill-color: #D2E3FC;\n",
              "      --hover-bg-color: #434B5C;\n",
              "      --hover-fill-color: #FFFFFF;\n",
              "      --disabled-bg-color: #3B4455;\n",
              "      --disabled-fill-color: #666;\n",
              "  }\n",
              "\n",
              "  .colab-df-quickchart {\n",
              "    background-color: var(--bg-color);\n",
              "    border: none;\n",
              "    border-radius: 50%;\n",
              "    cursor: pointer;\n",
              "    display: none;\n",
              "    fill: var(--fill-color);\n",
              "    height: 32px;\n",
              "    padding: 0;\n",
              "    width: 32px;\n",
              "  }\n",
              "\n",
              "  .colab-df-quickchart:hover {\n",
              "    background-color: var(--hover-bg-color);\n",
              "    box-shadow: 0 1px 2px rgba(60, 64, 67, 0.3), 0 1px 3px 1px rgba(60, 64, 67, 0.15);\n",
              "    fill: var(--button-hover-fill-color);\n",
              "  }\n",
              "\n",
              "  .colab-df-quickchart-complete:disabled,\n",
              "  .colab-df-quickchart-complete:disabled:hover {\n",
              "    background-color: var(--disabled-bg-color);\n",
              "    fill: var(--disabled-fill-color);\n",
              "    box-shadow: none;\n",
              "  }\n",
              "\n",
              "  .colab-df-spinner {\n",
              "    border: 2px solid var(--fill-color);\n",
              "    border-color: transparent;\n",
              "    border-bottom-color: var(--fill-color);\n",
              "    animation:\n",
              "      spin 1s steps(1) infinite;\n",
              "  }\n",
              "\n",
              "  @keyframes spin {\n",
              "    0% {\n",
              "      border-color: transparent;\n",
              "      border-bottom-color: var(--fill-color);\n",
              "      border-left-color: var(--fill-color);\n",
              "    }\n",
              "    20% {\n",
              "      border-color: transparent;\n",
              "      border-left-color: var(--fill-color);\n",
              "      border-top-color: var(--fill-color);\n",
              "    }\n",
              "    30% {\n",
              "      border-color: transparent;\n",
              "      border-left-color: var(--fill-color);\n",
              "      border-top-color: var(--fill-color);\n",
              "      border-right-color: var(--fill-color);\n",
              "    }\n",
              "    40% {\n",
              "      border-color: transparent;\n",
              "      border-right-color: var(--fill-color);\n",
              "      border-top-color: var(--fill-color);\n",
              "    }\n",
              "    60% {\n",
              "      border-color: transparent;\n",
              "      border-right-color: var(--fill-color);\n",
              "    }\n",
              "    80% {\n",
              "      border-color: transparent;\n",
              "      border-right-color: var(--fill-color);\n",
              "      border-bottom-color: var(--fill-color);\n",
              "    }\n",
              "    90% {\n",
              "      border-color: transparent;\n",
              "      border-bottom-color: var(--fill-color);\n",
              "    }\n",
              "  }\n",
              "</style>\n",
              "\n",
              "  <script>\n",
              "    async function quickchart(key) {\n",
              "      const quickchartButtonEl =\n",
              "        document.querySelector('#' + key + ' button');\n",
              "      quickchartButtonEl.disabled = true;  // To prevent multiple clicks.\n",
              "      quickchartButtonEl.classList.add('colab-df-spinner');\n",
              "      try {\n",
              "        const charts = await google.colab.kernel.invokeFunction(\n",
              "            'suggestCharts', [key], {});\n",
              "      } catch (error) {\n",
              "        console.error('Error during call to suggestCharts:', error);\n",
              "      }\n",
              "      quickchartButtonEl.classList.remove('colab-df-spinner');\n",
              "      quickchartButtonEl.classList.add('colab-df-quickchart-complete');\n",
              "    }\n",
              "    (() => {\n",
              "      let quickchartButtonEl =\n",
              "        document.querySelector('#df-a5c45acc-1ca4-4a64-af5d-ab02772b9ac0 button');\n",
              "      quickchartButtonEl.style.display =\n",
              "        google.colab.kernel.accessAllowed ? 'block' : 'none';\n",
              "    })();\n",
              "  </script>\n",
              "</div>\n",
              "\n",
              "    </div>\n",
              "  </div>\n"
            ],
            "application/vnd.google.colaboratory.intrinsic+json": {
              "type": "dataframe",
              "repr_error": "0"
            }
          },
          "metadata": {},
          "execution_count": 181
        }
      ]
    }
  ],
  "metadata": {
    "colab": {
      "provenance": [],
      "collapsed_sections": [
        "U4CT2jX2l7VG",
        "7LadYc54mQfk",
        "4HRilzDYLtU-",
        "plmlFjaEL1f6",
        "nVwQiukKSqX4",
        "m01V4XJRWBVp",
        "Gr-lmMpnmK3B",
        "thufWHwcJxgf"
      ],
      "toc_visible": true,
      "include_colab_link": true
    },
    "kernelspec": {
      "display_name": "Python 3",
      "name": "python3"
    },
    "language_info": {
      "name": "python"
    }
  },
  "nbformat": 4,
  "nbformat_minor": 0
}